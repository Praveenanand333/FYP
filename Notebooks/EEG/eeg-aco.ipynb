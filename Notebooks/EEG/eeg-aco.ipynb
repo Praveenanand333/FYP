{
 "cells": [
  {
   "cell_type": "code",
   "execution_count": 1,
   "id": "03b07f84",
   "metadata": {
    "execution": {
     "iopub.execute_input": "2024-10-28T04:33:05.278024Z",
     "iopub.status.busy": "2024-10-28T04:33:05.277631Z",
     "iopub.status.idle": "2024-10-28T04:33:20.262157Z",
     "shell.execute_reply": "2024-10-28T04:33:20.261203Z"
    },
    "papermill": {
     "duration": 14.991689,
     "end_time": "2024-10-28T04:33:20.264530",
     "exception": false,
     "start_time": "2024-10-28T04:33:05.272841",
     "status": "completed"
    },
    "tags": []
   },
   "outputs": [
    {
     "name": "stdout",
     "output_type": "stream",
     "text": [
      "Collecting pyswarm\r\n",
      "  Downloading pyswarm-0.6.tar.gz (4.3 kB)\r\n",
      "  Preparing metadata (setup.py) ... \u001b[?25l-\b \bdone\r\n",
      "\u001b[?25hRequirement already satisfied: numpy in /opt/conda/lib/python3.10/site-packages (from pyswarm) (1.26.4)\r\n",
      "Building wheels for collected packages: pyswarm\r\n",
      "  Building wheel for pyswarm (setup.py) ... \u001b[?25l-\b \b\\\b \bdone\r\n",
      "\u001b[?25h  Created wheel for pyswarm: filename=pyswarm-0.6-py3-none-any.whl size=4464 sha256=9897bc429a7c12204d90269cefc8d7e4d4421b01c98416b8fef4e4472caa5591\r\n",
      "  Stored in directory: /root/.cache/pip/wheels/71/67/40/62fa158f497f942277cbab8199b05cb61c571ab324e67ad0d6\r\n",
      "Successfully built pyswarm\r\n",
      "Installing collected packages: pyswarm\r\n",
      "Successfully installed pyswarm-0.6\r\n"
     ]
    }
   ],
   "source": [
    "!pip install pyswarm"
   ]
  },
  {
   "cell_type": "code",
   "execution_count": 2,
   "id": "9f8dd593",
   "metadata": {
    "execution": {
     "iopub.execute_input": "2024-10-28T04:33:20.273747Z",
     "iopub.status.busy": "2024-10-28T04:33:20.273388Z",
     "iopub.status.idle": "2024-10-28T04:33:34.873564Z",
     "shell.execute_reply": "2024-10-28T04:33:34.872784Z"
    },
    "papermill": {
     "duration": 14.607342,
     "end_time": "2024-10-28T04:33:34.875926",
     "exception": false,
     "start_time": "2024-10-28T04:33:20.268584",
     "status": "completed"
    },
    "tags": []
   },
   "outputs": [],
   "source": [
    "from keras.models import Sequential\n",
    "\n",
    "from keras.layers import LSTM, Dropout, Dense\n",
    "\n",
    "from keras.optimizers import Adam\n",
    "\n",
    "from sklearn.metrics import accuracy_score, confusion_matrix\n",
    "\n",
    "from pyswarm import pso\n",
    "\n",
    "import numpy as np\n",
    "\n",
    "import numpy as np\n",
    "\n",
    "import pandas as pd\n",
    "\n",
    "import seaborn as sns\n",
    "\n",
    "from sklearn.preprocessing import StandardScaler\n",
    "\n",
    "from sklearn.model_selection import train_test_split\n",
    "\n",
    "from keras.utils import to_categorical\n",
    "\n",
    "import joblib\n",
    "\n",
    "import numpy as np\n",
    "\n",
    "import tensorflow as tf\n",
    "\n",
    "from tensorflow.keras.models import Sequential\n",
    "\n",
    "from tensorflow.keras.layers import Conv1D, MaxPooling1D, Flatten, Dense, Dropout\n",
    "\n",
    "from tensorflow.keras.utils import to_categorical\n",
    "\n",
    "from sklearn.preprocessing import StandardScaler\n",
    "\n",
    "from sklearn.model_selection import train_test_split\n",
    "\n",
    "from sklearn.metrics import accuracy_score, confusion_matrix\n",
    "\n",
    "from tensorflow.keras.layers import LSTM\n",
    "\n",
    "tf.keras.backend.clear_session()"
   ]
  },
  {
   "cell_type": "code",
   "execution_count": 3,
   "id": "21b99de1",
   "metadata": {
    "execution": {
     "iopub.execute_input": "2024-10-28T04:33:34.885167Z",
     "iopub.status.busy": "2024-10-28T04:33:34.884648Z",
     "iopub.status.idle": "2024-10-28T04:33:36.528506Z",
     "shell.execute_reply": "2024-10-28T04:33:36.527682Z"
    },
    "papermill": {
     "duration": 1.650992,
     "end_time": "2024-10-28T04:33:36.530881",
     "exception": false,
     "start_time": "2024-10-28T04:33:34.879889",
     "status": "completed"
    },
    "tags": []
   },
   "outputs": [],
   "source": [
    "df=pd.read_csv('/kaggle/input/eeg-data/preprocessed_dataset.csv')"
   ]
  },
  {
   "cell_type": "code",
   "execution_count": 4,
   "id": "890c0ab0",
   "metadata": {
    "execution": {
     "iopub.execute_input": "2024-10-28T04:33:36.539932Z",
     "iopub.status.busy": "2024-10-28T04:33:36.539505Z",
     "iopub.status.idle": "2024-10-28T04:33:36.856416Z",
     "shell.execute_reply": "2024-10-28T04:33:36.855540Z"
    },
    "papermill": {
     "duration": 0.323684,
     "end_time": "2024-10-28T04:33:36.858493",
     "exception": false,
     "start_time": "2024-10-28T04:33:36.534809",
     "status": "completed"
    },
    "tags": []
   },
   "outputs": [
    {
     "name": "stderr",
     "output_type": "stream",
     "text": [
      "/tmp/ipykernel_23/3239923930.py:11: FutureWarning: Downcasting behavior in `replace` is deprecated and will be removed in a future version. To retain the old behavior, explicitly call `result.infer_objects(copy=False)`. To opt-in to the future behavior, set `pd.set_option('future.no_silent_downcasting', True)`\n",
      "  df_encoded = df.replace(encode)\n"
     ]
    },
    {
     "data": {
      "image/png": "[encoded data removed]",
      "text/plain": [
       "<Figure size 640x480 with 1 Axes>"
      ]
     },
     "metadata": {},
     "output_type": "display_data"
    }
   ],
   "source": [
    "sns.countplot(x='label', data=df)\n",
    "\n",
    "\n",
    "\n",
    "# df.isnull().sum().sum()\n",
    "\n",
    "\n",
    "\n",
    "encode = ({'NEUTRAL': 0, 'POSITIVE': 1, 'NEGATIVE': 0} )\n",
    "\n",
    "df_encoded = df.replace(encode)\n",
    "\n",
    "\n",
    "\n",
    "X=df_encoded.drop([\"label\"]  ,axis=1)\n",
    "\n",
    "y = df_encoded.loc[:,'label'].values"
   ]
  },
  {
   "cell_type": "code",
   "execution_count": 5,
   "id": "d3277977",
   "metadata": {
    "execution": {
     "iopub.execute_input": "2024-10-28T04:33:36.867836Z",
     "iopub.status.busy": "2024-10-28T04:33:36.867506Z",
     "iopub.status.idle": "2024-10-28T04:33:36.886271Z",
     "shell.execute_reply": "2024-10-28T04:33:36.885526Z"
    },
    "papermill": {
     "duration": 0.025653,
     "end_time": "2024-10-28T04:33:36.888257",
     "exception": false,
     "start_time": "2024-10-28T04:33:36.862604",
     "status": "completed"
    },
    "tags": []
   },
   "outputs": [],
   "source": [
    "X_orig=df_encoded.drop([\"label\"]  ,axis=1)\n",
    "\n",
    "y_orig = to_categorical(df_encoded.loc[:,'label'].values)"
   ]
  },
  {
   "cell_type": "code",
   "execution_count": 6,
   "id": "af549d51",
   "metadata": {
    "execution": {
     "iopub.execute_input": "2024-10-28T04:33:36.897775Z",
     "iopub.status.busy": "2024-10-28T04:33:36.897405Z",
     "iopub.status.idle": "2024-10-28T04:33:37.111710Z",
     "shell.execute_reply": "2024-10-28T04:33:37.110684Z"
    },
    "papermill": {
     "duration": 0.221449,
     "end_time": "2024-10-28T04:33:37.113868",
     "exception": false,
     "start_time": "2024-10-28T04:33:36.892419",
     "status": "completed"
    },
    "tags": []
   },
   "outputs": [
    {
     "name": "stdout",
     "output_type": "stream",
     "text": [
      "(1705, 2548)\n",
      "X_train  shape: (1705, 1, 2548)\n",
      "X_test  shape: (427, 1, 2548)\n",
      "(1705, 2)\n",
      "(427, 2)\n"
     ]
    }
   ],
   "source": [
    "scaler = StandardScaler()\n",
    "\n",
    "scaler.fit(X)\n",
    "\n",
    "X = scaler.transform(X)\n",
    "\n",
    "y = to_categorical(y)\n",
    "\n",
    "# print(y.shape)\n",
    "\n",
    "X_train, X_test, y_train, y_test = train_test_split(X, y, test_size = 0.2, random_state = 42)\n",
    "\n",
    "print(X_train.shape)\n",
    "\n",
    "X_train = np.reshape(X_train, (X_train.shape[0],1,X.shape[1]))\n",
    "\n",
    "X_test = np.reshape(X_test, (X_test.shape[0],1,X.shape[1]))\n",
    "\n",
    "print(f\"X_train  shape: {X_train.shape}\")\n",
    "\n",
    "print(f\"X_test  shape: {X_test.shape}\")\n",
    "\n",
    "print(y_train.shape)  # Should be (num_samples, num_classes)\n",
    "\n",
    "print(y_test.shape)\n"
   ]
  },
  {
   "cell_type": "code",
   "execution_count": 7,
   "id": "4e254ff0",
   "metadata": {
    "execution": {
     "iopub.execute_input": "2024-10-28T04:33:37.124910Z",
     "iopub.status.busy": "2024-10-28T04:33:37.124563Z",
     "iopub.status.idle": "2024-10-28T04:50:14.190111Z",
     "shell.execute_reply": "2024-10-28T04:50:14.188946Z"
    },
    "papermill": {
     "duration": 997.074082,
     "end_time": "2024-10-28T04:50:14.192160",
     "exception": false,
     "start_time": "2024-10-28T04:33:37.118078",
     "status": "completed"
    },
    "tags": []
   },
   "outputs": [
    {
     "name": "stderr",
     "output_type": "stream",
     "text": [
      "/opt/conda/lib/python3.10/site-packages/keras/src/layers/rnn/rnn.py:204: UserWarning: Do not pass an `input_shape`/`input_dim` argument to a layer. When using Sequential models, prefer using an `Input(shape)` object as the first layer in the model instead.\n",
      "  super().__init__(**kwargs)\n",
      "WARNING: All log messages before absl::InitializeLog() is called are written to STDERR\n",
      "I0000 00:00:1730090021.906917      77 service.cc:145] XLA service 0x5934a88894c0 initialized for platform CUDA (this does not guarantee that XLA will be used). Devices:\n",
      "I0000 00:00:1730090021.906967      77 service.cc:153]   StreamExecutor device (0): Tesla P100-PCIE-16GB, Compute Capability 6.0\n",
      "I0000 00:00:1730090027.392657      77 device_compiler.h:188] Compiled cluster using XLA!  This line is logged at most once for the lifetime of the process.\n"
     ]
    },
    {
     "name": "stdout",
     "output_type": "stream",
     "text": [
      "Best Accuracy after ACO: 0.9929742217063904\n",
      "Best Parameters: {'lstm_units': 128, 'dropout_rate': 0.2, 'learning_rate': 0.001}\n",
      "\u001b[1m14/14\u001b[0m \u001b[32m━━━━━━━━━━━━━━━━━━━━\u001b[0m\u001b[37m\u001b[0m \u001b[1m1s\u001b[0m 55ms/step\n",
      "Confusion Matrix:\n",
      " [[290   1]\n",
      " [  2 134]]\n"
     ]
    }
   ],
   "source": [
    "import numpy as np\n",
    "from keras.models import Sequential\n",
    "from keras.layers import LSTM, Dropout, Dense\n",
    "from keras.optimizers import Adam\n",
    "from sklearn.metrics import confusion_matrix\n",
    "from sklearn.model_selection import train_test_split\n",
    "import random\n",
    "\n",
    "# Assuming ACO utility functions for hyperparameter selection\n",
    "\n",
    "# Define ranges for hyperparameters\n",
    "lstm_units_options = [32, 64, 128]\n",
    "dropout_rate_options = [0.2, 0.3, 0.4]\n",
    "learning_rate_options = [0.001, 0.005, 0.01]\n",
    "\n",
    "# Define ACO parameters\n",
    "num_ants = 10\n",
    "num_generations = 5\n",
    "alpha = 1.0  # pheromone importance\n",
    "beta = 1.0   # heuristic importance\n",
    "evaporation_rate = 0.5\n",
    "\n",
    "# Initialize pheromone levels\n",
    "pheromone_levels = {\n",
    "    'lstm_units': np.ones(len(lstm_units_options)),\n",
    "    'dropout_rate': np.ones(len(dropout_rate_options)),\n",
    "    'learning_rate': np.ones(len(learning_rate_options))\n",
    "}\n",
    "\n",
    "# Define fitness function\n",
    "def evaluate_model(lstm_units, dropout_rate, learning_rate):\n",
    "    model = Sequential([\n",
    "        LSTM(lstm_units, input_shape=(1, 2548), activation=\"relu\", return_sequences=True),\n",
    "        Dropout(dropout_rate),\n",
    "        LSTM(lstm_units // 2, activation=\"relu\", return_sequences=True),\n",
    "        Dropout(dropout_rate),\n",
    "        LSTM(lstm_units // 4, activation=\"relu\"),\n",
    "        Dropout(dropout_rate),\n",
    "        Dense(2, activation='sigmoid')\n",
    "    ])\n",
    "\n",
    "    # Compile the model\n",
    "    optimizer = Adam(learning_rate=learning_rate)\n",
    "    model.compile(loss='categorical_crossentropy', optimizer=optimizer, metrics=['accuracy'])\n",
    "    \n",
    "    # Train the model\n",
    "    history = model.fit(X_train, y_train, epochs=20, validation_data=(X_test, y_test), verbose=0)\n",
    "    \n",
    "    # Evaluate the model\n",
    "    score, acc = model.evaluate(X_test, y_test, verbose=0)\n",
    "    return model, acc  # Return model and its accuracy\n",
    "\n",
    "# ACO optimization loop\n",
    "best_model = None\n",
    "best_accuracy = 0.0\n",
    "best_params = {}\n",
    "\n",
    "for generation in range(num_generations):\n",
    "    ant_solutions = []\n",
    "    \n",
    "    for ant in range(num_ants):\n",
    "        # Select parameters based on pheromone probability\n",
    "        lstm_units = random.choices(lstm_units_options, weights=pheromone_levels['lstm_units'])[0]\n",
    "        dropout_rate = random.choices(dropout_rate_options, weights=pheromone_levels['dropout_rate'])[0]\n",
    "        learning_rate = random.choices(learning_rate_options, weights=pheromone_levels['learning_rate'])[0]\n",
    "        \n",
    "        # Evaluate model with chosen parameters\n",
    "        model, acc = evaluate_model(lstm_units, dropout_rate, learning_rate)\n",
    "        \n",
    "        ant_solutions.append((model, acc, {'lstm_units': lstm_units, 'dropout_rate': dropout_rate, 'learning_rate': learning_rate}))\n",
    "        \n",
    "        # Update best model if current model is better\n",
    "        if acc > best_accuracy:\n",
    "            best_model = model\n",
    "            best_accuracy = acc\n",
    "            best_params = {'lstm_units': lstm_units, 'dropout_rate': dropout_rate, 'learning_rate': learning_rate}\n",
    "    \n",
    "    # Update pheromone levels\n",
    "    for param, options in [('lstm_units', lstm_units_options), ('dropout_rate', dropout_rate_options), ('learning_rate', learning_rate_options)]:\n",
    "        for i, option in enumerate(options):\n",
    "            # Calculate pheromone update based on ant solutions\n",
    "            pheromone_increase = sum(acc for model, acc, params in ant_solutions if params[param] == option) / num_ants\n",
    "            pheromone_levels[param][i] = (1 - evaporation_rate) * pheromone_levels[param][i] + pheromone_increase\n",
    "\n",
    "# Save best model and print results\n",
    "best_model.save(\"../../Models/EEG/best_lstm_aco_model.h5\")\n",
    "print(f\"Best Accuracy after ACO: {best_accuracy}\")\n",
    "print(f\"Best Parameters: {best_params}\")\n",
    "\n",
    "# Predict and calculate confusion matrix\n",
    "pred = best_model.predict(X_test)\n",
    "predicted_classes = np.argmax(pred, axis=1)\n",
    "expected_classes = np.argmax(y_test, axis=1)\n",
    "conf_matrix = confusion_matrix(expected_classes, predicted_classes)\n",
    "print(\"Confusion Matrix:\\n\", conf_matrix)\n"
   ]
  },
  {
   "cell_type": "code",
   "execution_count": null,
   "id": "645a7567",
   "metadata": {
    "papermill": {
     "duration": 0.004617,
     "end_time": "2024-10-28T04:50:14.201683",
     "exception": false,
     "start_time": "2024-10-28T04:50:14.197066",
     "status": "completed"
    },
    "tags": []
   },
   "outputs": [],
   "source": []
  }
 ],
 "metadata": {
  "kaggle": {
   "accelerator": "gpu",
   "dataSources": [
    {
     "datasetId": 5855338,
     "sourceId": 9598491,
     "sourceType": "datasetVersion"
    }
   ],
   "dockerImageVersionId": 30787,
   "isGpuEnabled": true,
   "isInternetEnabled": true,
   "language": "python",
   "sourceType": "notebook"
  },
  "kernelspec": {
   "display_name": "Python 3",
   "language": "python",
   "name": "python3"
  },
  "language_info": {
   "codemirror_mode": {
    "name": "ipython",
    "version": 3
   },
   "file_extension": ".py",
   "mimetype": "text/x-python",
   "name": "python",
   "nbconvert_exporter": "python",
   "pygments_lexer": "ipython3",
   "version": "3.10.14"
  },
  "papermill": {
   "default_parameters": {},
   "duration": 1034.818013,
   "end_time": "2024-10-28T04:50:17.326856",
   "environment_variables": {},
   "exception": null,
   "input_path": "__notebook__.ipynb",
   "output_path": "__notebook__.ipynb",
   "parameters": {},
   "start_time": "2024-10-28T04:33:02.508843",
   "version": "2.6.0"
  }
 },
 "nbformat": 4,
 "nbformat_minor": 5
}
