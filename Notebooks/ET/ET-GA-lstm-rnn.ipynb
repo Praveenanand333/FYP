{
 "cells": [
  {
   "cell_type": "code",
   "execution_count": 1,
   "id": "33e28876",
   "metadata": {
    "_cell_guid": "b1076dfc-b9ad-4769-8c92-a6c4dae69d19",
    "_uuid": "8f2839f25d086af736a60e9eeb907d3b93b6e0e5",
    "execution": {
     "iopub.execute_input": "2024-11-07T18:03:13.099659Z",
     "iopub.status.busy": "2024-11-07T18:03:13.099357Z",
     "iopub.status.idle": "2024-11-07T18:03:13.736868Z",
     "shell.execute_reply": "2024-11-07T18:03:13.735873Z"
    },
    "papermill": {
     "duration": 0.651231,
     "end_time": "2024-11-07T18:03:13.739132",
     "exception": false,
     "start_time": "2024-11-07T18:03:13.087901",
     "status": "completed"
    },
    "tags": []
   },
   "outputs": [
    {
     "name": "stdout",
     "output_type": "stream",
     "text": [
      "/kaggle/input/eye-tracking-autism/Metadata_Participants.csv\n",
      "/kaggle/input/eye-tracking-autism/Eye-tracking Output/18.csv\n",
      "/kaggle/input/eye-tracking-autism/Eye-tracking Output/20.csv\n",
      "/kaggle/input/eye-tracking-autism/Eye-tracking Output/1.csv\n",
      "/kaggle/input/eye-tracking-autism/Eye-tracking Output/24.csv\n",
      "/kaggle/input/eye-tracking-autism/Eye-tracking Output/11.csv\n",
      "/kaggle/input/eye-tracking-autism/Eye-tracking Output/17.csv\n",
      "/kaggle/input/eye-tracking-autism/Eye-tracking Output/16.csv\n",
      "/kaggle/input/eye-tracking-autism/Eye-tracking Output/3.csv\n",
      "/kaggle/input/eye-tracking-autism/Eye-tracking Output/19.csv\n",
      "/kaggle/input/eye-tracking-autism/Eye-tracking Output/5.csv\n",
      "/kaggle/input/eye-tracking-autism/Eye-tracking Output/2.csv\n",
      "/kaggle/input/eye-tracking-autism/Eye-tracking Output/13.csv\n",
      "/kaggle/input/eye-tracking-autism/Eye-tracking Output/23.csv\n",
      "/kaggle/input/eye-tracking-autism/Eye-tracking Output/14.csv\n",
      "/kaggle/input/eye-tracking-autism/Eye-tracking Output/4.csv\n",
      "/kaggle/input/eye-tracking-autism/Eye-tracking Output/22.csv\n",
      "/kaggle/input/eye-tracking-autism/Eye-tracking Output/8.csv\n",
      "/kaggle/input/eye-tracking-autism/Eye-tracking Output/12.csv\n",
      "/kaggle/input/eye-tracking-autism/Eye-tracking Output/9.csv\n",
      "/kaggle/input/eye-tracking-autism/Eye-tracking Output/7.csv\n",
      "/kaggle/input/eye-tracking-autism/Eye-tracking Output/15.csv\n",
      "/kaggle/input/eye-tracking-autism/Eye-tracking Output/6.csv\n",
      "/kaggle/input/eye-tracking-autism/Eye-tracking Output/10.csv\n",
      "/kaggle/input/eye-tracking-autism/Eye-tracking Output/25.csv\n",
      "/kaggle/input/eye-tracking-autism/Eye-tracking Output/21.csv\n"
     ]
    }
   ],
   "source": [
    "# This Python 3 environment comes with many helpful analytics libraries installed\n",
    "# It is defined by the kaggle/python Docker image: https://github.com/kaggle/docker-python\n",
    "# For example, here's several helpful packages to load\n",
    "\n",
    "import numpy as np # linear algebra\n",
    "import pandas as pd # data processing, CSV file I/O (e.g. pd.read_csv)\n",
    "\n",
    "# Input data files are available in the read-only \"../input/\" directory\n",
    "# For example, running this (by clicking run or pressing Shift+Enter) will list all files under the input directory\n",
    "\n",
    "import os\n",
    "for dirname, _, filenames in os.walk('/kaggle/input'):\n",
    "    for filename in filenames:\n",
    "        print(os.path.join(dirname, filename))\n",
    "\n",
    "# You can write up to 20GB to the current directory (/kaggle/working/) that gets preserved as output when you create a version using \"Save & Run All\" \n",
    "# You can also write temporary files to /kaggle/temp/, but they won't be saved outside of the current session"
   ]
  },
  {
   "cell_type": "code",
   "execution_count": 2,
   "id": "d18d4f74",
   "metadata": {
    "execution": {
     "iopub.execute_input": "2024-11-07T18:03:13.756747Z",
     "iopub.status.busy": "2024-11-07T18:03:13.756365Z",
     "iopub.status.idle": "2024-11-07T18:03:13.760518Z",
     "shell.execute_reply": "2024-11-07T18:03:13.759742Z"
    },
    "papermill": {
     "duration": 0.014861,
     "end_time": "2024-11-07T18:03:13.762323",
     "exception": false,
     "start_time": "2024-11-07T18:03:13.747462",
     "status": "completed"
    },
    "tags": []
   },
   "outputs": [],
   "source": [
    "import numpy as np\n",
    "import pandas as pd\n",
    "import warnings\n",
    "warnings.filterwarnings('ignore')"
   ]
  },
  {
   "cell_type": "code",
   "execution_count": 3,
   "id": "c677342d",
   "metadata": {
    "execution": {
     "iopub.execute_input": "2024-11-07T18:03:13.780352Z",
     "iopub.status.busy": "2024-11-07T18:03:13.780034Z",
     "iopub.status.idle": "2024-11-07T18:04:04.227980Z",
     "shell.execute_reply": "2024-11-07T18:04:04.226998Z"
    },
    "papermill": {
     "duration": 50.468838,
     "end_time": "2024-11-07T18:04:04.239088",
     "exception": false,
     "start_time": "2024-11-07T18:03:13.770250",
     "status": "completed"
    },
    "tags": []
   },
   "outputs": [
    {
     "data": {
      "text/html": [
       "<div>\n",
       "<style scoped>\n",
       "    .dataframe tbody tr th:only-of-type {\n",
       "        vertical-align: middle;\n",
       "    }\n",
       "\n",
       "    .dataframe tbody tr th {\n",
       "        vertical-align: top;\n",
       "    }\n",
       "\n",
       "    .dataframe thead th {\n",
       "        text-align: right;\n",
       "    }\n",
       "</style>\n",
       "<table border=\"1\" class=\"dataframe\">\n",
       "  <thead>\n",
       "    <tr style=\"text-align: right;\">\n",
       "      <th></th>\n",
       "      <th>Unnamed: 0</th>\n",
       "      <th>RecordingTime [ms]</th>\n",
       "      <th>Time of Day [h:m:s:ms]</th>\n",
       "      <th>Trial</th>\n",
       "      <th>Stimulus</th>\n",
       "      <th>Export Start Trial Time [ms]</th>\n",
       "      <th>Export End Trial Time [ms]</th>\n",
       "      <th>Participant</th>\n",
       "      <th>Color</th>\n",
       "      <th>Tracking Ratio [%]</th>\n",
       "      <th>...</th>\n",
       "      <th>Pupil Position Left X [px]</th>\n",
       "      <th>Pupil Position Left Y [px]</th>\n",
       "      <th>Port Status</th>\n",
       "      <th>AOI Group Right</th>\n",
       "      <th>AOI Scope Right</th>\n",
       "      <th>AOI Order Right</th>\n",
       "      <th>AOI Group Left</th>\n",
       "      <th>AOI Scope Left</th>\n",
       "      <th>AOI Order Binocular</th>\n",
       "      <th>groupe d'enfants</th>\n",
       "    </tr>\n",
       "  </thead>\n",
       "  <tbody>\n",
       "    <tr>\n",
       "      <th>0</th>\n",
       "      <td>0</td>\n",
       "      <td>4780015.315</td>\n",
       "      <td>13:22:17:254</td>\n",
       "      <td>Trial020</td>\n",
       "      <td>20 eye tracking (ballon droite).avi</td>\n",
       "      <td>0.0</td>\n",
       "      <td>52058.676</td>\n",
       "      <td>50</td>\n",
       "      <td>Coral</td>\n",
       "      <td>78.5652</td>\n",
       "      <td>...</td>\n",
       "      <td>NaN</td>\n",
       "      <td>NaN</td>\n",
       "      <td>NaN</td>\n",
       "      <td>NaN</td>\n",
       "      <td>NaN</td>\n",
       "      <td>NaN</td>\n",
       "      <td>NaN</td>\n",
       "      <td>NaN</td>\n",
       "      <td>NaN</td>\n",
       "      <td>NaN</td>\n",
       "    </tr>\n",
       "    <tr>\n",
       "      <th>1</th>\n",
       "      <td>1</td>\n",
       "      <td>4780020.865</td>\n",
       "      <td>13:22:17:260</td>\n",
       "      <td>Trial020</td>\n",
       "      <td>20 eye tracking (ballon droite).avi</td>\n",
       "      <td>0.0</td>\n",
       "      <td>52058.676</td>\n",
       "      <td>50</td>\n",
       "      <td>Coral</td>\n",
       "      <td>78.5652</td>\n",
       "      <td>...</td>\n",
       "      <td>NaN</td>\n",
       "      <td>NaN</td>\n",
       "      <td>NaN</td>\n",
       "      <td>NaN</td>\n",
       "      <td>NaN</td>\n",
       "      <td>NaN</td>\n",
       "      <td>NaN</td>\n",
       "      <td>NaN</td>\n",
       "      <td>NaN</td>\n",
       "      <td>NaN</td>\n",
       "    </tr>\n",
       "    <tr>\n",
       "      <th>2</th>\n",
       "      <td>2</td>\n",
       "      <td>4780040.758</td>\n",
       "      <td>13:22:17:279</td>\n",
       "      <td>Trial020</td>\n",
       "      <td>20 eye tracking (ballon droite).avi</td>\n",
       "      <td>0.0</td>\n",
       "      <td>52058.676</td>\n",
       "      <td>50</td>\n",
       "      <td>Coral</td>\n",
       "      <td>78.5652</td>\n",
       "      <td>...</td>\n",
       "      <td>NaN</td>\n",
       "      <td>NaN</td>\n",
       "      <td>NaN</td>\n",
       "      <td>NaN</td>\n",
       "      <td>NaN</td>\n",
       "      <td>NaN</td>\n",
       "      <td>NaN</td>\n",
       "      <td>NaN</td>\n",
       "      <td>NaN</td>\n",
       "      <td>NaN</td>\n",
       "    </tr>\n",
       "    <tr>\n",
       "      <th>3</th>\n",
       "      <td>3</td>\n",
       "      <td>4780080.503</td>\n",
       "      <td>13:22:17:319</td>\n",
       "      <td>Trial020</td>\n",
       "      <td>20 eye tracking (ballon droite).avi</td>\n",
       "      <td>0.0</td>\n",
       "      <td>52058.676</td>\n",
       "      <td>50</td>\n",
       "      <td>Coral</td>\n",
       "      <td>78.5652</td>\n",
       "      <td>...</td>\n",
       "      <td>NaN</td>\n",
       "      <td>NaN</td>\n",
       "      <td>NaN</td>\n",
       "      <td>NaN</td>\n",
       "      <td>NaN</td>\n",
       "      <td>NaN</td>\n",
       "      <td>NaN</td>\n",
       "      <td>NaN</td>\n",
       "      <td>NaN</td>\n",
       "      <td>NaN</td>\n",
       "    </tr>\n",
       "    <tr>\n",
       "      <th>4</th>\n",
       "      <td>4</td>\n",
       "      <td>4780120.360</td>\n",
       "      <td>13:22:17:359</td>\n",
       "      <td>Trial020</td>\n",
       "      <td>20 eye tracking (ballon droite).avi</td>\n",
       "      <td>0.0</td>\n",
       "      <td>52058.676</td>\n",
       "      <td>50</td>\n",
       "      <td>Coral</td>\n",
       "      <td>78.5652</td>\n",
       "      <td>...</td>\n",
       "      <td>NaN</td>\n",
       "      <td>NaN</td>\n",
       "      <td>NaN</td>\n",
       "      <td>NaN</td>\n",
       "      <td>NaN</td>\n",
       "      <td>NaN</td>\n",
       "      <td>NaN</td>\n",
       "      <td>NaN</td>\n",
       "      <td>NaN</td>\n",
       "      <td>NaN</td>\n",
       "    </tr>\n",
       "    <tr>\n",
       "      <th>5</th>\n",
       "      <td>5</td>\n",
       "      <td>4780140.235</td>\n",
       "      <td>13:22:17:379</td>\n",
       "      <td>Trial020</td>\n",
       "      <td>20 eye tracking (ballon droite).avi</td>\n",
       "      <td>0.0</td>\n",
       "      <td>52058.676</td>\n",
       "      <td>50</td>\n",
       "      <td>Coral</td>\n",
       "      <td>78.5652</td>\n",
       "      <td>...</td>\n",
       "      <td>NaN</td>\n",
       "      <td>NaN</td>\n",
       "      <td>NaN</td>\n",
       "      <td>NaN</td>\n",
       "      <td>NaN</td>\n",
       "      <td>NaN</td>\n",
       "      <td>NaN</td>\n",
       "      <td>NaN</td>\n",
       "      <td>NaN</td>\n",
       "      <td>NaN</td>\n",
       "    </tr>\n",
       "    <tr>\n",
       "      <th>6</th>\n",
       "      <td>6</td>\n",
       "      <td>4780160.125</td>\n",
       "      <td>13:22:17:399</td>\n",
       "      <td>Trial020</td>\n",
       "      <td>20 eye tracking (ballon droite).avi</td>\n",
       "      <td>0.0</td>\n",
       "      <td>52058.676</td>\n",
       "      <td>50</td>\n",
       "      <td>Coral</td>\n",
       "      <td>78.5652</td>\n",
       "      <td>...</td>\n",
       "      <td>NaN</td>\n",
       "      <td>NaN</td>\n",
       "      <td>NaN</td>\n",
       "      <td>NaN</td>\n",
       "      <td>NaN</td>\n",
       "      <td>NaN</td>\n",
       "      <td>NaN</td>\n",
       "      <td>NaN</td>\n",
       "      <td>NaN</td>\n",
       "      <td>NaN</td>\n",
       "    </tr>\n",
       "    <tr>\n",
       "      <th>7</th>\n",
       "      <td>7</td>\n",
       "      <td>4780179.991</td>\n",
       "      <td>13:22:17:419</td>\n",
       "      <td>Trial020</td>\n",
       "      <td>20 eye tracking (ballon droite).avi</td>\n",
       "      <td>0.0</td>\n",
       "      <td>52058.676</td>\n",
       "      <td>50</td>\n",
       "      <td>Coral</td>\n",
       "      <td>78.5652</td>\n",
       "      <td>...</td>\n",
       "      <td>NaN</td>\n",
       "      <td>NaN</td>\n",
       "      <td>NaN</td>\n",
       "      <td>NaN</td>\n",
       "      <td>NaN</td>\n",
       "      <td>NaN</td>\n",
       "      <td>NaN</td>\n",
       "      <td>NaN</td>\n",
       "      <td>NaN</td>\n",
       "      <td>NaN</td>\n",
       "    </tr>\n",
       "    <tr>\n",
       "      <th>8</th>\n",
       "      <td>8</td>\n",
       "      <td>4780199.868</td>\n",
       "      <td>13:22:17:439</td>\n",
       "      <td>Trial020</td>\n",
       "      <td>20 eye tracking (ballon droite).avi</td>\n",
       "      <td>0.0</td>\n",
       "      <td>52058.676</td>\n",
       "      <td>50</td>\n",
       "      <td>Coral</td>\n",
       "      <td>78.5652</td>\n",
       "      <td>...</td>\n",
       "      <td>NaN</td>\n",
       "      <td>NaN</td>\n",
       "      <td>NaN</td>\n",
       "      <td>NaN</td>\n",
       "      <td>NaN</td>\n",
       "      <td>NaN</td>\n",
       "      <td>NaN</td>\n",
       "      <td>NaN</td>\n",
       "      <td>NaN</td>\n",
       "      <td>NaN</td>\n",
       "    </tr>\n",
       "    <tr>\n",
       "      <th>9</th>\n",
       "      <td>9</td>\n",
       "      <td>4780219.754</td>\n",
       "      <td>13:22:17:458</td>\n",
       "      <td>Trial020</td>\n",
       "      <td>20 eye tracking (ballon droite).avi</td>\n",
       "      <td>0.0</td>\n",
       "      <td>52058.676</td>\n",
       "      <td>50</td>\n",
       "      <td>Coral</td>\n",
       "      <td>78.5652</td>\n",
       "      <td>...</td>\n",
       "      <td>NaN</td>\n",
       "      <td>NaN</td>\n",
       "      <td>NaN</td>\n",
       "      <td>NaN</td>\n",
       "      <td>NaN</td>\n",
       "      <td>NaN</td>\n",
       "      <td>NaN</td>\n",
       "      <td>NaN</td>\n",
       "      <td>NaN</td>\n",
       "      <td>NaN</td>\n",
       "    </tr>\n",
       "  </tbody>\n",
       "</table>\n",
       "<p>10 rows × 59 columns</p>\n",
       "</div>"
      ],
      "text/plain": [
       "   Unnamed: 0  RecordingTime [ms] Time of Day [h:m:s:ms]     Trial  \\\n",
       "0           0         4780015.315           13:22:17:254  Trial020   \n",
       "1           1         4780020.865           13:22:17:260  Trial020   \n",
       "2           2         4780040.758           13:22:17:279  Trial020   \n",
       "3           3         4780080.503           13:22:17:319  Trial020   \n",
       "4           4         4780120.360           13:22:17:359  Trial020   \n",
       "5           5         4780140.235           13:22:17:379  Trial020   \n",
       "6           6         4780160.125           13:22:17:399  Trial020   \n",
       "7           7         4780179.991           13:22:17:419  Trial020   \n",
       "8           8         4780199.868           13:22:17:439  Trial020   \n",
       "9           9         4780219.754           13:22:17:458  Trial020   \n",
       "\n",
       "                              Stimulus  Export Start Trial Time [ms]  \\\n",
       "0  20 eye tracking (ballon droite).avi                           0.0   \n",
       "1  20 eye tracking (ballon droite).avi                           0.0   \n",
       "2  20 eye tracking (ballon droite).avi                           0.0   \n",
       "3  20 eye tracking (ballon droite).avi                           0.0   \n",
       "4  20 eye tracking (ballon droite).avi                           0.0   \n",
       "5  20 eye tracking (ballon droite).avi                           0.0   \n",
       "6  20 eye tracking (ballon droite).avi                           0.0   \n",
       "7  20 eye tracking (ballon droite).avi                           0.0   \n",
       "8  20 eye tracking (ballon droite).avi                           0.0   \n",
       "9  20 eye tracking (ballon droite).avi                           0.0   \n",
       "\n",
       "   Export End Trial Time [ms] Participant  Color  Tracking Ratio [%]  ...  \\\n",
       "0                   52058.676          50  Coral             78.5652  ...   \n",
       "1                   52058.676          50  Coral             78.5652  ...   \n",
       "2                   52058.676          50  Coral             78.5652  ...   \n",
       "3                   52058.676          50  Coral             78.5652  ...   \n",
       "4                   52058.676          50  Coral             78.5652  ...   \n",
       "5                   52058.676          50  Coral             78.5652  ...   \n",
       "6                   52058.676          50  Coral             78.5652  ...   \n",
       "7                   52058.676          50  Coral             78.5652  ...   \n",
       "8                   52058.676          50  Coral             78.5652  ...   \n",
       "9                   52058.676          50  Coral             78.5652  ...   \n",
       "\n",
       "  Pupil Position Left X [px] Pupil Position Left Y [px] Port Status  \\\n",
       "0                        NaN                        NaN         NaN   \n",
       "1                        NaN                        NaN         NaN   \n",
       "2                        NaN                        NaN         NaN   \n",
       "3                        NaN                        NaN         NaN   \n",
       "4                        NaN                        NaN         NaN   \n",
       "5                        NaN                        NaN         NaN   \n",
       "6                        NaN                        NaN         NaN   \n",
       "7                        NaN                        NaN         NaN   \n",
       "8                        NaN                        NaN         NaN   \n",
       "9                        NaN                        NaN         NaN   \n",
       "\n",
       "  AOI Group Right AOI Scope Right AOI Order Right AOI Group Left  \\\n",
       "0             NaN             NaN             NaN            NaN   \n",
       "1             NaN             NaN             NaN            NaN   \n",
       "2             NaN             NaN             NaN            NaN   \n",
       "3             NaN             NaN             NaN            NaN   \n",
       "4             NaN             NaN             NaN            NaN   \n",
       "5             NaN             NaN             NaN            NaN   \n",
       "6             NaN             NaN             NaN            NaN   \n",
       "7             NaN             NaN             NaN            NaN   \n",
       "8             NaN             NaN             NaN            NaN   \n",
       "9             NaN             NaN             NaN            NaN   \n",
       "\n",
       "  AOI Scope Left AOI Order Binocular groupe d'enfants  \n",
       "0            NaN                 NaN              NaN  \n",
       "1            NaN                 NaN              NaN  \n",
       "2            NaN                 NaN              NaN  \n",
       "3            NaN                 NaN              NaN  \n",
       "4            NaN                 NaN              NaN  \n",
       "5            NaN                 NaN              NaN  \n",
       "6            NaN                 NaN              NaN  \n",
       "7            NaN                 NaN              NaN  \n",
       "8            NaN                 NaN              NaN  \n",
       "9            NaN                 NaN              NaN  \n",
       "\n",
       "[10 rows x 59 columns]"
      ]
     },
     "execution_count": 3,
     "metadata": {},
     "output_type": "execute_result"
    }
   ],
   "source": [
    "All_Observation = pd.DataFrame()\n",
    "for i in range(1,26,1):\n",
    "    file_path = f'/kaggle/input/eye-tracking-autism/Eye-tracking Output/{i}.csv'\n",
    "    observation = pd.read_csv(file_path,low_memory = False)\n",
    "    All_Observation = pd.concat([All_Observation,observation],axis=0,ignore_index=True)\n",
    "\n",
    "All_Observation.head(10)"
   ]
  },
  {
   "cell_type": "code",
   "execution_count": 4,
   "id": "2055b324",
   "metadata": {
    "execution": {
     "iopub.execute_input": "2024-11-07T18:04:04.258021Z",
     "iopub.status.busy": "2024-11-07T18:04:04.257697Z",
     "iopub.status.idle": "2024-11-07T18:04:04.262667Z",
     "shell.execute_reply": "2024-11-07T18:04:04.261686Z"
    },
    "papermill": {
     "duration": 0.017539,
     "end_time": "2024-11-07T18:04:04.265303",
     "exception": false,
     "start_time": "2024-11-07T18:04:04.247764",
     "status": "completed"
    },
    "tags": []
   },
   "outputs": [
    {
     "name": "stdout",
     "output_type": "stream",
     "text": [
      "Number of rows in observations is : 2252943\n",
      "Number of features for observations is : 59\n"
     ]
    }
   ],
   "source": [
    "print('Number of rows in observations is :', All_Observation.shape[0])\n",
    "print('Number of features for observations is :', All_Observation.shape[1])"
   ]
  },
  {
   "cell_type": "code",
   "execution_count": 5,
   "id": "9fa1fe24",
   "metadata": {
    "execution": {
     "iopub.execute_input": "2024-11-07T18:04:04.284361Z",
     "iopub.status.busy": "2024-11-07T18:04:04.284005Z",
     "iopub.status.idle": "2024-11-07T18:04:04.288522Z",
     "shell.execute_reply": "2024-11-07T18:04:04.287660Z"
    },
    "papermill": {
     "duration": 0.016406,
     "end_time": "2024-11-07T18:04:04.290580",
     "exception": false,
     "start_time": "2024-11-07T18:04:04.274174",
     "status": "completed"
    },
    "tags": []
   },
   "outputs": [
    {
     "name": "stdout",
     "output_type": "stream",
     "text": [
      "(2252943, 59)\n"
     ]
    }
   ],
   "source": [
    "print(All_Observation.shape)"
   ]
  },
  {
   "cell_type": "code",
   "execution_count": 6,
   "id": "fdd1acec",
   "metadata": {
    "execution": {
     "iopub.execute_input": "2024-11-07T18:04:04.310129Z",
     "iopub.status.busy": "2024-11-07T18:04:04.309849Z",
     "iopub.status.idle": "2024-11-07T18:04:04.314834Z",
     "shell.execute_reply": "2024-11-07T18:04:04.313957Z"
    },
    "papermill": {
     "duration": 0.017977,
     "end_time": "2024-11-07T18:04:04.317704",
     "exception": false,
     "start_time": "2024-11-07T18:04:04.299727",
     "status": "completed"
    },
    "tags": []
   },
   "outputs": [
    {
     "name": "stdout",
     "output_type": "stream",
     "text": [
      "Feature names are: Index(['Unnamed: 0', 'RecordingTime [ms]', 'Time of Day [h:m:s:ms]', 'Trial',\n",
      "       'Stimulus', 'Export Start Trial Time [ms]',\n",
      "       'Export End Trial Time [ms]', 'Participant', 'Color',\n",
      "       'Tracking Ratio [%]', 'Category Group', 'Category Right',\n",
      "       'Category Left', 'Index Right', 'Index Left',\n",
      "       'Pupil Diameter Right [mm]', 'Pupil Diameter Left [mm]',\n",
      "       'Point of Regard Right X [px]', 'Point of Regard Right Y [px]',\n",
      "       'Point of Regard Left X [px]', 'Point of Regard Left Y [px]',\n",
      "       'AOI Name Right', 'AOI Name Left', 'Gaze Vector Right X',\n",
      "       'Gaze Vector Right Y', 'Gaze Vector Right Z', 'Gaze Vector Left X',\n",
      "       'Gaze Vector Left Y', 'Gaze Vector Left Z', 'Annotation Name',\n",
      "       'Annotation Description', 'Annotation Tags', 'Mouse Position X [px]',\n",
      "       'Mouse Position Y [px]', 'Scroll Direction X', 'Scroll Direction Y',\n",
      "       'Content', 'Pupil Size Right X [px]', 'Pupil Size Right Y [px]',\n",
      "       'Pupil Size Left X [px]', 'Pupil Size Left Y [px]',\n",
      "       'Eye Position Right X [mm]', 'Eye Position Right Y [mm]',\n",
      "       'Eye Position Right Z [mm]', 'Eye Position Left X [mm]',\n",
      "       'Eye Position Left Y [mm]', 'Eye Position Left Z [mm]',\n",
      "       'Pupil Position Right X [px]', 'Pupil Position Right Y [px]',\n",
      "       'Pupil Position Left X [px]', 'Pupil Position Left Y [px]',\n",
      "       'Port Status', 'AOI Group Right', 'AOI Scope Right', 'AOI Order Right',\n",
      "       'AOI Group Left', 'AOI Scope Left', 'AOI Order Binocular',\n",
      "       'groupe d'enfants'],\n",
      "      dtype='object')\n"
     ]
    }
   ],
   "source": [
    "print('Feature names are:', All_Observation.columns)"
   ]
  },
  {
   "cell_type": "code",
   "execution_count": 7,
   "id": "d17aaf4c",
   "metadata": {
    "execution": {
     "iopub.execute_input": "2024-11-07T18:04:04.337653Z",
     "iopub.status.busy": "2024-11-07T18:04:04.336826Z",
     "iopub.status.idle": "2024-11-07T18:04:04.354151Z",
     "shell.execute_reply": "2024-11-07T18:04:04.353293Z"
    },
    "papermill": {
     "duration": 0.029558,
     "end_time": "2024-11-07T18:04:04.356380",
     "exception": false,
     "start_time": "2024-11-07T18:04:04.326822",
     "status": "completed"
    },
    "tags": []
   },
   "outputs": [
    {
     "data": {
      "text/html": [
       "<div>\n",
       "<style scoped>\n",
       "    .dataframe tbody tr th:only-of-type {\n",
       "        vertical-align: middle;\n",
       "    }\n",
       "\n",
       "    .dataframe tbody tr th {\n",
       "        vertical-align: top;\n",
       "    }\n",
       "\n",
       "    .dataframe thead th {\n",
       "        text-align: right;\n",
       "    }\n",
       "</style>\n",
       "<table border=\"1\" class=\"dataframe\">\n",
       "  <thead>\n",
       "    <tr style=\"text-align: right;\">\n",
       "      <th></th>\n",
       "      <th>ParticipantID</th>\n",
       "      <th>Gender</th>\n",
       "      <th>Age</th>\n",
       "      <th>Class</th>\n",
       "      <th>CARS Score</th>\n",
       "    </tr>\n",
       "  </thead>\n",
       "  <tbody>\n",
       "    <tr>\n",
       "      <th>0</th>\n",
       "      <td>1</td>\n",
       "      <td>M</td>\n",
       "      <td>7.0</td>\n",
       "      <td>ASD</td>\n",
       "      <td>32.5</td>\n",
       "    </tr>\n",
       "    <tr>\n",
       "      <th>1</th>\n",
       "      <td>2</td>\n",
       "      <td>F</td>\n",
       "      <td>8.9</td>\n",
       "      <td>ASD</td>\n",
       "      <td>36.5</td>\n",
       "    </tr>\n",
       "    <tr>\n",
       "      <th>2</th>\n",
       "      <td>3</td>\n",
       "      <td>M</td>\n",
       "      <td>4.4</td>\n",
       "      <td>ASD</td>\n",
       "      <td>27.0</td>\n",
       "    </tr>\n",
       "    <tr>\n",
       "      <th>3</th>\n",
       "      <td>4</td>\n",
       "      <td>M</td>\n",
       "      <td>6.9</td>\n",
       "      <td>ASD</td>\n",
       "      <td>35.0</td>\n",
       "    </tr>\n",
       "    <tr>\n",
       "      <th>4</th>\n",
       "      <td>5</td>\n",
       "      <td>M</td>\n",
       "      <td>8.9</td>\n",
       "      <td>ASD</td>\n",
       "      <td>31.0</td>\n",
       "    </tr>\n",
       "  </tbody>\n",
       "</table>\n",
       "</div>"
      ],
      "text/plain": [
       "   ParticipantID Gender  Age Class  CARS Score\n",
       "0              1      M  7.0   ASD        32.5\n",
       "1              2      F  8.9   ASD        36.5\n",
       "2              3      M  4.4   ASD        27.0\n",
       "3              4      M  6.9   ASD        35.0\n",
       "4              5      M  8.9   ASD        31.0"
      ]
     },
     "execution_count": 7,
     "metadata": {},
     "output_type": "execute_result"
    }
   ],
   "source": [
    "Participants = pd.read_csv('/kaggle/input/eye-tracking-autism/Metadata_Participants.csv',low_memory = False)\n",
    "Participants.head()"
   ]
  },
  {
   "cell_type": "code",
   "execution_count": 8,
   "id": "310729ab",
   "metadata": {
    "execution": {
     "iopub.execute_input": "2024-11-07T18:04:04.376400Z",
     "iopub.status.busy": "2024-11-07T18:04:04.376087Z",
     "iopub.status.idle": "2024-11-07T18:04:04.380513Z",
     "shell.execute_reply": "2024-11-07T18:04:04.379621Z"
    },
    "papermill": {
     "duration": 0.01659,
     "end_time": "2024-11-07T18:04:04.382623",
     "exception": false,
     "start_time": "2024-11-07T18:04:04.366033",
     "status": "completed"
    },
    "tags": []
   },
   "outputs": [],
   "source": [
    "All_Observation.rename(columns={'Participant':'ParticipantID'}, inplace=True)"
   ]
  },
  {
   "cell_type": "code",
   "execution_count": 9,
   "id": "ad54c4e4",
   "metadata": {
    "execution": {
     "iopub.execute_input": "2024-11-07T18:04:04.402955Z",
     "iopub.status.busy": "2024-11-07T18:04:04.402699Z",
     "iopub.status.idle": "2024-11-07T18:04:04.606372Z",
     "shell.execute_reply": "2024-11-07T18:04:04.605404Z"
    },
    "papermill": {
     "duration": 0.216511,
     "end_time": "2024-11-07T18:04:04.608210",
     "exception": false,
     "start_time": "2024-11-07T18:04:04.391699",
     "status": "completed"
    },
    "tags": []
   },
   "outputs": [
    {
     "name": "stdout",
     "output_type": "stream",
     "text": [
      "Count of null value in column of 'ParticipantID' =  0\n"
     ]
    }
   ],
   "source": [
    "print(\"Count of null value in column of 'ParticipantID' = \",All_Observation['ParticipantID'].isna().sum())"
   ]
  },
  {
   "cell_type": "code",
   "execution_count": 10,
   "id": "06828061",
   "metadata": {
    "execution": {
     "iopub.execute_input": "2024-11-07T18:04:04.627804Z",
     "iopub.status.busy": "2024-11-07T18:04:04.627497Z",
     "iopub.status.idle": "2024-11-07T18:04:05.026575Z",
     "shell.execute_reply": "2024-11-07T18:04:05.025549Z"
    },
    "papermill": {
     "duration": 0.411461,
     "end_time": "2024-11-07T18:04:05.028893",
     "exception": false,
     "start_time": "2024-11-07T18:04:04.617432",
     "status": "completed"
    },
    "tags": []
   },
   "outputs": [
    {
     "name": "stdout",
     "output_type": "stream",
     "text": [
      "        ParticipantID   count\n",
      "0                  11    6188\n",
      "1                  17    3518\n",
      "2                  18    6420\n",
      "3                  19    6855\n",
      "4                  20    7006\n",
      "..                ...     ...\n",
      "61                  7    6187\n",
      "62                  8    6265\n",
      "63                  9    7658\n",
      "64  Unidentified(Neg)  878362\n",
      "65  Unidentified(Pos)   23424\n",
      "\n",
      "[66 rows x 2 columns]\n",
      "Number of Participants in observation is : 66\n"
     ]
    }
   ],
   "source": [
    "grouped_obs = All_Observation.groupby('ParticipantID', dropna=False).size().reset_index(name='count')\n",
    "print(grouped_obs)\n",
    "\n",
    "print('Number of Participants in observation is :', len(grouped_obs))"
   ]
  },
  {
   "cell_type": "code",
   "execution_count": 11,
   "id": "f48cdbc8",
   "metadata": {
    "execution": {
     "iopub.execute_input": "2024-11-07T18:04:05.049818Z",
     "iopub.status.busy": "2024-11-07T18:04:05.049112Z",
     "iopub.status.idle": "2024-11-07T18:04:05.053977Z",
     "shell.execute_reply": "2024-11-07T18:04:05.053102Z"
    },
    "papermill": {
     "duration": 0.017527,
     "end_time": "2024-11-07T18:04:05.056337",
     "exception": false,
     "start_time": "2024-11-07T18:04:05.038810",
     "status": "completed"
    },
    "tags": []
   },
   "outputs": [
    {
     "name": "stdout",
     "output_type": "stream",
     "text": [
      "The Max_ParticipantID =  59\n"
     ]
    }
   ],
   "source": [
    "MaxValue = Participants['ParticipantID'].max()\n",
    "print(\"The Max_ParticipantID = \",MaxValue)"
   ]
  },
  {
   "cell_type": "code",
   "execution_count": 12,
   "id": "34b2777f",
   "metadata": {
    "execution": {
     "iopub.execute_input": "2024-11-07T18:04:05.077352Z",
     "iopub.status.busy": "2024-11-07T18:04:05.077047Z",
     "iopub.status.idle": "2024-11-07T18:04:10.939682Z",
     "shell.execute_reply": "2024-11-07T18:04:10.938697Z"
    },
    "papermill": {
     "duration": 5.87536,
     "end_time": "2024-11-07T18:04:10.941920",
     "exception": false,
     "start_time": "2024-11-07T18:04:05.066560",
     "status": "completed"
    },
    "tags": []
   },
   "outputs": [
    {
     "name": "stdout",
     "output_type": "stream",
     "text": [
      "Number of Participants after converting to integer: 58\n",
      "Count of records for 'ParticipantID=60' is :  901786\n",
      "Count of all observation except 60 is :  1351157\n"
     ]
    }
   ],
   "source": [
    "All_Observation['ParticipantID'] = All_Observation['ParticipantID'].replace('Unidentified(Neg)', MaxValue + 1)\n",
    "All_Observation['ParticipantID'] = All_Observation['ParticipantID'].replace('Unidentified(Pos)', MaxValue + 1)\n",
    "\n",
    "All_Observation['ParticipantID'] = pd.to_numeric(All_Observation['ParticipantID'], errors='coerce').astype('Int64')\n",
    "Count_60 = All_Observation[All_Observation['ParticipantID'] == 60]['ParticipantID'].count()\n",
    "#grouped_df = All_Observation.groupby('ParticipantID', dropna=False).size().reset_index(name='count')\n",
    "#print(grouped_df)\n",
    "#Count_60 = grouped_df[grouped_df['ParticipantID'] == 60]['count'].sum()\n",
    "\n",
    "print('Number of Participants after converting to integer:', len(All_Observation.ParticipantID.unique()))\n",
    "print(\"Count of records for 'ParticipantID=60' is : \",Count_60)\n",
    "print('Count of all observation except 60 is : ',All_Observation.shape[0] - Count_60 )"
   ]
  },
  {
   "cell_type": "code",
   "execution_count": 13,
   "id": "59987e73",
   "metadata": {
    "execution": {
     "iopub.execute_input": "2024-11-07T18:04:10.962143Z",
     "iopub.status.busy": "2024-11-07T18:04:10.961836Z",
     "iopub.status.idle": "2024-11-07T18:04:12.898863Z",
     "shell.execute_reply": "2024-11-07T18:04:12.897963Z"
    },
    "papermill": {
     "duration": 1.949895,
     "end_time": "2024-11-07T18:04:12.901353",
     "exception": false,
     "start_time": "2024-11-07T18:04:10.951458",
     "status": "completed"
    },
    "tags": []
   },
   "outputs": [
    {
     "data": {
      "image/png": "[encoded data removed]",
      "text/plain": [
       "<Figure size 1500x800 with 2 Axes>"
      ]
     },
     "metadata": {},
     "output_type": "display_data"
    }
   ],
   "source": [
    "import matplotlib.pyplot as plt\n",
    "import numpy as np\n",
    "\n",
    "\n",
    "n_bins = range(1,All_Observation['ParticipantID'].max()+1,1)\n",
    "\n",
    "fig, (ax1, ax2) = plt.subplots(1,2,figsize=(15, 8))\n",
    "#width = 101\n",
    "\n",
    "ax1.hist(All_Observation['ParticipantID'], bins = n_bins)\n",
    "ax1.set_xlabel('ParticipantID')\n",
    "ax1.set_ylabel('Frequency')\n",
    "ax1.title.set_text('Including participent=60 ')\n",
    "\n",
    "ax2.hist(All_Observation[All_Observation['ParticipantID'] != 60]['ParticipantID'], bins= n_bins)\n",
    "ax2.set_xlabel('ParticipantID')\n",
    "ax2.set_ylabel('Frequency')\n",
    "ax2.title.set_text('Excluding participent=60 ')\n",
    "\n",
    "plt.suptitle('Histogram of each ParticipantID frequency in observations')\n",
    "plt.show()"
   ]
  },
  {
   "cell_type": "code",
   "execution_count": 14,
   "id": "77acb138",
   "metadata": {
    "execution": {
     "iopub.execute_input": "2024-11-07T18:04:12.922897Z",
     "iopub.status.busy": "2024-11-07T18:04:12.922592Z",
     "iopub.status.idle": "2024-11-07T18:04:14.445589Z",
     "shell.execute_reply": "2024-11-07T18:04:14.444596Z"
    },
    "papermill": {
     "duration": 1.536121,
     "end_time": "2024-11-07T18:04:14.447595",
     "exception": false,
     "start_time": "2024-11-07T18:04:12.911474",
     "status": "completed"
    },
    "tags": []
   },
   "outputs": [
    {
     "name": "stdout",
     "output_type": "stream",
     "text": [
      "Skewness: -0.292999\n",
      "Mean: 36.63752028816784\n",
      "Median: 37.0\n",
      "Standard deviation: 16.227654853096713\n",
      "Q1: 23.0\n",
      "Q2 (median): 37.0\n",
      "Q3: 52.0\n"
     ]
    },
    {
     "data": {
      "image/png": "[encoded data removed]",
      "text/plain": [
       "<Figure size 640x480 with 1 Axes>"
      ]
     },
     "metadata": {},
     "output_type": "display_data"
    }
   ],
   "source": [
    "Filtered_Participants = All_Observation[All_Observation['ParticipantID'] != 60]['ParticipantID']\n",
    "mean = np.mean(Filtered_Participants)\n",
    "median = np.median(Filtered_Participants)\n",
    "std = np.std(Filtered_Participants)\n",
    "q1, q2, q3 = np.percentile(Filtered_Participants, [25, 50, 75])\n",
    "\n",
    "plt.boxplot(Filtered_Participants)\n",
    "\n",
    "plt.title('Box plot of data')\n",
    "plt.ylabel('Value')\n",
    "\n",
    "\n",
    "print(\"Skewness: %f\" % Filtered_Participants.skew())\n",
    "print('Mean:', mean)\n",
    "print('Median:', median)\n",
    "print('Standard deviation:', std)\n",
    "print('Q1:', q1)\n",
    "print('Q2 (median):', q2)\n",
    "print('Q3:', q3)\n",
    "\n",
    "plt.show()"
   ]
  },
  {
   "cell_type": "code",
   "execution_count": 15,
   "id": "7f791f2d",
   "metadata": {
    "execution": {
     "iopub.execute_input": "2024-11-07T18:04:14.471106Z",
     "iopub.status.busy": "2024-11-07T18:04:14.470800Z",
     "iopub.status.idle": "2024-11-07T18:04:18.929777Z",
     "shell.execute_reply": "2024-11-07T18:04:18.928770Z"
    },
    "papermill": {
     "duration": 4.473474,
     "end_time": "2024-11-07T18:04:18.932271",
     "exception": false,
     "start_time": "2024-11-07T18:04:14.458797",
     "status": "completed"
    },
    "tags": []
   },
   "outputs": [
    {
     "data": {
      "text/html": [
       "<div>\n",
       "<style scoped>\n",
       "    .dataframe tbody tr th:only-of-type {\n",
       "        vertical-align: middle;\n",
       "    }\n",
       "\n",
       "    .dataframe tbody tr th {\n",
       "        vertical-align: top;\n",
       "    }\n",
       "\n",
       "    .dataframe thead th {\n",
       "        text-align: right;\n",
       "    }\n",
       "</style>\n",
       "<table border=\"1\" class=\"dataframe\">\n",
       "  <thead>\n",
       "    <tr style=\"text-align: right;\">\n",
       "      <th></th>\n",
       "      <th>Unnamed: 0</th>\n",
       "      <th>RecordingTime [ms]</th>\n",
       "      <th>Time of Day [h:m:s:ms]</th>\n",
       "      <th>Trial</th>\n",
       "      <th>Stimulus</th>\n",
       "      <th>Export Start Trial Time [ms]</th>\n",
       "      <th>Export End Trial Time [ms]</th>\n",
       "      <th>ParticipantID</th>\n",
       "      <th>Color</th>\n",
       "      <th>Tracking Ratio [%]</th>\n",
       "      <th>...</th>\n",
       "      <th>AOI Scope Right</th>\n",
       "      <th>AOI Order Right</th>\n",
       "      <th>AOI Group Left</th>\n",
       "      <th>AOI Scope Left</th>\n",
       "      <th>AOI Order Binocular</th>\n",
       "      <th>groupe d'enfants</th>\n",
       "      <th>Gender</th>\n",
       "      <th>Age</th>\n",
       "      <th>Class</th>\n",
       "      <th>CARS Score</th>\n",
       "    </tr>\n",
       "  </thead>\n",
       "  <tbody>\n",
       "    <tr>\n",
       "      <th>0</th>\n",
       "      <td>0</td>\n",
       "      <td>4780015.315</td>\n",
       "      <td>13:22:17:254</td>\n",
       "      <td>Trial020</td>\n",
       "      <td>20 eye tracking (ballon droite).avi</td>\n",
       "      <td>0.0</td>\n",
       "      <td>52058.676</td>\n",
       "      <td>50</td>\n",
       "      <td>Coral</td>\n",
       "      <td>78.5652</td>\n",
       "      <td>...</td>\n",
       "      <td>NaN</td>\n",
       "      <td>NaN</td>\n",
       "      <td>NaN</td>\n",
       "      <td>NaN</td>\n",
       "      <td>NaN</td>\n",
       "      <td>NaN</td>\n",
       "      <td>F</td>\n",
       "      <td>11.5</td>\n",
       "      <td>TD</td>\n",
       "      <td>NaN</td>\n",
       "    </tr>\n",
       "    <tr>\n",
       "      <th>1</th>\n",
       "      <td>1</td>\n",
       "      <td>4780020.865</td>\n",
       "      <td>13:22:17:260</td>\n",
       "      <td>Trial020</td>\n",
       "      <td>20 eye tracking (ballon droite).avi</td>\n",
       "      <td>0.0</td>\n",
       "      <td>52058.676</td>\n",
       "      <td>50</td>\n",
       "      <td>Coral</td>\n",
       "      <td>78.5652</td>\n",
       "      <td>...</td>\n",
       "      <td>NaN</td>\n",
       "      <td>NaN</td>\n",
       "      <td>NaN</td>\n",
       "      <td>NaN</td>\n",
       "      <td>NaN</td>\n",
       "      <td>NaN</td>\n",
       "      <td>F</td>\n",
       "      <td>11.5</td>\n",
       "      <td>TD</td>\n",
       "      <td>NaN</td>\n",
       "    </tr>\n",
       "    <tr>\n",
       "      <th>2</th>\n",
       "      <td>2</td>\n",
       "      <td>4780040.758</td>\n",
       "      <td>13:22:17:279</td>\n",
       "      <td>Trial020</td>\n",
       "      <td>20 eye tracking (ballon droite).avi</td>\n",
       "      <td>0.0</td>\n",
       "      <td>52058.676</td>\n",
       "      <td>50</td>\n",
       "      <td>Coral</td>\n",
       "      <td>78.5652</td>\n",
       "      <td>...</td>\n",
       "      <td>NaN</td>\n",
       "      <td>NaN</td>\n",
       "      <td>NaN</td>\n",
       "      <td>NaN</td>\n",
       "      <td>NaN</td>\n",
       "      <td>NaN</td>\n",
       "      <td>F</td>\n",
       "      <td>11.5</td>\n",
       "      <td>TD</td>\n",
       "      <td>NaN</td>\n",
       "    </tr>\n",
       "    <tr>\n",
       "      <th>3</th>\n",
       "      <td>3</td>\n",
       "      <td>4780080.503</td>\n",
       "      <td>13:22:17:319</td>\n",
       "      <td>Trial020</td>\n",
       "      <td>20 eye tracking (ballon droite).avi</td>\n",
       "      <td>0.0</td>\n",
       "      <td>52058.676</td>\n",
       "      <td>50</td>\n",
       "      <td>Coral</td>\n",
       "      <td>78.5652</td>\n",
       "      <td>...</td>\n",
       "      <td>NaN</td>\n",
       "      <td>NaN</td>\n",
       "      <td>NaN</td>\n",
       "      <td>NaN</td>\n",
       "      <td>NaN</td>\n",
       "      <td>NaN</td>\n",
       "      <td>F</td>\n",
       "      <td>11.5</td>\n",
       "      <td>TD</td>\n",
       "      <td>NaN</td>\n",
       "    </tr>\n",
       "    <tr>\n",
       "      <th>4</th>\n",
       "      <td>4</td>\n",
       "      <td>4780120.360</td>\n",
       "      <td>13:22:17:359</td>\n",
       "      <td>Trial020</td>\n",
       "      <td>20 eye tracking (ballon droite).avi</td>\n",
       "      <td>0.0</td>\n",
       "      <td>52058.676</td>\n",
       "      <td>50</td>\n",
       "      <td>Coral</td>\n",
       "      <td>78.5652</td>\n",
       "      <td>...</td>\n",
       "      <td>NaN</td>\n",
       "      <td>NaN</td>\n",
       "      <td>NaN</td>\n",
       "      <td>NaN</td>\n",
       "      <td>NaN</td>\n",
       "      <td>NaN</td>\n",
       "      <td>F</td>\n",
       "      <td>11.5</td>\n",
       "      <td>TD</td>\n",
       "      <td>NaN</td>\n",
       "    </tr>\n",
       "  </tbody>\n",
       "</table>\n",
       "<p>5 rows × 63 columns</p>\n",
       "</div>"
      ],
      "text/plain": [
       "   Unnamed: 0  RecordingTime [ms] Time of Day [h:m:s:ms]     Trial  \\\n",
       "0           0         4780015.315           13:22:17:254  Trial020   \n",
       "1           1         4780020.865           13:22:17:260  Trial020   \n",
       "2           2         4780040.758           13:22:17:279  Trial020   \n",
       "3           3         4780080.503           13:22:17:319  Trial020   \n",
       "4           4         4780120.360           13:22:17:359  Trial020   \n",
       "\n",
       "                              Stimulus  Export Start Trial Time [ms]  \\\n",
       "0  20 eye tracking (ballon droite).avi                           0.0   \n",
       "1  20 eye tracking (ballon droite).avi                           0.0   \n",
       "2  20 eye tracking (ballon droite).avi                           0.0   \n",
       "3  20 eye tracking (ballon droite).avi                           0.0   \n",
       "4  20 eye tracking (ballon droite).avi                           0.0   \n",
       "\n",
       "   Export End Trial Time [ms]  ParticipantID  Color  Tracking Ratio [%]  ...  \\\n",
       "0                   52058.676             50  Coral             78.5652  ...   \n",
       "1                   52058.676             50  Coral             78.5652  ...   \n",
       "2                   52058.676             50  Coral             78.5652  ...   \n",
       "3                   52058.676             50  Coral             78.5652  ...   \n",
       "4                   52058.676             50  Coral             78.5652  ...   \n",
       "\n",
       "  AOI Scope Right AOI Order Right AOI Group Left AOI Scope Left  \\\n",
       "0             NaN             NaN            NaN            NaN   \n",
       "1             NaN             NaN            NaN            NaN   \n",
       "2             NaN             NaN            NaN            NaN   \n",
       "3             NaN             NaN            NaN            NaN   \n",
       "4             NaN             NaN            NaN            NaN   \n",
       "\n",
       "  AOI Order Binocular groupe d'enfants Gender   Age Class CARS Score  \n",
       "0                 NaN              NaN      F  11.5    TD        NaN  \n",
       "1                 NaN              NaN      F  11.5    TD        NaN  \n",
       "2                 NaN              NaN      F  11.5    TD        NaN  \n",
       "3                 NaN              NaN      F  11.5    TD        NaN  \n",
       "4                 NaN              NaN      F  11.5    TD        NaN  \n",
       "\n",
       "[5 rows x 63 columns]"
      ]
     },
     "execution_count": 15,
     "metadata": {},
     "output_type": "execute_result"
    }
   ],
   "source": [
    "if 'Age' not in All_Observation:\n",
    "    All_Observation = pd.merge(All_Observation, Participants, how='inner', on = 'ParticipantID')\n",
    "\n",
    "\n",
    "# 5 rows × 63 columns\n",
    "All_Observation.head()"
   ]
  },
  {
   "cell_type": "code",
   "execution_count": 16,
   "id": "de35be20",
   "metadata": {
    "execution": {
     "iopub.execute_input": "2024-11-07T18:04:18.957623Z",
     "iopub.status.busy": "2024-11-07T18:04:18.957067Z",
     "iopub.status.idle": "2024-11-07T18:04:18.962385Z",
     "shell.execute_reply": "2024-11-07T18:04:18.961399Z"
    },
    "papermill": {
     "duration": 0.019587,
     "end_time": "2024-11-07T18:04:18.964374",
     "exception": false,
     "start_time": "2024-11-07T18:04:18.944787",
     "status": "completed"
    },
    "tags": []
   },
   "outputs": [
    {
     "name": "stdout",
     "output_type": "stream",
     "text": [
      "Number of rows after join two datasets =  1351157\n",
      "Number of columns after join two datasets =  63\n"
     ]
    }
   ],
   "source": [
    "print('Number of rows after join two datasets = ' , All_Observation.shape[0])\n",
    "print('Number of columns after join two datasets = ' , All_Observation.shape[1])"
   ]
  },
  {
   "cell_type": "code",
   "execution_count": 17,
   "id": "2a913589",
   "metadata": {
    "execution": {
     "iopub.execute_input": "2024-11-07T18:04:18.987245Z",
     "iopub.status.busy": "2024-11-07T18:04:18.986934Z",
     "iopub.status.idle": "2024-11-07T18:04:20.676696Z",
     "shell.execute_reply": "2024-11-07T18:04:20.675568Z"
    },
    "papermill": {
     "duration": 1.70373,
     "end_time": "2024-11-07T18:04:20.679019",
     "exception": false,
     "start_time": "2024-11-07T18:04:18.975289",
     "status": "completed"
    },
    "tags": []
   },
   "outputs": [
    {
     "name": "stdout",
     "output_type": "stream",
     "text": [
      "Number of unique participants with ASD: 27\n",
      "Number of unique participants with TD: 30\n",
      "Probability of ASD is : 0.47\n",
      "Probability of TD is : 0.53\n"
     ]
    }
   ],
   "source": [
    "import pandas as pd\n",
    "import numpy as np\n",
    "\n",
    "num_asd_participants = All_Observation[All_Observation['Class'] == 'ASD']['ParticipantID'].nunique()\n",
    "\n",
    "num_td_participants = All_Observation[All_Observation['Class'] == 'TD']['ParticipantID'].nunique()\n",
    "\n",
    "total_participants = All_Observation['ParticipantID'].nunique()\n",
    "\n",
    "ASD_prob = num_asd_participants / total_participants\n",
    "TD_prob = 1 - ASD_prob\n",
    "\n",
    "print('Number of unique participants with ASD:', num_asd_participants)\n",
    "print('Number of unique participants with TD:', num_td_participants)\n",
    "print('Probability of ASD is :', np.round(ASD_prob, 2))\n",
    "print('Probability of TD is :', round(TD_prob, 2))\n"
   ]
  },
  {
   "cell_type": "code",
   "execution_count": 18,
   "id": "6341948a",
   "metadata": {
    "execution": {
     "iopub.execute_input": "2024-11-07T18:04:20.702485Z",
     "iopub.status.busy": "2024-11-07T18:04:20.702147Z",
     "iopub.status.idle": "2024-11-07T18:04:23.917473Z",
     "shell.execute_reply": "2024-11-07T18:04:23.916574Z"
    },
    "papermill": {
     "duration": 3.229372,
     "end_time": "2024-11-07T18:04:23.919710",
     "exception": false,
     "start_time": "2024-11-07T18:04:20.690338",
     "status": "completed"
    },
    "tags": []
   },
   "outputs": [
    {
     "name": "stdout",
     "output_type": "stream",
     "text": [
      "423727\n"
     ]
    },
    {
     "data": {
      "image/png": "[encoded data removed]",
      "text/plain": [
       "<Figure size 640x480 with 1 Axes>"
      ]
     },
     "metadata": {},
     "output_type": "display_data"
    }
   ],
   "source": [
    "labels_Gender = ['Boys', 'Girls']\n",
    "\n",
    "Male_ASD = All_Observation.loc[(All_Observation['Gender']=='M')&(All_Observation['Class']=='ASD')]['Gender'].count()\n",
    "print(Male_ASD)\n",
    "Female_ASD = All_Observation.loc[(All_Observation['Gender']=='F')&(All_Observation['Class']=='ASD')]['Gender'].count()\n",
    "Gender_ASD = [Male_ASD, Female_ASD]\n",
    "\n",
    "Male_TD = All_Observation.loc[(All_Observation['Gender']=='M')&(All_Observation['Class']=='TD')]['Gender'].count()\n",
    "Female_TD = All_Observation.loc[(All_Observation['Gender']=='F')&(All_Observation['Class']=='TD')]['Gender'].count()\n",
    "Gender_TD = [Male_TD, Female_TD]\n",
    "\n",
    "\n",
    "fig, ax = plt.subplots(1,1)\n",
    "width = 0.3\n",
    "ax.bar(labels_Gender, Gender_ASD, width, label='ASD',color='tab:blue')\n",
    "ax.bar(labels_Gender, Gender_TD, width, bottom=Gender_ASD,label='TD',color='orange')\n",
    "ax.set_xlabel('Gender')\n",
    "ax.set_ylabel('Observations')\n",
    "ax.set_title('Observation by Gender ASD detection')\n",
    "ax.legend()\n",
    "\n",
    "plt.show()"
   ]
  },
  {
   "cell_type": "code",
   "execution_count": 19,
   "id": "6735ae05",
   "metadata": {
    "execution": {
     "iopub.execute_input": "2024-11-07T18:04:23.950096Z",
     "iopub.status.busy": "2024-11-07T18:04:23.949777Z",
     "iopub.status.idle": "2024-11-07T18:04:52.751226Z",
     "shell.execute_reply": "2024-11-07T18:04:52.750290Z"
    },
    "papermill": {
     "duration": 28.81982,
     "end_time": "2024-11-07T18:04:52.753419",
     "exception": false,
     "start_time": "2024-11-07T18:04:23.933599",
     "status": "completed"
    },
    "tags": []
   },
   "outputs": [
    {
     "name": "stdout",
     "output_type": "stream",
     "text": [
      "Replacing character '-' finished successfully\n",
      "Replacing null value by 0 finished successfully***\n",
      "Replacing null value by Mode finished successfully***\n",
      "Replacing null value by Mean finished successfully***\n"
     ]
    }
   ],
   "source": [
    "All_Observation2 = All_Observation.replace('-',np.nan)\n",
    "All_Observation = All_Observation2\n",
    "print(\"Replacing character '-' finished successfully\")\n",
    "\n",
    "Temp_List = ['Gaze Vector Right Y', 'Gaze Vector Left Y']\n",
    "\n",
    "for Column in Temp_List :\n",
    "    All_Observation[Column] = All_Observation[Column].astype(np.float16)\n",
    "    All_Observation[Column]= All_Observation[Column].fillna(value = 0)\n",
    "\n",
    "print(\"Replacing null value by 0 finished successfully***\")\n",
    "\n",
    "Temp_List = ['Gaze Vector Right Z', 'Gaze Vector Left Z','Index Right','Index Left']\n",
    "\n",
    "for Column in Temp_List :\n",
    "    New_Value = 0\n",
    "    All_Observation[Column] = All_Observation[Column].astype(np.float16)\n",
    "    New_Value = All_Observation[All_Observation[Column] != 0][Column].mode()[0]\n",
    "    All_Observation[Column]= All_Observation[Column].fillna(value = New_Value)\n",
    "\n",
    "print('Replacing null value by Mode finished successfully***')\n",
    "\n",
    "\n",
    "import math\n",
    "Temp_List = ['Pupil Diameter Right [mm]', 'Pupil Diameter Left [mm]', 'Point of Regard Right X [px]', 'Point of Regard Right Y [px]',\n",
    "                  'Point of Regard Left X [px]', 'Point of Regard Left Y [px]', 'Gaze Vector Right X', 'Gaze Vector Left X',\n",
    "                  'Pupil Size Right X [px]', 'Pupil Size Right Y [px]', 'Pupil Size Left X [px]', 'Pupil Size Left Y [px]',\n",
    "                  'Eye Position Right X [mm]', 'Eye Position Right Y [mm]', 'Eye Position Right Z [mm]',\n",
    "                  'Eye Position Left X [mm]', 'Eye Position Left Y [mm]', 'Eye Position Left Z [mm]',\n",
    "                  'Pupil Position Right X [px]', 'Pupil Position Right Y [px]', 'Pupil Position Left X [px]',\n",
    "                  'Pupil Position Left Y [px]']\n",
    "\n",
    "for Column in Temp_List :\n",
    "    New_Value = 0\n",
    "    All_Observation[Column] = All_Observation[Column].astype(np.float16)\n",
    "    Column_Copy = All_Observation[Column].copy().tolist()\n",
    "    Column_Copy = [x for x in Column_Copy if not math.isnan(x)]\n",
    "    New_Value = sum(Column_Copy) /len(Column_Copy)\n",
    "    All_Observation[Column]= All_Observation[Column].fillna(value = New_Value)\n",
    "\n",
    "print('Replacing null value by Mean finished successfully***')"
   ]
  },
  {
   "cell_type": "code",
   "execution_count": 20,
   "id": "92038bd1",
   "metadata": {
    "execution": {
     "iopub.execute_input": "2024-11-07T18:04:52.778859Z",
     "iopub.status.busy": "2024-11-07T18:04:52.777952Z",
     "iopub.status.idle": "2024-11-07T18:04:52.811079Z",
     "shell.execute_reply": "2024-11-07T18:04:52.810189Z"
    },
    "papermill": {
     "duration": 0.04764,
     "end_time": "2024-11-07T18:04:52.813004",
     "exception": false,
     "start_time": "2024-11-07T18:04:52.765364",
     "status": "completed"
    },
    "tags": []
   },
   "outputs": [
    {
     "name": "stdout",
     "output_type": "stream",
     "text": [
      "Removing null columns finished successfully***\n"
     ]
    }
   ],
   "source": [
    "Temp_List = ['AOI Name Right', 'AOI Name Left', 'Annotation Name', 'Annotation Description', 'Annotation Tags', 'Mouse Position X [px]',\n",
    "               'Mouse Position Y [px]', 'Scroll Direction X', 'Scroll Direction Y', 'Content', 'Port Status',\n",
    "               'AOI Group Right', 'AOI Group Left', 'AOI Scope Right', 'AOI Scope Left', 'AOI Order Right',\n",
    "               'AOI Order Binocular', \"groupe d'enfants\", 'CARS Score','Time of Day [h:m:s:ms]','Unnamed: 0',\n",
    "               'RecordingTime [ms]','Tracking Ratio [%]','ParticipantID'\n",
    "            ]\n",
    "for Column in Temp_List:\n",
    "    if Column in All_Observation.columns:\n",
    "        del All_Observation[Column]\n",
    "\n",
    "print(\"Removing null columns finished successfully***\")\n"
   ]
  },
  {
   "cell_type": "code",
   "execution_count": 21,
   "id": "9e8cdbab",
   "metadata": {
    "execution": {
     "iopub.execute_input": "2024-11-07T18:04:52.837923Z",
     "iopub.status.busy": "2024-11-07T18:04:52.837433Z",
     "iopub.status.idle": "2024-11-07T18:04:55.258562Z",
     "shell.execute_reply": "2024-11-07T18:04:55.257274Z"
    },
    "papermill": {
     "duration": 2.435807,
     "end_time": "2024-11-07T18:04:55.260767",
     "exception": false,
     "start_time": "2024-11-07T18:04:52.824960",
     "status": "completed"
    },
    "tags": []
   },
   "outputs": [
    {
     "name": "stdout",
     "output_type": "stream",
     "text": [
      "Count of Rows before removing duplicate rows :  1351157\n",
      "Count of Rows before removing duplicate rows :  1110930\n"
     ]
    }
   ],
   "source": [
    "print('Count of Rows before removing duplicate rows : ' ,len(All_Observation))\n",
    "All_Observation = All_Observation.drop_duplicates()\n",
    "print('Count of Rows before removing duplicate rows : ' ,len(All_Observation))"
   ]
  },
  {
   "cell_type": "code",
   "execution_count": 22,
   "id": "0fd4e8f1",
   "metadata": {
    "execution": {
     "iopub.execute_input": "2024-11-07T18:04:55.288170Z",
     "iopub.status.busy": "2024-11-07T18:04:55.287846Z",
     "iopub.status.idle": "2024-11-07T18:04:58.205796Z",
     "shell.execute_reply": "2024-11-07T18:04:58.204604Z"
    },
    "papermill": {
     "duration": 2.933613,
     "end_time": "2024-11-07T18:04:58.207942",
     "exception": false,
     "start_time": "2024-11-07T18:04:55.274329",
     "status": "completed"
    },
    "tags": []
   },
   "outputs": [
    {
     "name": "stdout",
     "output_type": "stream",
     "text": [
      "Converting 'Class' and 'Gender' to binary type finished successfully***\n",
      "Converting 'Trial' to binary type finished successfully***\n",
      "Converting 'Color' to binary type finished successfully***\n",
      "Converting 'Category Group' to binary type finished successfully***\n",
      "Converting 'Category Right' to binary type finished successfully***\n",
      "Converting 'Category Left' to binary type finished successfully***\n",
      "Converting 'Stimulus' to binary type finished successfully***\n",
      "finished\n"
     ]
    }
   ],
   "source": [
    "Temp_List = ['Pupil Diameter Right [mm]', 'Pupil Diameter Left [mm]', 'Point of Regard Right X [px]',\n",
    "             'Point of Regard Right Y [px]','Point of Regard Left X [px]',\n",
    "             'Point of Regard Left Y [px]', 'Gaze Vector Right X',\n",
    "             'Gaze Vector Left X','Pupil Size Right X [px]', 'Pupil Size Right Y [px]',\n",
    "             'Pupil Size Left X [px]', 'Pupil Size Left Y [px]','Eye Position Right X [mm]',\n",
    "             'Eye Position Right Y [mm]', 'Eye Position Right Z [mm]','Eye Position Left X [mm]',\n",
    "             'Eye Position Left Y [mm]', 'Eye Position Left Z [mm]','Pupil Position Right X [px]',\n",
    "             'Pupil Position Right Y [px]', 'Pupil Position Left X [px]','Pupil Position Left Y [px]',\n",
    "             'Gaze Vector Right Z', 'Gaze Vector Left Z','Gaze Vector Right Y',\n",
    "             'Gaze Vector Left Y','Index Right','Index Left']\n",
    "\n",
    "\n",
    "for Column in Temp_List :\n",
    "    All_Observation[Column] = All_Observation[Column].astype(np.float16)\n",
    "\n",
    "All_Observation['Diameter'] = All_Observation['Pupil Diameter Right [mm]']+All_Observation['Pupil Diameter Left [mm]']\n",
    "All_Observation['POG'] = All_Observation['Point of Regard Right X [px]']+All_Observation['Point of Regard Right Y [px]']+All_Observation['Point of Regard Left X [px]']+All_Observation['Point of Regard Left Y [px]']\n",
    "All_Observation['GazeVector'] = All_Observation['Gaze Vector Right X']+ All_Observation['Gaze Vector Right Y']+All_Observation['Gaze Vector Right Z']+All_Observation['Gaze Vector Left X']+ All_Observation['Gaze Vector Left Y']+All_Observation['Gaze Vector Left Z']\n",
    "All_Observation['PupilSize'] = All_Observation['Pupil Size Right X [px]']+All_Observation['Pupil Size Right Y [px]']+All_Observation['Pupil Size Left X [px]']+All_Observation['Pupil Size Left Y [px]']\n",
    "All_Observation['EyePosition'] = All_Observation['Eye Position Right X [mm]']+All_Observation['Eye Position Right Y [mm]']+All_Observation['Eye Position Right Z [mm]']+All_Observation['Eye Position Left X [mm]']+All_Observation['Eye Position Left Y [mm]']+All_Observation['Eye Position Left Z [mm]']\n",
    "All_Observation['PupilPosition'] = All_Observation['Pupil Position Right X [px]']+All_Observation['Pupil Position Right Y [px]']+All_Observation['Pupil Position Left X [px]']+All_Observation['Pupil Position Left X [px]']\n",
    "All_Observation['Index'] = All_Observation['Index Right']+All_Observation['Index Left']\n",
    "All_Observation = All_Observation.drop(Temp_List,axis=1)\n",
    "\n",
    "if All_Observation[(All_Observation['Gender']=='F') | (All_Observation['Gender'] =='M')]['Gender'].count()>0:\n",
    "    All_Observation['Gender'] = All_Observation['Gender'].map({'M' : 0, 'F' : 1})\n",
    "\n",
    "if All_Observation[(All_Observation['Class']=='TD') | (All_Observation['Class'] =='ASD')]['Class'].count()>0:\n",
    "    All_Observation['Class'] = All_Observation['Class'].map({'TD' : 0, 'ASD' : 1})\n",
    "\n",
    "print(\"Converting 'Class' and 'Gender' to binary type finished successfully***\")\n",
    "\n",
    "\n",
    "if All_Observation['Trial'].dtypes != 'int64':\n",
    "    All_Observation['Trial'] = All_Observation['Trial'].map({'Trial001' : 1, 'Trial002' : 2, 'Trial003' : 3, 'Trial004' : 4,\n",
    "                                                             'Trial005' : 5, 'Trial006' : 6, 'Trial007' : 7, 'Trial008' : 8,\n",
    "                                                             'Trial009' : 9, 'Trial010' : 10, 'Trial011' : 11, 'Trial012' : 12,\n",
    "                                                             'Trial013' : 13, 'Trial014' : 14, 'Trial015' : 15, 'Trial016' : 16,\n",
    "                                                             'Trial017' : 17, 'Trial018' : 18, 'Trial019' : 19, 'Trial020' : 20,\n",
    "                                                             'Trial021' : 21, 'Trial022' : 22, 'Trial023' : 23, 'Trial024' : 24,\n",
    "                                                             'Trial025' : 25, 'Trial026' : 26, 'Trial027' : 27, 'Trial028' : 28,\n",
    "                                                             'Trial029' : 29, 'Trial030' : 30, 'Trial031' : 31, 'Trial032' : 32,\n",
    "                                                             'Trial033' : 33, 'Trial034' : 34})\n",
    "    print(\"Converting 'Trial' to binary type finished successfully***\")\n",
    "else:\n",
    "    print('Nothing to change...')\n",
    "\n",
    "\n",
    "if All_Observation['Color'].dtypes != 'int64':\n",
    "    All_Observation['Color'] = All_Observation['Color'].map({'Coral':1,'CornflowerBlue':2,'Crimson':3,'Cyan':4,'DarkBlue':5,\n",
    "                                                             'DarkCyan':6,'DarkGoldenrod':7,'DarkGray':8,'DarkGreen':9,\n",
    "                                                             'DarkKhaki':10,'DarkMagenta':11,'DarkOliveGreen':12,\n",
    "                                                             'DarkOrange':13,'DarkOrchid':14,'DarkRed':15,'DarkSalmon':16,\n",
    "                                                             'DarkSeaGreen':17,'DarkSlateBlue':18,'DarkSlateGray':19,\n",
    "                                                             'DarkTurquoise':20,'DarkViolet':21,'DeepPink':22,'DeepSkyBlue':23,\n",
    "                                                             'DimGray':24,'DodgerBlue':25,'Firebrick':26,'ForestGreen':27,\n",
    "                                                             'Gainsboro':28,'Gold':29,'Goldenrod':30,'Gray':31,'Green':32,\n",
    "                                                             'GreenYellow':33,'HotPink':34,'IndianRed':35,'Indigo':36,\n",
    "                                                             'Khaki':37,'LawnGreen':38,'LightBlue':39,'LightCoral':40,\n",
    "                                                             'LightPink':41,'LightSalmon':42,'LightSeaGreen':43,\n",
    "                                                             'LightSkyBlue':44,'LightSteelBlue':45,'Lime':46,'Maroon':47,\n",
    "                                                             'MediumOrchid':48,'MediumSeaGreen':49,'MediumSlateBlue':50,\n",
    "                                                             'MediumSpringGreen':51,'MediumTurquoise':52,'NavajoWhite':53,\n",
    "                                                             'Navy':54,'Olive':55,'OliveDrab' :56})\n",
    "    print(\"Converting 'Color' to binary type finished successfully***\")\n",
    "else:\n",
    "    print('Nothing to change...')\n",
    "\n",
    "\n",
    "if All_Observation['Category Group'].dtypes != 'int64':\n",
    "    All_Observation['Category Group'] = All_Observation['Category Group'].map({'Eye' : 0, 'Information' : 1})\n",
    "    print(\"Converting 'Category Group' to binary type finished successfully***\")\n",
    "else:\n",
    "    print('Nothing to change...')\n",
    "\n",
    "if All_Observation['Category Right'].dtypes != 'int64':\n",
    "    All_Observation['Category Right'] = All_Observation['Category Right'].map({'Blink' : 0, 'Fixation':1, 'Left Click':2, 'Saccade':3,\n",
    "                                                                               'Separator':4, 'none':5})\n",
    "    print(\"Converting 'Category Right' to binary type finished successfully***\")\n",
    "else:\n",
    "    print('Nothing to change...')\n",
    "\n",
    "\n",
    "if All_Observation['Category Left'].dtypes != 'int64':\n",
    "    All_Observation['Category Left'] = All_Observation['Category Left'].map({'Blink' : 0, 'Fixation':1, 'Left Click':2, 'Saccade':3,\n",
    "                                                                               'Separator':4, 'none':5})\n",
    "    print(\"Converting 'Category Left' to binary type finished successfully***\")\n",
    "else:\n",
    "    print('Nothing to change...')\n",
    "\n",
    "if All_Observation['Stimulus'].dtypes != 'int64':\n",
    "    All_Observation['Stimulus'] = All_Observation['Stimulus'].map({'01 coucou g.jpg': 0,'01 neutre2.avi': 1,'01 neutre22.avi': 2,'01 neutre3.avi': 3,'01vnvg151201b1.avi': 4,'02 coucou d.jpg': 5,'02 devant.jpg': 6,'02 neutre visage gris.jpg': 7,'03 bonbons triste vs joie.avi': 8,'03 devant.jpg': 9,'03 regard chien g.jpg': 10,'03 vole triste vs joie1.avi': 11,'04 a triste joie.jpg': 12,'04 b joie triste - copie.jpg': 13,'04 regard chien d.jpg': 14,'04 tete chien g.jpg': 15,'05 punition orale triste vs joie.avi': 16,\"05 sophie sous l'eau joie vs triste1.avi\": 17,'05 tete chien d.jpg': 18,'05 tete point chien g.jpg': 19,'06 a triste joie.jpg': 20,'06 b joie triste.jpg': 21,'06 devant point chien g.jpg': 22,'06 tete point chien d.jpg': 23,'07 cadeau dernier.avi': 24,'07 devant point chien d.jpg': 25,'07 devant.jpg': 26,'07 tombe joie vs triste2.avi': 27,'08 b triste joie.jpg': 28,'08 devant.jpg': 29,'08 voc chien g.jpg': 30,'09 cadeau dernier1.avi': 31,'09 tombe joie vs triste1.avi': 32,'09 voc chien d.jpg': 33,'09 voc devant g.jpg': 34,'1 coucou D.jpg': 35,'1 coucou D.png': 36,'10 a joie triste.jpg': 37,'10 voc devant.jpg': 38,'11 devant.jpg': 39,'11 punition orale triste vs joie1.avi': 40,\"11 sophie sous l'eau joie vs triste.avi\": 41,'11 yeux chat D.jpg': 42,'11 yeux chat G.png': 43,'11 yeux chat d.jpg': 44,'11 yeux chat gauche.jpg': 45,'12 a triste joie - copie.jpg': 46,'12 b joie triste - copie.jpg': 47,'12 tete chat G.png': 48,'12 tete chat droite.jpg': 49,'12 tete chat gauche.jpg': 50,'12 yeux chat gauche.jpg': 51,'13 bonbons triste vs joie1.avi': 52,'13 tete chat gauche.jpg': 53,'13 tete pointage chat G.png': 54,'13 tete pointage chat droite.jpg': 55,'13 tete pointage chat gauche.jpg': 56,'13 vole triste vs joie.avi': 57,'14 a triste joie - copie.jpg': 58,'14 b joie triste.jpg': 59,'14 devant point chat G.png': 60,'14 devant point chat droite.jpg': 61,'14 devant point chat gauche.jpg': 62,'14 tete pointage chat gauche.jpg': 63,'15 devant - Copie.jpg': 64,'15 devant point chat gauche.jpg': 65,'15 devant.jpg': 66,'15 devant.png': 67,'16 devant.jpg': 68,'16 voc chat G.png': 69,'16 voc chat gauche.jpg': 70,'16 voc droite chat.jpg': 71,'17 voc chat gauche.jpg': 72,'17 voc devant D.jpg': 73,'17 voc devant G.png': 74,'17 voc devant d.jpg': 75,'17 voc devant.jpg': 76,'18 au revoir.jpg': 77,'18 au revoir.png': 78,'18 aurevoir.jpg': 79,'18 voc devant.jpg': 80,'19 aurevoir.jpg': 81,'1coucou G.jpg': 82,'2 devant.jpg': 83,'2 devant.png': 84,'20 eye tracking (ballon droite).avi': 85,'20 eye tracking (ballon gauche).avi': 86,'21 neutre4.avi': 87,'21 neutre5.avi': 88,'22 neutre visage gris.jpg': 89,'23 bonbons triste vs joie2.avi': 90,'23 vole triste vs joie4.avi': 91,'24 a triste joie.jpg': 92,'24 b joie triste.jpg': 93,'25 punition orale triste vs joie2.avi': 94,\"25 sophie sous l'eau joie vs triste4.avi\": 95,'26 a triste joie.jpg': 96,'26 b joie triste.jpg': 97,'27 cadeau dernier2.avi': 98,'27 tombe joie vs triste5.avi': 99,'28 b triste joie.jpg': 100,'29 tombe joie vs triste3.avi': 101,'3 regard chien D.jpg': 102,'3 regard chien D.png': 103,'3 regard chien G.jpg': 104,'30 a joie triste.jpg': 105,'31 punition orale triste vs joie4.avi': 106,\"31 sophie sous l'eau joie vs triste2.avi\": 107,'32 b joie triste - copie.jpg': 108,'33 vole triste vs joie2.avi': 109,'34 a triste joie - copie.jpg': 110,'4 tete chien D.jpg': 111,'4 tete chien D.png': 112,'4 tete chien G.jpg': 113,'5 tete point chien D.jpg': 114,'5 tete point chien D.png': 115,'5 tete point chien G.jpg': 116,'6 devant point chien D.jpg': 117,'6 devant point chien D.png': 118,'6 devant point chien G.jpg': 119,'7 devant - Copie.jpg': 120,'7 devant.jpg': 121,'7 devant.png': 122,'8 voc chien D.jpg': 123,'8 voc chien D.png': 124,'8 voc chien G.jpg': 125,'9 voc devant D.png': 126,'9 voc devant G.jpg': 127,'9 voc devant.jpg': 128,'A Triste joie.jpg': 129,'A joie Triste.jpg': 130,'B Triste Joie.jpg': 131,'B joie Triste.jpg': 132,'Eye Tracking (ballon droite).avi': 133,'Eye Tracking (ballon gauche).avi': 134,'FEDE Drte.avi': 135,'Federica Final_WMV_3000Kbps_720p.avi': 136,'NoImage': 137,'VNVD151207.avi': 138,'VNVG151201b.avi': 139,'bonbons triste vs joie1.avi': 140,'cadeau dernier1.avi': 141,'fede invisible d avi mpeg4-pcm.avi': 142,'neutre visage gris.jpg': 143,'punition orale triste vs joie1.avi': 144,\"sophie sous l'eau joie vs triste1.avi\": 145,'tombe joie vs triste2.avi': 146,'vole triste vs joie1.avi':147})\n",
    "    print(\"Converting 'Stimulus' to binary type finished successfully***\")\n",
    "else:\n",
    "    print('Nothing to change...')\n",
    "\n",
    "\n",
    "All_Observation = All_Observation.dropna()\n",
    "\n",
    "print('finished')"
   ]
  },
  {
   "cell_type": "code",
   "execution_count": 23,
   "id": "4ed05825",
   "metadata": {
    "execution": {
     "iopub.execute_input": "2024-11-07T18:04:58.234874Z",
     "iopub.status.busy": "2024-11-07T18:04:58.234485Z",
     "iopub.status.idle": "2024-11-07T18:04:59.747528Z",
     "shell.execute_reply": "2024-11-07T18:04:59.746604Z"
    },
    "papermill": {
     "duration": 1.52883,
     "end_time": "2024-11-07T18:04:59.749587",
     "exception": false,
     "start_time": "2024-11-07T18:04:58.220757",
     "status": "completed"
    },
    "tags": []
   },
   "outputs": [
    {
     "data": {
      "text/plain": [
       "<Figure size 100000x100000 with 0 Axes>"
      ]
     },
     "metadata": {},
     "output_type": "display_data"
    },
    {
     "data": {
      "image/png": "[encoded data removed]",
      "text/plain": [
       "<Figure size 480x480 with 2 Axes>"
      ]
     },
     "metadata": {},
     "output_type": "display_data"
    }
   ],
   "source": [
    "import pandas as pd\n",
    "import matplotlib.pyplot as plt\n",
    "\n",
    "corr_matrix = All_Observation.corr()\n",
    "\n",
    "plt.figure(figsize=(1000,1000))\n",
    "plt.matshow(corr_matrix)\n",
    "#plt.xticks(rotation=90)\n",
    "plt.xticks(range(len(All_Observation.columns)), All_Observation.columns , rotation = 90)\n",
    "plt.yticks(range(len(All_Observation.columns)), All_Observation.columns)\n",
    "plt.colorbar()\n",
    "plt.show()"
   ]
  },
  {
   "cell_type": "code",
   "execution_count": 24,
   "id": "9a6fc5dc",
   "metadata": {
    "execution": {
     "iopub.execute_input": "2024-11-07T18:04:59.780074Z",
     "iopub.status.busy": "2024-11-07T18:04:59.779716Z",
     "iopub.status.idle": "2024-11-07T18:04:59.825422Z",
     "shell.execute_reply": "2024-11-07T18:04:59.824220Z"
    },
    "papermill": {
     "duration": 0.064061,
     "end_time": "2024-11-07T18:04:59.827525",
     "exception": false,
     "start_time": "2024-11-07T18:04:59.763464",
     "status": "completed"
    },
    "tags": []
   },
   "outputs": [
    {
     "name": "stdout",
     "output_type": "stream",
     "text": [
      "[]\n",
      "Number of rows :  999786\n",
      "Number of Columns :  18\n"
     ]
    }
   ],
   "source": [
    "Column_Name = list(All_Observation. columns. values)\n",
    "Columns_withNullValue = []\n",
    "for names in Column_Name:\n",
    "    if All_Observation[names].isna().sum() >0:\n",
    "        Columns_withNullValue.append(names)\n",
    "\n",
    "print(Columns_withNullValue)\n",
    "\n",
    "\n",
    "print('Number of rows : ' , All_Observation.shape[0])\n",
    "print('Number of Columns : ' , All_Observation.shape[1])"
   ]
  },
  {
   "cell_type": "code",
   "execution_count": 25,
   "id": "22f65c0f",
   "metadata": {
    "execution": {
     "iopub.execute_input": "2024-11-07T18:04:59.857514Z",
     "iopub.status.busy": "2024-11-07T18:04:59.856847Z",
     "iopub.status.idle": "2024-11-07T18:05:01.660277Z",
     "shell.execute_reply": "2024-11-07T18:05:01.659311Z"
    },
    "papermill": {
     "duration": 1.820129,
     "end_time": "2024-11-07T18:05:01.662376",
     "exception": false,
     "start_time": "2024-11-07T18:04:59.842247",
     "status": "completed"
    },
    "tags": []
   },
   "outputs": [
    {
     "name": "stdout",
     "output_type": "stream",
     "text": [
      "(599871, 17)\n",
      "(399915, 17)\n",
      "(599871,)\n",
      "(399915,)\n",
      "Splitting dataset finished successfully***\n"
     ]
    }
   ],
   "source": [
    "from sklearn.model_selection import train_test_split\n",
    "\n",
    "X = All_Observation.drop(['Class'],axis=1) \n",
    "X_names = All_Observation.loc[:,[col for col in All_Observation.columns if col != 'Class']].columns.tolist()\n",
    "y=All_Observation['Class'] \n",
    "y_names=['TD','ASD'] \n",
    "X_train, X_test, y_train, y_test = train_test_split(X, y, test_size=0.4, random_state=2, stratify=All_Observation['Class'])\n",
    "print(X_train.shape)\n",
    "print(X_test.shape)\n",
    "print(y_train.shape)\n",
    "print(y_test.shape)\n",
    "\n",
    "print('Splitting dataset finished successfully***')"
   ]
  },
  {
   "cell_type": "code",
   "execution_count": null,
   "id": "90fb65b8",
   "metadata": {
    "execution": {
     "iopub.execute_input": "2024-11-07T18:05:01.691136Z",
     "iopub.status.busy": "2024-11-07T18:05:01.690686Z",
     "iopub.status.idle": "2024-11-07T18:34:45.077835Z",
     "shell.execute_reply": "2024-11-07T18:34:45.076738Z"
    },
    "papermill": {
     "duration": 1783.403956,
     "end_time": "2024-11-07T18:34:45.079982",
     "exception": false,
     "start_time": "2024-11-07T18:05:01.676026",
     "status": "completed"
    },
    "tags": []
   },
   "outputs": [
    {
     "data": {
      "text/html": [
       "<pre style=\"white-space:pre;overflow-x:auto;line-height:normal;font-family:Menlo,'DejaVu Sans Mono',consolas,'Courier New',monospace\"><span style=\"font-weight: bold\">Model: \"functional_1\"</span>\n",
       "</pre>\n"
      ],
      "text/plain": [
       "\u001b[1mModel: \"functional_1\"\u001b[0m\n"
      ]
     },
     "metadata": {},
     "output_type": "display_data"
    },
    {
     "data": {
      "text/html": [
       "<pre style=\"white-space:pre;overflow-x:auto;line-height:normal;font-family:Menlo,'DejaVu Sans Mono',consolas,'Courier New',monospace\">┏━━━━━━━━━━━━━━━━━━━━━━━━━━━━━━━━━┳━━━━━━━━━━━━━━━━━━━━━━━━┳━━━━━━━━━━━━━━━┓\n",
       "┃<span style=\"font-weight: bold\"> Layer (type)                    </span>┃<span style=\"font-weight: bold\"> Output Shape           </span>┃<span style=\"font-weight: bold\">       Param # </span>┃\n",
       "┡━━━━━━━━━━━━━━━━━━━━━━━━━━━━━━━━━╇━━━━━━━━━━━━━━━━━━━━━━━━╇━━━━━━━━━━━━━━━┩\n",
       "│ input_layer (<span style=\"color: #0087ff; text-decoration-color: #0087ff\">InputLayer</span>)        │ (<span style=\"color: #00d7ff; text-decoration-color: #00d7ff\">None</span>, <span style=\"color: #00af00; text-decoration-color: #00af00\">17</span>, <span style=\"color: #00af00; text-decoration-color: #00af00\">1</span>)          │             <span style=\"color: #00af00; text-decoration-color: #00af00\">0</span> │\n",
       "├─────────────────────────────────┼────────────────────────┼───────────────┤\n",
       "│ simple_rnn (<span style=\"color: #0087ff; text-decoration-color: #0087ff\">SimpleRNN</span>)          │ (<span style=\"color: #00d7ff; text-decoration-color: #00d7ff\">None</span>, <span style=\"color: #00af00; text-decoration-color: #00af00\">17</span>, <span style=\"color: #00af00; text-decoration-color: #00af00\">64</span>)         │         <span style=\"color: #00af00; text-decoration-color: #00af00\">4,224</span> │\n",
       "├─────────────────────────────────┼────────────────────────┼───────────────┤\n",
       "│ simple_rnn_1 (<span style=\"color: #0087ff; text-decoration-color: #0087ff\">SimpleRNN</span>)        │ (<span style=\"color: #00d7ff; text-decoration-color: #00d7ff\">None</span>, <span style=\"color: #00af00; text-decoration-color: #00af00\">64</span>)             │         <span style=\"color: #00af00; text-decoration-color: #00af00\">8,256</span> │\n",
       "├─────────────────────────────────┼────────────────────────┼───────────────┤\n",
       "│ dense (<span style=\"color: #0087ff; text-decoration-color: #0087ff\">Dense</span>)                   │ (<span style=\"color: #00d7ff; text-decoration-color: #00d7ff\">None</span>, <span style=\"color: #00af00; text-decoration-color: #00af00\">128</span>)            │         <span style=\"color: #00af00; text-decoration-color: #00af00\">8,320</span> │\n",
       "├─────────────────────────────────┼────────────────────────┼───────────────┤\n",
       "│ dropout (<span style=\"color: #0087ff; text-decoration-color: #0087ff\">Dropout</span>)               │ (<span style=\"color: #00d7ff; text-decoration-color: #00d7ff\">None</span>, <span style=\"color: #00af00; text-decoration-color: #00af00\">128</span>)            │             <span style=\"color: #00af00; text-decoration-color: #00af00\">0</span> │\n",
       "├─────────────────────────────────┼────────────────────────┼───────────────┤\n",
       "│ dense_1 (<span style=\"color: #0087ff; text-decoration-color: #0087ff\">Dense</span>)                 │ (<span style=\"color: #00d7ff; text-decoration-color: #00d7ff\">None</span>, <span style=\"color: #00af00; text-decoration-color: #00af00\">1</span>)              │           <span style=\"color: #00af00; text-decoration-color: #00af00\">129</span> │\n",
       "└─────────────────────────────────┴────────────────────────┴───────────────┘\n",
       "</pre>\n"
      ],
      "text/plain": [
       "┏━━━━━━━━━━━━━━━━━━━━━━━━━━━━━━━━━┳━━━━━━━━━━━━━━━━━━━━━━━━┳━━━━━━━━━━━━━━━┓\n",
       "┃\u001b[1m \u001b[0m\u001b[1mLayer (type)                   \u001b[0m\u001b[1m \u001b[0m┃\u001b[1m \u001b[0m\u001b[1mOutput Shape          \u001b[0m\u001b[1m \u001b[0m┃\u001b[1m \u001b[0m\u001b[1m      Param #\u001b[0m\u001b[1m \u001b[0m┃\n",
       "┡━━━━━━━━━━━━━━━━━━━━━━━━━━━━━━━━━╇━━━━━━━━━━━━━━━━━━━━━━━━╇━━━━━━━━━━━━━━━┩\n",
       "│ input_layer (\u001b[38;5;33mInputLayer\u001b[0m)        │ (\u001b[38;5;45mNone\u001b[0m, \u001b[38;5;34m17\u001b[0m, \u001b[38;5;34m1\u001b[0m)          │             \u001b[38;5;34m0\u001b[0m │\n",
       "├─────────────────────────────────┼────────────────────────┼───────────────┤\n",
       "│ simple_rnn (\u001b[38;5;33mSimpleRNN\u001b[0m)          │ (\u001b[38;5;45mNone\u001b[0m, \u001b[38;5;34m17\u001b[0m, \u001b[38;5;34m64\u001b[0m)         │         \u001b[38;5;34m4,224\u001b[0m │\n",
       "├─────────────────────────────────┼────────────────────────┼───────────────┤\n",
       "│ simple_rnn_1 (\u001b[38;5;33mSimpleRNN\u001b[0m)        │ (\u001b[38;5;45mNone\u001b[0m, \u001b[38;5;34m64\u001b[0m)             │         \u001b[38;5;34m8,256\u001b[0m │\n",
       "├─────────────────────────────────┼────────────────────────┼───────────────┤\n",
       "│ dense (\u001b[38;5;33mDense\u001b[0m)                   │ (\u001b[38;5;45mNone\u001b[0m, \u001b[38;5;34m128\u001b[0m)            │         \u001b[38;5;34m8,320\u001b[0m │\n",
       "├─────────────────────────────────┼────────────────────────┼───────────────┤\n",
       "│ dropout (\u001b[38;5;33mDropout\u001b[0m)               │ (\u001b[38;5;45mNone\u001b[0m, \u001b[38;5;34m128\u001b[0m)            │             \u001b[38;5;34m0\u001b[0m │\n",
       "├─────────────────────────────────┼────────────────────────┼───────────────┤\n",
       "│ dense_1 (\u001b[38;5;33mDense\u001b[0m)                 │ (\u001b[38;5;45mNone\u001b[0m, \u001b[38;5;34m1\u001b[0m)              │           \u001b[38;5;34m129\u001b[0m │\n",
       "└─────────────────────────────────┴────────────────────────┴───────────────┘\n"
      ]
     },
     "metadata": {},
     "output_type": "display_data"
    },
    {
     "data": {
      "text/html": [
       "<pre style=\"white-space:pre;overflow-x:auto;line-height:normal;font-family:Menlo,'DejaVu Sans Mono',consolas,'Courier New',monospace\"><span style=\"font-weight: bold\"> Total params: </span><span style=\"color: #00af00; text-decoration-color: #00af00\">20,929</span> (81.75 KB)\n",
       "</pre>\n"
      ],
      "text/plain": [
       "\u001b[1m Total params: \u001b[0m\u001b[38;5;34m20,929\u001b[0m (81.75 KB)\n"
      ]
     },
     "metadata": {},
     "output_type": "display_data"
    },
    {
     "data": {
      "text/html": [
       "<pre style=\"white-space:pre;overflow-x:auto;line-height:normal;font-family:Menlo,'DejaVu Sans Mono',consolas,'Courier New',monospace\"><span style=\"font-weight: bold\"> Trainable params: </span><span style=\"color: #00af00; text-decoration-color: #00af00\">20,929</span> (81.75 KB)\n",
       "</pre>\n"
      ],
      "text/plain": [
       "\u001b[1m Trainable params: \u001b[0m\u001b[38;5;34m20,929\u001b[0m (81.75 KB)\n"
      ]
     },
     "metadata": {},
     "output_type": "display_data"
    },
    {
     "data": {
      "text/html": [
       "<pre style=\"white-space:pre;overflow-x:auto;line-height:normal;font-family:Menlo,'DejaVu Sans Mono',consolas,'Courier New',monospace\"><span style=\"font-weight: bold\"> Non-trainable params: </span><span style=\"color: #00af00; text-decoration-color: #00af00\">0</span> (0.00 B)\n",
       "</pre>\n"
      ],
      "text/plain": [
       "\u001b[1m Non-trainable params: \u001b[0m\u001b[38;5;34m0\u001b[0m (0.00 B)\n"
      ]
     },
     "metadata": {},
     "output_type": "display_data"
    },
    {
     "name": "stdout",
     "output_type": "stream",
     "text": [
      "Epoch 1/20\n"
     ]
    },
    {
     "name": "stderr",
     "output_type": "stream",
     "text": [
      "WARNING: All log messages before absl::InitializeLog() is called are written to STDERR\n",
      "I0000 00:00:1731002716.500283      71 service.cc:145] XLA service 0x7ef51c5651c0 initialized for platform CUDA (this does not guarantee that XLA will be used). Devices:\n",
      "I0000 00:00:1731002716.500323      71 service.cc:153]   StreamExecutor device (0): Tesla T4, Compute Capability 7.5\n",
      "I0000 00:00:1731002716.500327      71 service.cc:153]   StreamExecutor device (1): Tesla T4, Compute Capability 7.5\n"
     ]
    },
    {
     "name": "stdout",
     "output_type": "stream",
     "text": [
      "\u001b[1m   44/18746\u001b[0m \u001b[37m━━━━━━━━━━━━━━━━━━━━\u001b[0m \u001b[1m1:09\u001b[0m 4ms/step - accuracy: 0.5205 - loss: 0.7203"
     ]
    },
    {
     "name": "stderr",
     "output_type": "stream",
     "text": [
      "I0000 00:00:1731002719.375677      71 device_compiler.h:188] Compiled cluster using XLA!  This line is logged at most once for the lifetime of the process.\n"
     ]
    },
    {
     "name": "stdout",
     "output_type": "stream",
     "text": [
      "\u001b[1m18746/18746\u001b[0m \u001b[32m━━━━━━━━━━━━━━━━━━━━\u001b[0m\u001b[37m\u001b[0m \u001b[1m98s\u001b[0m 5ms/step - accuracy: 0.8812 - loss: 0.2722 - val_accuracy: 0.9637 - val_loss: 0.0897\n",
      "Epoch 2/20\n",
      "\u001b[1m18746/18746\u001b[0m \u001b[32m━━━━━━━━━━━━━━━━━━━━\u001b[0m\u001b[37m\u001b[0m \u001b[1m88s\u001b[0m 5ms/step - accuracy: 0.9675 - loss: 0.0790 - val_accuracy: 0.9847 - val_loss: 0.0362\n",
      "Epoch 3/20\n",
      "\u001b[1m18746/18746\u001b[0m \u001b[32m━━━━━━━━━━━━━━━━━━━━\u001b[0m\u001b[37m\u001b[0m \u001b[1m88s\u001b[0m 5ms/step - accuracy: 0.9833 - loss: 0.0416 - val_accuracy: 0.9845 - val_loss: 0.0352\n",
      "Epoch 4/20\n",
      "\u001b[1m18746/18746\u001b[0m \u001b[32m━━━━━━━━━━━━━━━━━━━━\u001b[0m\u001b[37m\u001b[0m \u001b[1m88s\u001b[0m 5ms/step - accuracy: 0.9894 - loss: 0.0259 - val_accuracy: 0.9708 - val_loss: 0.1075\n",
      "Epoch 5/20\n",
      "\u001b[1m18746/18746\u001b[0m \u001b[32m━━━━━━━━━━━━━━━━━━━━\u001b[0m\u001b[37m\u001b[0m \u001b[1m88s\u001b[0m 5ms/step - accuracy: 0.9955 - loss: 0.0147 - val_accuracy: 0.9959 - val_loss: 0.0101\n",
      "Epoch 6/20\n",
      "\u001b[1m18746/18746\u001b[0m \u001b[32m━━━━━━━━━━━━━━━━━━━━\u001b[0m\u001b[37m\u001b[0m \u001b[1m87s\u001b[0m 5ms/step - accuracy: 0.9971 - loss: 0.0090 - val_accuracy: 0.9991 - val_loss: 0.0028\n",
      "Epoch 7/20\n",
      "\u001b[1m18746/18746\u001b[0m \u001b[32m━━━━━━━━━━━━━━━━━━━━\u001b[0m\u001b[37m\u001b[0m \u001b[1m87s\u001b[0m 5ms/step - accuracy: 0.9979 - loss: 0.0071 - val_accuracy: 0.9982 - val_loss: 0.0053\n",
      "Epoch 8/20\n",
      "\u001b[1m18746/18746\u001b[0m \u001b[32m━━━━━━━━━━━━━━━━━━━━\u001b[0m\u001b[37m\u001b[0m \u001b[1m87s\u001b[0m 5ms/step - accuracy: 0.9985 - loss: 0.0049 - val_accuracy: 0.9995 - val_loss: 0.0018\n",
      "Epoch 9/20\n",
      "\u001b[1m18746/18746\u001b[0m \u001b[32m━━━━━━━━━━━━━━━━━━━━\u001b[0m\u001b[37m\u001b[0m \u001b[1m87s\u001b[0m 5ms/step - accuracy: 0.9988 - loss: 0.0039 - val_accuracy: 0.9995 - val_loss: 0.0019\n",
      "Epoch 10/20\n",
      "\u001b[1m18746/18746\u001b[0m \u001b[32m━━━━━━━━━━━━━━━━━━━━\u001b[0m\u001b[37m\u001b[0m \u001b[1m87s\u001b[0m 5ms/step - accuracy: 0.9990 - loss: 0.0039 - val_accuracy: 0.9994 - val_loss: 0.0022\n",
      "Epoch 11/20\n",
      "\u001b[1m18746/18746\u001b[0m \u001b[32m━━━━━━━━━━━━━━━━━━━━\u001b[0m\u001b[37m\u001b[0m \u001b[1m87s\u001b[0m 5ms/step - accuracy: 0.9989 - loss: 0.0037 - val_accuracy: 0.9996 - val_loss: 0.0012\n",
      "Epoch 12/20\n",
      "\u001b[1m18746/18746\u001b[0m \u001b[32m━━━━━━━━━━━━━━━━━━━━\u001b[0m\u001b[37m\u001b[0m \u001b[1m86s\u001b[0m 5ms/step - accuracy: 0.9991 - loss: 0.0035 - val_accuracy: 0.9996 - val_loss: 0.0014\n",
      "Epoch 13/20\n",
      "\u001b[1m18746/18746\u001b[0m \u001b[32m━━━━━━━━━━━━━━━━━━━━\u001b[0m\u001b[37m\u001b[0m \u001b[1m86s\u001b[0m 5ms/step - accuracy: 0.9992 - loss: 0.0027 - val_accuracy: 0.9997 - val_loss: 0.0013\n",
      "Epoch 14/20\n",
      "\u001b[1m18746/18746\u001b[0m \u001b[32m━━━━━━━━━━━━━━━━━━━━\u001b[0m\u001b[37m\u001b[0m \u001b[1m86s\u001b[0m 5ms/step - accuracy: 0.9993 - loss: 0.0022 - val_accuracy: 0.9997 - val_loss: 0.0011\n",
      "Epoch 15/20\n",
      "\u001b[1m18746/18746\u001b[0m \u001b[32m━━━━━━━━━━━━━━━━━━━━\u001b[0m\u001b[37m\u001b[0m \u001b[1m87s\u001b[0m 5ms/step - accuracy: 0.9993 - loss: 0.0025 - val_accuracy: 0.9991 - val_loss: 0.0033\n",
      "Epoch 16/20\n",
      "\u001b[1m18746/18746\u001b[0m \u001b[32m━━━━━━━━━━━━━━━━━━━━\u001b[0m\u001b[37m\u001b[0m \u001b[1m86s\u001b[0m 5ms/step - accuracy: 0.9994 - loss: 0.0021 - val_accuracy: 0.9996 - val_loss: 0.0015\n",
      "Epoch 17/20\n",
      "\u001b[1m18746/18746\u001b[0m \u001b[32m━━━━━━━━━━━━━━━━━━━━\u001b[0m\u001b[37m\u001b[0m \u001b[1m87s\u001b[0m 5ms/step - accuracy: 0.9993 - loss: 0.0026 - val_accuracy: 0.9997 - val_loss: 9.2831e-04\n",
      "Epoch 18/20\n",
      "\u001b[1m18746/18746\u001b[0m \u001b[32m━━━━━━━━━━━━━━━━━━━━\u001b[0m\u001b[37m\u001b[0m \u001b[1m86s\u001b[0m 5ms/step - accuracy: 0.9995 - loss: 0.0016 - val_accuracy: 0.9996 - val_loss: 0.0014\n",
      "Epoch 19/20\n",
      "\u001b[1m18746/18746\u001b[0m \u001b[32m━━━━━━━━━━━━━━━━━━━━\u001b[0m\u001b[37m\u001b[0m \u001b[1m87s\u001b[0m 5ms/step - accuracy: 0.9994 - loss: 0.0021 - val_accuracy: 0.9994 - val_loss: 0.0024\n",
      "Epoch 20/20\n",
      "\u001b[1m18746/18746\u001b[0m \u001b[32m━━━━━━━━━━━━━━━━━━━━\u001b[0m\u001b[37m\u001b[0m \u001b[1m87s\u001b[0m 5ms/step - accuracy: 0.9995 - loss: 0.0016 - val_accuracy: 0.9995 - val_loss: 0.0015\n",
      "Test loss: 0.0014616457046940923\n",
      "Test accuracy: 0.9994648694992065\n"
     ]
    }
   ],
   "source": [
    "import numpy as np\n",
    "import tensorflow as tf\n",
    "from tensorflow.keras.layers import SimpleRNN, Dense, Dropout, Input\n",
    "from tensorflow.keras.models import Model\n",
    "from tensorflow.keras.optimizers import Adam\n",
    "from deap import base, creator, tools, algorithms\n",
    "import random\n",
    "\n",
    "LSTM_UNITS = [64]\n",
    "LEARNING_RATE = [0.01]\n",
    "BATCH_SIZE = [32]\n",
    "DROPOUT = [0.2]\n",
    "\n",
    "def create_model(lstm_units, learning_rate, batch_size, dropout_rate):\n",
    "    input_shape = (17, 1)\n",
    "    inputs = Input(shape=input_shape)\n",
    "    \n",
    "    x = SimpleRNN(lstm_units, return_sequences=True)(inputs)\n",
    "    x = SimpleRNN(lstm_units)(x)\n",
    "    \n",
    "    x = Dense(128, activation='relu')(x)\n",
    "    x = Dropout(dropout_rate)(x)\n",
    "    \n",
    "    outputs = Dense(1, activation='softmax')(x)\n",
    "    \n",
    "    model = Model(inputs, outputs)\n",
    "    \n",
    "    model.compile(optimizer=Adam(learning_rate=learning_rate), \n",
    "                  loss='binary_crossentropy', \n",
    "                  metrics=['accuracy'])\n",
    "    \n",
    "    return model\n",
    "\n",
    "def evaluate(individual):\n",
    "    lstm_units, learning_rate, batch_size, dropout_rate = individual\n",
    "    \n",
    "    model = create_model(lstm_units, learning_rate, batch_size, dropout_rate)\n",
    "    \n",
    "    model.fit(X_train, y_train, epochs=5, validation_data=(X_test, y_test), batch_size=batch_size, verbose=0)\n",
    "    \n",
    "    score = model.evaluate(X_test, y_test, verbose=0)\n",
    "    \n",
    "    return (score[1],) \n",
    "\n",
    "# DEAP setup\n",
    "creator.create(\"FitnessMax\", base.Fitness, weights=(1.0,))  \n",
    "creator.create(\"Individual\", list, fitness=creator.FitnessMax)\n",
    "\n",
    "def create_individual():\n",
    "    return [\n",
    "        random.choice(LSTM_UNITS),        \n",
    "        random.choice(LEARNING_RATE),      \n",
    "        random.choice(BATCH_SIZE),         \n",
    "        random.choice(DROPOUT)             \n",
    "    ]\n",
    "\n",
    "# Genetic algorithm setup\n",
    "toolbox = base.Toolbox()\n",
    "toolbox.register(\"individual\", tools.initIterate, creator.Individual, create_individual)\n",
    "toolbox.register(\"population\", tools.initRepeat, list, toolbox.individual)\n",
    "toolbox.register(\"mate\", tools.cxTwoPoint)  # Crossover operation\n",
    "toolbox.register(\"mutate\", tools.mutUniformInt, low=[32, 0.0001, 16, 0.2], up=[256, 0.01, 64, 0.5], indpb=0.2)  # Mutation operation\n",
    "toolbox.register(\"select\", tools.selTournament, tournsize=3)  # Selection operation\n",
    "toolbox.register(\"evaluate\", evaluate)  # Evaluation function\n",
    "\n",
    "# Create the population\n",
    "population = toolbox.population(n=10) \n",
    "\n",
    "algorithms.eaSimple(population, toolbox, cxpb=0.7, mutpb=0.2, ngen=5)\n",
    "\n",
    "best_individual = tools.selBest(population, 1)[0]\n",
    "print(f\"Best individual: {best_individual}\")\n"
   ]
  },
  {
   "cell_type": "code",
   "execution_count": null,
   "id": "7e59c57a",
   "metadata": {
    "execution": {
     "iopub.execute_input": "2024-11-07T18:34:49.469162Z",
     "iopub.status.busy": "2024-11-07T18:34:49.468436Z",
     "iopub.status.idle": "2024-11-07T19:26:55.007365Z",
     "shell.execute_reply": "2024-11-07T19:26:55.006370Z"
    },
    "papermill": {
     "duration": 3127.745826,
     "end_time": "2024-11-07T19:26:55.009573",
     "exception": false,
     "start_time": "2024-11-07T18:34:47.263747",
     "status": "completed"
    },
    "tags": []
   },
   "outputs": [
    {
     "data": {
      "text/html": [
       "<pre style=\"white-space:pre;overflow-x:auto;line-height:normal;font-family:Menlo,'DejaVu Sans Mono',consolas,'Courier New',monospace\"><span style=\"font-weight: bold\">Model: \"functional_3\"</span>\n",
       "</pre>\n"
      ],
      "text/plain": [
       "\u001b[1mModel: \"functional_3\"\u001b[0m\n"
      ]
     },
     "metadata": {},
     "output_type": "display_data"
    },
    {
     "data": {
      "text/html": [
       "<pre style=\"white-space:pre;overflow-x:auto;line-height:normal;font-family:Menlo,'DejaVu Sans Mono',consolas,'Courier New',monospace\">┏━━━━━━━━━━━━━━━━━━━━━━━━━━━━━━━━━┳━━━━━━━━━━━━━━━━━━━━━━━━┳━━━━━━━━━━━━━━━┓\n",
       "┃<span style=\"font-weight: bold\"> Layer (type)                    </span>┃<span style=\"font-weight: bold\"> Output Shape           </span>┃<span style=\"font-weight: bold\">       Param # </span>┃\n",
       "┡━━━━━━━━━━━━━━━━━━━━━━━━━━━━━━━━━╇━━━━━━━━━━━━━━━━━━━━━━━━╇━━━━━━━━━━━━━━━┩\n",
       "│ input_layer_1 (<span style=\"color: #0087ff; text-decoration-color: #0087ff\">InputLayer</span>)      │ (<span style=\"color: #00d7ff; text-decoration-color: #00d7ff\">None</span>, <span style=\"color: #00af00; text-decoration-color: #00af00\">17</span>, <span style=\"color: #00af00; text-decoration-color: #00af00\">1</span>)          │             <span style=\"color: #00af00; text-decoration-color: #00af00\">0</span> │\n",
       "├─────────────────────────────────┼────────────────────────┼───────────────┤\n",
       "│ lstm (<span style=\"color: #0087ff; text-decoration-color: #0087ff\">LSTM</span>)                     │ (<span style=\"color: #00d7ff; text-decoration-color: #00d7ff\">None</span>, <span style=\"color: #00af00; text-decoration-color: #00af00\">17</span>, <span style=\"color: #00af00; text-decoration-color: #00af00\">64</span>)         │        <span style=\"color: #00af00; text-decoration-color: #00af00\">16,896</span> │\n",
       "├─────────────────────────────────┼────────────────────────┼───────────────┤\n",
       "│ lstm_1 (<span style=\"color: #0087ff; text-decoration-color: #0087ff\">LSTM</span>)                   │ (<span style=\"color: #00d7ff; text-decoration-color: #00d7ff\">None</span>, <span style=\"color: #00af00; text-decoration-color: #00af00\">64</span>)             │        <span style=\"color: #00af00; text-decoration-color: #00af00\">33,024</span> │\n",
       "├─────────────────────────────────┼────────────────────────┼───────────────┤\n",
       "│ dense_2 (<span style=\"color: #0087ff; text-decoration-color: #0087ff\">Dense</span>)                 │ (<span style=\"color: #00d7ff; text-decoration-color: #00d7ff\">None</span>, <span style=\"color: #00af00; text-decoration-color: #00af00\">128</span>)            │         <span style=\"color: #00af00; text-decoration-color: #00af00\">8,320</span> │\n",
       "├─────────────────────────────────┼────────────────────────┼───────────────┤\n",
       "│ dropout_1 (<span style=\"color: #0087ff; text-decoration-color: #0087ff\">Dropout</span>)             │ (<span style=\"color: #00d7ff; text-decoration-color: #00d7ff\">None</span>, <span style=\"color: #00af00; text-decoration-color: #00af00\">128</span>)            │             <span style=\"color: #00af00; text-decoration-color: #00af00\">0</span> │\n",
       "├─────────────────────────────────┼────────────────────────┼───────────────┤\n",
       "│ dense_3 (<span style=\"color: #0087ff; text-decoration-color: #0087ff\">Dense</span>)                 │ (<span style=\"color: #00d7ff; text-decoration-color: #00d7ff\">None</span>, <span style=\"color: #00af00; text-decoration-color: #00af00\">1</span>)              │           <span style=\"color: #00af00; text-decoration-color: #00af00\">129</span> │\n",
       "└─────────────────────────────────┴────────────────────────┴───────────────┘\n",
       "</pre>\n"
      ],
      "text/plain": [
       "┏━━━━━━━━━━━━━━━━━━━━━━━━━━━━━━━━━┳━━━━━━━━━━━━━━━━━━━━━━━━┳━━━━━━━━━━━━━━━┓\n",
       "┃\u001b[1m \u001b[0m\u001b[1mLayer (type)                   \u001b[0m\u001b[1m \u001b[0m┃\u001b[1m \u001b[0m\u001b[1mOutput Shape          \u001b[0m\u001b[1m \u001b[0m┃\u001b[1m \u001b[0m\u001b[1m      Param #\u001b[0m\u001b[1m \u001b[0m┃\n",
       "┡━━━━━━━━━━━━━━━━━━━━━━━━━━━━━━━━━╇━━━━━━━━━━━━━━━━━━━━━━━━╇━━━━━━━━━━━━━━━┩\n",
       "│ input_layer_1 (\u001b[38;5;33mInputLayer\u001b[0m)      │ (\u001b[38;5;45mNone\u001b[0m, \u001b[38;5;34m17\u001b[0m, \u001b[38;5;34m1\u001b[0m)          │             \u001b[38;5;34m0\u001b[0m │\n",
       "├─────────────────────────────────┼────────────────────────┼───────────────┤\n",
       "│ lstm (\u001b[38;5;33mLSTM\u001b[0m)                     │ (\u001b[38;5;45mNone\u001b[0m, \u001b[38;5;34m17\u001b[0m, \u001b[38;5;34m64\u001b[0m)         │        \u001b[38;5;34m16,896\u001b[0m │\n",
       "├─────────────────────────────────┼────────────────────────┼───────────────┤\n",
       "│ lstm_1 (\u001b[38;5;33mLSTM\u001b[0m)                   │ (\u001b[38;5;45mNone\u001b[0m, \u001b[38;5;34m64\u001b[0m)             │        \u001b[38;5;34m33,024\u001b[0m │\n",
       "├─────────────────────────────────┼────────────────────────┼───────────────┤\n",
       "│ dense_2 (\u001b[38;5;33mDense\u001b[0m)                 │ (\u001b[38;5;45mNone\u001b[0m, \u001b[38;5;34m128\u001b[0m)            │         \u001b[38;5;34m8,320\u001b[0m │\n",
       "├─────────────────────────────────┼────────────────────────┼───────────────┤\n",
       "│ dropout_1 (\u001b[38;5;33mDropout\u001b[0m)             │ (\u001b[38;5;45mNone\u001b[0m, \u001b[38;5;34m128\u001b[0m)            │             \u001b[38;5;34m0\u001b[0m │\n",
       "├─────────────────────────────────┼────────────────────────┼───────────────┤\n",
       "│ dense_3 (\u001b[38;5;33mDense\u001b[0m)                 │ (\u001b[38;5;45mNone\u001b[0m, \u001b[38;5;34m1\u001b[0m)              │           \u001b[38;5;34m129\u001b[0m │\n",
       "└─────────────────────────────────┴────────────────────────┴───────────────┘\n"
      ]
     },
     "metadata": {},
     "output_type": "display_data"
    },
    {
     "data": {
      "text/html": [
       "<pre style=\"white-space:pre;overflow-x:auto;line-height:normal;font-family:Menlo,'DejaVu Sans Mono',consolas,'Courier New',monospace\"><span style=\"font-weight: bold\"> Total params: </span><span style=\"color: #00af00; text-decoration-color: #00af00\">58,369</span> (228.00 KB)\n",
       "</pre>\n"
      ],
      "text/plain": [
       "\u001b[1m Total params: \u001b[0m\u001b[38;5;34m58,369\u001b[0m (228.00 KB)\n"
      ]
     },
     "metadata": {},
     "output_type": "display_data"
    },
    {
     "data": {
      "text/html": [
       "<pre style=\"white-space:pre;overflow-x:auto;line-height:normal;font-family:Menlo,'DejaVu Sans Mono',consolas,'Courier New',monospace\"><span style=\"font-weight: bold\"> Trainable params: </span><span style=\"color: #00af00; text-decoration-color: #00af00\">58,369</span> (228.00 KB)\n",
       "</pre>\n"
      ],
      "text/plain": [
       "\u001b[1m Trainable params: \u001b[0m\u001b[38;5;34m58,369\u001b[0m (228.00 KB)\n"
      ]
     },
     "metadata": {},
     "output_type": "display_data"
    },
    {
     "data": {
      "text/html": [
       "<pre style=\"white-space:pre;overflow-x:auto;line-height:normal;font-family:Menlo,'DejaVu Sans Mono',consolas,'Courier New',monospace\"><span style=\"font-weight: bold\"> Non-trainable params: </span><span style=\"color: #00af00; text-decoration-color: #00af00\">0</span> (0.00 B)\n",
       "</pre>\n"
      ],
      "text/plain": [
       "\u001b[1m Non-trainable params: \u001b[0m\u001b[38;5;34m0\u001b[0m (0.00 B)\n"
      ]
     },
     "metadata": {},
     "output_type": "display_data"
    },
    {
     "name": "stdout",
     "output_type": "stream",
     "text": [
      "Epoch 1/20\n",
      "\u001b[1m18746/18746\u001b[0m \u001b[32m━━━━━━━━━━━━━━━━━━━━\u001b[0m\u001b[37m\u001b[0m \u001b[1m148s\u001b[0m 8ms/step - accuracy: 0.7750 - loss: 0.4652 - val_accuracy: 0.9272 - val_loss: 0.1875\n",
      "Epoch 2/20\n",
      "\u001b[1m18746/18746\u001b[0m \u001b[32m━━━━━━━━━━━━━━━━━━━━\u001b[0m\u001b[37m\u001b[0m \u001b[1m145s\u001b[0m 8ms/step - accuracy: 0.9414 - loss: 0.1517 - val_accuracy: 0.9813 - val_loss: 0.0486\n",
      "Epoch 3/20\n",
      "\u001b[1m18746/18746\u001b[0m \u001b[32m━━━━━━━━━━━━━━━━━━━━\u001b[0m\u001b[37m\u001b[0m \u001b[1m144s\u001b[0m 8ms/step - accuracy: 0.9815 - loss: 0.0517 - val_accuracy: 0.9854 - val_loss: 0.0392\n",
      "Epoch 4/20\n",
      "\u001b[1m18746/18746\u001b[0m \u001b[32m━━━━━━━━━━━━━━━━━━━━\u001b[0m\u001b[37m\u001b[0m \u001b[1m146s\u001b[0m 8ms/step - accuracy: 0.9905 - loss: 0.0279 - val_accuracy: 0.9968 - val_loss: 0.0108\n",
      "Epoch 5/20\n",
      "\u001b[1m18746/18746\u001b[0m \u001b[32m━━━━━━━━━━━━━━━━━━━━\u001b[0m\u001b[37m\u001b[0m \u001b[1m145s\u001b[0m 8ms/step - accuracy: 0.9940 - loss: 0.0177 - val_accuracy: 0.9960 - val_loss: 0.0123\n",
      "Epoch 6/20\n",
      "\u001b[1m18746/18746\u001b[0m \u001b[32m━━━━━━━━━━━━━━━━━━━━\u001b[0m\u001b[37m\u001b[0m \u001b[1m203s\u001b[0m 8ms/step - accuracy: 0.9961 - loss: 0.0119 - val_accuracy: 0.9982 - val_loss: 0.0051\n",
      "Epoch 7/20\n",
      "\u001b[1m18746/18746\u001b[0m \u001b[32m━━━━━━━━━━━━━━━━━━━━\u001b[0m\u001b[37m\u001b[0m \u001b[1m146s\u001b[0m 8ms/step - accuracy: 0.9969 - loss: 0.0097 - val_accuracy: 0.9945 - val_loss: 0.0185\n",
      "Epoch 8/20\n",
      "\u001b[1m18746/18746\u001b[0m \u001b[32m━━━━━━━━━━━━━━━━━━━━\u001b[0m\u001b[37m\u001b[0m \u001b[1m146s\u001b[0m 8ms/step - accuracy: 0.9978 - loss: 0.0071 - val_accuracy: 0.9987 - val_loss: 0.0044\n",
      "Epoch 9/20\n",
      "\u001b[1m18746/18746\u001b[0m \u001b[32m━━━━━━━━━━━━━━━━━━━━\u001b[0m\u001b[37m\u001b[0m \u001b[1m146s\u001b[0m 8ms/step - accuracy: 0.9981 - loss: 0.0064 - val_accuracy: 0.9987 - val_loss: 0.0034\n",
      "Epoch 10/20\n",
      "\u001b[1m18746/18746\u001b[0m \u001b[32m━━━━━━━━━━━━━━━━━━━━\u001b[0m\u001b[37m\u001b[0m \u001b[1m146s\u001b[0m 8ms/step - accuracy: 0.9983 - loss: 0.0055 - val_accuracy: 0.9994 - val_loss: 0.0022\n",
      "Epoch 11/20\n",
      "\u001b[1m18746/18746\u001b[0m \u001b[32m━━━━━━━━━━━━━━━━━━━━\u001b[0m\u001b[37m\u001b[0m \u001b[1m146s\u001b[0m 8ms/step - accuracy: 0.9985 - loss: 0.0048 - val_accuracy: 0.9993 - val_loss: 0.0025\n",
      "Epoch 12/20\n",
      "\u001b[1m18746/18746\u001b[0m \u001b[32m━━━━━━━━━━━━━━━━━━━━\u001b[0m\u001b[37m\u001b[0m \u001b[1m202s\u001b[0m 8ms/step - accuracy: 0.9988 - loss: 0.0039 - val_accuracy: 0.9994 - val_loss: 0.0019\n",
      "Epoch 13/20\n",
      "\u001b[1m18746/18746\u001b[0m \u001b[32m━━━━━━━━━━━━━━━━━━━━\u001b[0m\u001b[37m\u001b[0m \u001b[1m146s\u001b[0m 8ms/step - accuracy: 0.9989 - loss: 0.0035 - val_accuracy: 0.9994 - val_loss: 0.0019\n",
      "Epoch 14/20\n",
      "\u001b[1m18746/18746\u001b[0m \u001b[32m━━━━━━━━━━━━━━━━━━━━\u001b[0m\u001b[37m\u001b[0m \u001b[1m146s\u001b[0m 8ms/step - accuracy: 0.9990 - loss: 0.0033 - val_accuracy: 0.9993 - val_loss: 0.0021\n",
      "Epoch 15/20\n",
      "\u001b[1m18746/18746\u001b[0m \u001b[32m━━━━━━━━━━━━━━━━━━━━\u001b[0m\u001b[37m\u001b[0m \u001b[1m147s\u001b[0m 8ms/step - accuracy: 0.9991 - loss: 0.0030 - val_accuracy: 0.9994 - val_loss: 0.0018\n",
      "Epoch 16/20\n",
      "\u001b[1m18746/18746\u001b[0m \u001b[32m━━━━━━━━━━━━━━━━━━━━\u001b[0m\u001b[37m\u001b[0m \u001b[1m147s\u001b[0m 8ms/step - accuracy: 0.9991 - loss: 0.0031 - val_accuracy: 0.9994 - val_loss: 0.0020\n",
      "Epoch 17/20\n",
      "\u001b[1m18746/18746\u001b[0m \u001b[32m━━━━━━━━━━━━━━━━━━━━\u001b[0m\u001b[37m\u001b[0m \u001b[1m146s\u001b[0m 8ms/step - accuracy: 0.9993 - loss: 0.0024 - val_accuracy: 0.9997 - val_loss: 9.9210e-04\n",
      "Epoch 18/20\n",
      "\u001b[1m18746/18746\u001b[0m \u001b[32m━━━━━━━━━━━━━━━━━━━━\u001b[0m\u001b[37m\u001b[0m \u001b[1m147s\u001b[0m 8ms/step - accuracy: 0.9993 - loss: 0.0024 - val_accuracy: 0.9990 - val_loss: 0.0027\n",
      "Epoch 19/20\n",
      "\u001b[1m18746/18746\u001b[0m \u001b[32m━━━━━━━━━━━━━━━━━━━━\u001b[0m\u001b[37m\u001b[0m \u001b[1m147s\u001b[0m 8ms/step - accuracy: 0.9993 - loss: 0.0025 - val_accuracy: 0.9997 - val_loss: 8.6168e-04\n",
      "Epoch 20/20\n",
      "\u001b[1m18746/18746\u001b[0m \u001b[32m━━━━━━━━━━━━━━━━━━━━\u001b[0m\u001b[37m\u001b[0m \u001b[1m204s\u001b[0m 8ms/step - accuracy: 0.9993 - loss: 0.0022 - val_accuracy: 0.9996 - val_loss: 0.0012\n",
      "Test loss: 0.0012273252941668034\n",
      "Test accuracy: 0.9996148943901062\n"
     ]
    }
   ],
   "source": [
    "import numpy as np\n",
    "import tensorflow as tf\n",
    "from tensorflow.keras.layers import SimpleRNN, Dense, Dropout, Input\n",
    "from tensorflow.keras.models import Model\n",
    "from tensorflow.keras.optimizers import Adam\n",
    "from deap import base, creator, tools, algorithms\n",
    "import random\n",
    "\n",
    "LSTM_UNITS = [64]\n",
    "LEARNING_RATE = [0.01]\n",
    "BATCH_SIZE = [32]\n",
    "DROPOUT = [0.2]\n",
    "\n",
    "def create_model(lstm_units, learning_rate, batch_size, dropout_rate):\n",
    "    input_shape = (17, 1)\n",
    "    inputs = Input(shape=input_shape)\n",
    "    \n",
    "    x = LSTM(lstm_units, return_sequences=True)(inputs) \n",
    "    x = LSTM(lstm_units)(x) \n",
    "    \n",
    "    x = Dense(128, activation='relu')(x)  \n",
    "    x = Dropout(dropout_rate)(x)  \n",
    "    \n",
    "    outputs = Dense(1, activation='softmax')(x)  \n",
    "    \n",
    "    model = Model(inputs, outputs)\n",
    "    \n",
    "    model.compile(optimizer=Adam(learning_rate=learning_rate), \n",
    "                  loss='binary_crossentropy', \n",
    "                  metrics=['accuracy'])\n",
    "    \n",
    "    return model\n",
    "\n",
    "def evaluate(individual):\n",
    "    lstm_units, learning_rate, batch_size, dropout_rate = individual\n",
    "    \n",
    "    model = create_model(lstm_units, learning_rate, batch_size, dropout_rate)\n",
    "    \n",
    "    model.fit(X_train, y_train, epochs=5, validation_data=(X_test, y_test), batch_size=batch_size, verbose=0)\n",
    "    \n",
    "    score = model.evaluate(X_test, y_test, verbose=0)\n",
    "    \n",
    "    return (score[1],) \n",
    "\n",
    "# DEAP setup\n",
    "creator.create(\"FitnessMax\", base.Fitness, weights=(1.0,))  \n",
    "creator.create(\"Individual\", list, fitness=creator.FitnessMax)\n",
    "\n",
    "def create_individual():\n",
    "    return [\n",
    "        random.choice(LSTM_UNITS),        \n",
    "        random.choice(LEARNING_RATE),      \n",
    "        random.choice(BATCH_SIZE),         \n",
    "        random.choice(DROPOUT)             \n",
    "    ]\n",
    "\n",
    "# Genetic algorithm setup\n",
    "toolbox = base.Toolbox()\n",
    "toolbox.register(\"individual\", tools.initIterate, creator.Individual, create_individual)\n",
    "toolbox.register(\"population\", tools.initRepeat, list, toolbox.individual)\n",
    "toolbox.register(\"mate\", tools.cxTwoPoint)  # Crossover operation\n",
    "toolbox.register(\"mutate\", tools.mutUniformInt, low=[32, 0.0001, 16, 0.2], up=[256, 0.01, 64, 0.5], indpb=0.2)  # Mutation operation\n",
    "toolbox.register(\"select\", tools.selTournament, tournsize=3)  # Selection operation\n",
    "toolbox.register(\"evaluate\", evaluate)  # Evaluation function\n",
    "\n",
    "# Create the population\n",
    "population = toolbox.population(n=10) \n",
    "\n",
    "algorithms.eaSimple(population, toolbox, cxpb=0.7, mutpb=0.2, ngen=5)\n",
    "\n",
    "best_individual = tools.selBest(population, 1)[0]\n",
    "print(f\"Best individual: {best_individual}\")\n"
   ]
  }
 ],
 "metadata": {
  "kaggle": {
   "accelerator": "nvidiaTeslaT4",
   "dataSources": [
    {
     "datasetId": 3838623,
     "sourceId": 6650424,
     "sourceType": "datasetVersion"
    }
   ],
   "dockerImageVersionId": 30786,
   "isGpuEnabled": true,
   "isInternetEnabled": true,
   "language": "python",
   "sourceType": "notebook"
  },
  "kernelspec": {
   "display_name": "Python 3",
   "language": "python",
   "name": "python3"
  },
  "language_info": {
   "codemirror_mode": {
    "name": "ipython",
    "version": 3
   },
   "file_extension": ".py",
   "mimetype": "text/x-python",
   "name": "python",
   "nbconvert_exporter": "python",
   "pygments_lexer": "ipython3",
   "version": "3.10.14"
  },
  "papermill": {
   "default_parameters": {},
   "duration": 15024.688313,
   "end_time": "2024-11-07T22:13:35.322302",
   "environment_variables": {},
   "exception": true,
   "input_path": "__notebook__.ipynb",
   "output_path": "__notebook__.ipynb",
   "parameters": {},
   "start_time": "2024-11-07T18:03:10.633989",
   "version": "2.6.0"
  }
 },
 "nbformat": 4,
 "nbformat_minor": 5
}
