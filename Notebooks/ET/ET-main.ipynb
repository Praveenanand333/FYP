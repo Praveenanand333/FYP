{
 "cells": [
  {
   "cell_type": "code",
   "execution_count": 1,
   "id": "622c471f",
   "metadata": {
    "_cell_guid": "b1076dfc-b9ad-4769-8c92-a6c4dae69d19",
    "_uuid": "8f2839f25d086af736a60e9eeb907d3b93b6e0e5",
    "execution": {
     "iopub.execute_input": "2024-09-17T17:34:30.859589Z",
     "iopub.status.busy": "2024-09-17T17:34:30.859199Z",
     "iopub.status.idle": "2024-09-17T17:34:31.624318Z",
     "shell.execute_reply": "2024-09-17T17:34:31.623136Z"
    },
    "papermill": {
     "duration": 0.781321,
     "end_time": "2024-09-17T17:34:31.626498",
     "exception": false,
     "start_time": "2024-09-17T17:34:30.845177",
     "status": "completed"
    },
    "tags": []
   },
   "outputs": [
    {
     "name": "stdout",
     "output_type": "stream",
     "text": [
      "/kaggle/input/eye-tracking-autism/Metadata_Participants.csv\n",
      "/kaggle/input/eye-tracking-autism/Eye-tracking Output/18.csv\n",
      "/kaggle/input/eye-tracking-autism/Eye-tracking Output/20.csv\n",
      "/kaggle/input/eye-tracking-autism/Eye-tracking Output/1.csv\n",
      "/kaggle/input/eye-tracking-autism/Eye-tracking Output/24.csv\n",
      "/kaggle/input/eye-tracking-autism/Eye-tracking Output/11.csv\n",
      "/kaggle/input/eye-tracking-autism/Eye-tracking Output/17.csv\n",
      "/kaggle/input/eye-tracking-autism/Eye-tracking Output/16.csv\n",
      "/kaggle/input/eye-tracking-autism/Eye-tracking Output/3.csv\n",
      "/kaggle/input/eye-tracking-autism/Eye-tracking Output/19.csv\n",
      "/kaggle/input/eye-tracking-autism/Eye-tracking Output/5.csv\n",
      "/kaggle/input/eye-tracking-autism/Eye-tracking Output/2.csv\n",
      "/kaggle/input/eye-tracking-autism/Eye-tracking Output/13.csv\n",
      "/kaggle/input/eye-tracking-autism/Eye-tracking Output/23.csv\n",
      "/kaggle/input/eye-tracking-autism/Eye-tracking Output/14.csv\n",
      "/kaggle/input/eye-tracking-autism/Eye-tracking Output/4.csv\n",
      "/kaggle/input/eye-tracking-autism/Eye-tracking Output/22.csv\n",
      "/kaggle/input/eye-tracking-autism/Eye-tracking Output/8.csv\n",
      "/kaggle/input/eye-tracking-autism/Eye-tracking Output/12.csv\n",
      "/kaggle/input/eye-tracking-autism/Eye-tracking Output/9.csv\n",
      "/kaggle/input/eye-tracking-autism/Eye-tracking Output/7.csv\n",
      "/kaggle/input/eye-tracking-autism/Eye-tracking Output/15.csv\n",
      "/kaggle/input/eye-tracking-autism/Eye-tracking Output/6.csv\n",
      "/kaggle/input/eye-tracking-autism/Eye-tracking Output/10.csv\n",
      "/kaggle/input/eye-tracking-autism/Eye-tracking Output/25.csv\n",
      "/kaggle/input/eye-tracking-autism/Eye-tracking Output/21.csv\n"
     ]
    }
   ],
   "source": [
    "# This Python 3 environment comes with many helpful analytics libraries installed\n",
    "# It is defined by the kaggle/python Docker image: https://github.com/kaggle/docker-python\n",
    "# For example, here's several helpful packages to load\n",
    "\n",
    "import numpy as np # linear algebra\n",
    "import pandas as pd # data processing, CSV file I/O (e.g. pd.read_csv)\n",
    "\n",
    "# Input data files are available in the read-only \"../input/\" directory\n",
    "# For example, running this (by clicking run or pressing Shift+Enter) will list all files under the input directory\n",
    "\n",
    "import os\n",
    "for dirname, _, filenames in os.walk('/kaggle/input'):\n",
    "    for filename in filenames:\n",
    "        print(os.path.join(dirname, filename))\n",
    "\n",
    "# You can write up to 20GB to the current directory (/kaggle/working/) that gets preserved as output when you create a version using \"Save & Run All\" \n",
    "# You can also write temporary files to /kaggle/temp/, but they won't be saved outside of the current session"
   ]
  },
  {
   "cell_type": "code",
   "execution_count": 2,
   "id": "99c1870d",
   "metadata": {
    "execution": {
     "iopub.execute_input": "2024-09-17T17:34:31.653984Z",
     "iopub.status.busy": "2024-09-17T17:34:31.653378Z",
     "iopub.status.idle": "2024-09-17T17:34:31.658757Z",
     "shell.execute_reply": "2024-09-17T17:34:31.657843Z"
    },
    "papermill": {
     "duration": 0.021813,
     "end_time": "2024-09-17T17:34:31.661430",
     "exception": false,
     "start_time": "2024-09-17T17:34:31.639617",
     "status": "completed"
    },
    "tags": []
   },
   "outputs": [],
   "source": [
    "import numpy as np\n",
    "import pandas as pd\n",
    "import warnings\n",
    "warnings.filterwarnings('ignore')"
   ]
  },
  {
   "cell_type": "code",
   "execution_count": 3,
   "id": "31d06bdf",
   "metadata": {
    "execution": {
     "iopub.execute_input": "2024-09-17T17:34:31.689762Z",
     "iopub.status.busy": "2024-09-17T17:34:31.689383Z",
     "iopub.status.idle": "2024-09-17T17:35:26.849398Z",
     "shell.execute_reply": "2024-09-17T17:35:26.848425Z"
    },
    "papermill": {
     "duration": 55.189991,
     "end_time": "2024-09-17T17:35:26.865777",
     "exception": false,
     "start_time": "2024-09-17T17:34:31.675786",
     "status": "completed"
    },
    "tags": []
   },
   "outputs": [
    {
     "data": {
      "text/html": [
       "<div>\n",
       "<style scoped>\n",
       "    .dataframe tbody tr th:only-of-type {\n",
       "        vertical-align: middle;\n",
       "    }\n",
       "\n",
       "    .dataframe tbody tr th {\n",
       "        vertical-align: top;\n",
       "    }\n",
       "\n",
       "    .dataframe thead th {\n",
       "        text-align: right;\n",
       "    }\n",
       "</style>\n",
       "<table border=\"1\" class=\"dataframe\">\n",
       "  <thead>\n",
       "    <tr style=\"text-align: right;\">\n",
       "      <th></th>\n",
       "      <th>Unnamed: 0</th>\n",
       "      <th>RecordingTime [ms]</th>\n",
       "      <th>Time of Day [h:m:s:ms]</th>\n",
       "      <th>Trial</th>\n",
       "      <th>Stimulus</th>\n",
       "      <th>Export Start Trial Time [ms]</th>\n",
       "      <th>Export End Trial Time [ms]</th>\n",
       "      <th>Participant</th>\n",
       "      <th>Color</th>\n",
       "      <th>Tracking Ratio [%]</th>\n",
       "      <th>...</th>\n",
       "      <th>Pupil Position Left X [px]</th>\n",
       "      <th>Pupil Position Left Y [px]</th>\n",
       "      <th>Port Status</th>\n",
       "      <th>AOI Group Right</th>\n",
       "      <th>AOI Scope Right</th>\n",
       "      <th>AOI Order Right</th>\n",
       "      <th>AOI Group Left</th>\n",
       "      <th>AOI Scope Left</th>\n",
       "      <th>AOI Order Binocular</th>\n",
       "      <th>groupe d'enfants</th>\n",
       "    </tr>\n",
       "  </thead>\n",
       "  <tbody>\n",
       "    <tr>\n",
       "      <th>0</th>\n",
       "      <td>0</td>\n",
       "      <td>4780015.315</td>\n",
       "      <td>13:22:17:254</td>\n",
       "      <td>Trial020</td>\n",
       "      <td>20 eye tracking (ballon droite).avi</td>\n",
       "      <td>0.0</td>\n",
       "      <td>52058.676</td>\n",
       "      <td>50</td>\n",
       "      <td>Coral</td>\n",
       "      <td>78.5652</td>\n",
       "      <td>...</td>\n",
       "      <td>NaN</td>\n",
       "      <td>NaN</td>\n",
       "      <td>NaN</td>\n",
       "      <td>NaN</td>\n",
       "      <td>NaN</td>\n",
       "      <td>NaN</td>\n",
       "      <td>NaN</td>\n",
       "      <td>NaN</td>\n",
       "      <td>NaN</td>\n",
       "      <td>NaN</td>\n",
       "    </tr>\n",
       "    <tr>\n",
       "      <th>1</th>\n",
       "      <td>1</td>\n",
       "      <td>4780020.865</td>\n",
       "      <td>13:22:17:260</td>\n",
       "      <td>Trial020</td>\n",
       "      <td>20 eye tracking (ballon droite).avi</td>\n",
       "      <td>0.0</td>\n",
       "      <td>52058.676</td>\n",
       "      <td>50</td>\n",
       "      <td>Coral</td>\n",
       "      <td>78.5652</td>\n",
       "      <td>...</td>\n",
       "      <td>NaN</td>\n",
       "      <td>NaN</td>\n",
       "      <td>NaN</td>\n",
       "      <td>NaN</td>\n",
       "      <td>NaN</td>\n",
       "      <td>NaN</td>\n",
       "      <td>NaN</td>\n",
       "      <td>NaN</td>\n",
       "      <td>NaN</td>\n",
       "      <td>NaN</td>\n",
       "    </tr>\n",
       "    <tr>\n",
       "      <th>2</th>\n",
       "      <td>2</td>\n",
       "      <td>4780040.758</td>\n",
       "      <td>13:22:17:279</td>\n",
       "      <td>Trial020</td>\n",
       "      <td>20 eye tracking (ballon droite).avi</td>\n",
       "      <td>0.0</td>\n",
       "      <td>52058.676</td>\n",
       "      <td>50</td>\n",
       "      <td>Coral</td>\n",
       "      <td>78.5652</td>\n",
       "      <td>...</td>\n",
       "      <td>NaN</td>\n",
       "      <td>NaN</td>\n",
       "      <td>NaN</td>\n",
       "      <td>NaN</td>\n",
       "      <td>NaN</td>\n",
       "      <td>NaN</td>\n",
       "      <td>NaN</td>\n",
       "      <td>NaN</td>\n",
       "      <td>NaN</td>\n",
       "      <td>NaN</td>\n",
       "    </tr>\n",
       "    <tr>\n",
       "      <th>3</th>\n",
       "      <td>3</td>\n",
       "      <td>4780080.503</td>\n",
       "      <td>13:22:17:319</td>\n",
       "      <td>Trial020</td>\n",
       "      <td>20 eye tracking (ballon droite).avi</td>\n",
       "      <td>0.0</td>\n",
       "      <td>52058.676</td>\n",
       "      <td>50</td>\n",
       "      <td>Coral</td>\n",
       "      <td>78.5652</td>\n",
       "      <td>...</td>\n",
       "      <td>NaN</td>\n",
       "      <td>NaN</td>\n",
       "      <td>NaN</td>\n",
       "      <td>NaN</td>\n",
       "      <td>NaN</td>\n",
       "      <td>NaN</td>\n",
       "      <td>NaN</td>\n",
       "      <td>NaN</td>\n",
       "      <td>NaN</td>\n",
       "      <td>NaN</td>\n",
       "    </tr>\n",
       "    <tr>\n",
       "      <th>4</th>\n",
       "      <td>4</td>\n",
       "      <td>4780120.360</td>\n",
       "      <td>13:22:17:359</td>\n",
       "      <td>Trial020</td>\n",
       "      <td>20 eye tracking (ballon droite).avi</td>\n",
       "      <td>0.0</td>\n",
       "      <td>52058.676</td>\n",
       "      <td>50</td>\n",
       "      <td>Coral</td>\n",
       "      <td>78.5652</td>\n",
       "      <td>...</td>\n",
       "      <td>NaN</td>\n",
       "      <td>NaN</td>\n",
       "      <td>NaN</td>\n",
       "      <td>NaN</td>\n",
       "      <td>NaN</td>\n",
       "      <td>NaN</td>\n",
       "      <td>NaN</td>\n",
       "      <td>NaN</td>\n",
       "      <td>NaN</td>\n",
       "      <td>NaN</td>\n",
       "    </tr>\n",
       "    <tr>\n",
       "      <th>5</th>\n",
       "      <td>5</td>\n",
       "      <td>4780140.235</td>\n",
       "      <td>13:22:17:379</td>\n",
       "      <td>Trial020</td>\n",
       "      <td>20 eye tracking (ballon droite).avi</td>\n",
       "      <td>0.0</td>\n",
       "      <td>52058.676</td>\n",
       "      <td>50</td>\n",
       "      <td>Coral</td>\n",
       "      <td>78.5652</td>\n",
       "      <td>...</td>\n",
       "      <td>NaN</td>\n",
       "      <td>NaN</td>\n",
       "      <td>NaN</td>\n",
       "      <td>NaN</td>\n",
       "      <td>NaN</td>\n",
       "      <td>NaN</td>\n",
       "      <td>NaN</td>\n",
       "      <td>NaN</td>\n",
       "      <td>NaN</td>\n",
       "      <td>NaN</td>\n",
       "    </tr>\n",
       "    <tr>\n",
       "      <th>6</th>\n",
       "      <td>6</td>\n",
       "      <td>4780160.125</td>\n",
       "      <td>13:22:17:399</td>\n",
       "      <td>Trial020</td>\n",
       "      <td>20 eye tracking (ballon droite).avi</td>\n",
       "      <td>0.0</td>\n",
       "      <td>52058.676</td>\n",
       "      <td>50</td>\n",
       "      <td>Coral</td>\n",
       "      <td>78.5652</td>\n",
       "      <td>...</td>\n",
       "      <td>NaN</td>\n",
       "      <td>NaN</td>\n",
       "      <td>NaN</td>\n",
       "      <td>NaN</td>\n",
       "      <td>NaN</td>\n",
       "      <td>NaN</td>\n",
       "      <td>NaN</td>\n",
       "      <td>NaN</td>\n",
       "      <td>NaN</td>\n",
       "      <td>NaN</td>\n",
       "    </tr>\n",
       "    <tr>\n",
       "      <th>7</th>\n",
       "      <td>7</td>\n",
       "      <td>4780179.991</td>\n",
       "      <td>13:22:17:419</td>\n",
       "      <td>Trial020</td>\n",
       "      <td>20 eye tracking (ballon droite).avi</td>\n",
       "      <td>0.0</td>\n",
       "      <td>52058.676</td>\n",
       "      <td>50</td>\n",
       "      <td>Coral</td>\n",
       "      <td>78.5652</td>\n",
       "      <td>...</td>\n",
       "      <td>NaN</td>\n",
       "      <td>NaN</td>\n",
       "      <td>NaN</td>\n",
       "      <td>NaN</td>\n",
       "      <td>NaN</td>\n",
       "      <td>NaN</td>\n",
       "      <td>NaN</td>\n",
       "      <td>NaN</td>\n",
       "      <td>NaN</td>\n",
       "      <td>NaN</td>\n",
       "    </tr>\n",
       "    <tr>\n",
       "      <th>8</th>\n",
       "      <td>8</td>\n",
       "      <td>4780199.868</td>\n",
       "      <td>13:22:17:439</td>\n",
       "      <td>Trial020</td>\n",
       "      <td>20 eye tracking (ballon droite).avi</td>\n",
       "      <td>0.0</td>\n",
       "      <td>52058.676</td>\n",
       "      <td>50</td>\n",
       "      <td>Coral</td>\n",
       "      <td>78.5652</td>\n",
       "      <td>...</td>\n",
       "      <td>NaN</td>\n",
       "      <td>NaN</td>\n",
       "      <td>NaN</td>\n",
       "      <td>NaN</td>\n",
       "      <td>NaN</td>\n",
       "      <td>NaN</td>\n",
       "      <td>NaN</td>\n",
       "      <td>NaN</td>\n",
       "      <td>NaN</td>\n",
       "      <td>NaN</td>\n",
       "    </tr>\n",
       "    <tr>\n",
       "      <th>9</th>\n",
       "      <td>9</td>\n",
       "      <td>4780219.754</td>\n",
       "      <td>13:22:17:458</td>\n",
       "      <td>Trial020</td>\n",
       "      <td>20 eye tracking (ballon droite).avi</td>\n",
       "      <td>0.0</td>\n",
       "      <td>52058.676</td>\n",
       "      <td>50</td>\n",
       "      <td>Coral</td>\n",
       "      <td>78.5652</td>\n",
       "      <td>...</td>\n",
       "      <td>NaN</td>\n",
       "      <td>NaN</td>\n",
       "      <td>NaN</td>\n",
       "      <td>NaN</td>\n",
       "      <td>NaN</td>\n",
       "      <td>NaN</td>\n",
       "      <td>NaN</td>\n",
       "      <td>NaN</td>\n",
       "      <td>NaN</td>\n",
       "      <td>NaN</td>\n",
       "    </tr>\n",
       "  </tbody>\n",
       "</table>\n",
       "<p>10 rows × 59 columns</p>\n",
       "</div>"
      ],
      "text/plain": [
       "   Unnamed: 0  RecordingTime [ms] Time of Day [h:m:s:ms]     Trial  \\\n",
       "0           0         4780015.315           13:22:17:254  Trial020   \n",
       "1           1         4780020.865           13:22:17:260  Trial020   \n",
       "2           2         4780040.758           13:22:17:279  Trial020   \n",
       "3           3         4780080.503           13:22:17:319  Trial020   \n",
       "4           4         4780120.360           13:22:17:359  Trial020   \n",
       "5           5         4780140.235           13:22:17:379  Trial020   \n",
       "6           6         4780160.125           13:22:17:399  Trial020   \n",
       "7           7         4780179.991           13:22:17:419  Trial020   \n",
       "8           8         4780199.868           13:22:17:439  Trial020   \n",
       "9           9         4780219.754           13:22:17:458  Trial020   \n",
       "\n",
       "                              Stimulus  Export Start Trial Time [ms]  \\\n",
       "0  20 eye tracking (ballon droite).avi                           0.0   \n",
       "1  20 eye tracking (ballon droite).avi                           0.0   \n",
       "2  20 eye tracking (ballon droite).avi                           0.0   \n",
       "3  20 eye tracking (ballon droite).avi                           0.0   \n",
       "4  20 eye tracking (ballon droite).avi                           0.0   \n",
       "5  20 eye tracking (ballon droite).avi                           0.0   \n",
       "6  20 eye tracking (ballon droite).avi                           0.0   \n",
       "7  20 eye tracking (ballon droite).avi                           0.0   \n",
       "8  20 eye tracking (ballon droite).avi                           0.0   \n",
       "9  20 eye tracking (ballon droite).avi                           0.0   \n",
       "\n",
       "   Export End Trial Time [ms] Participant  Color  Tracking Ratio [%]  ...  \\\n",
       "0                   52058.676          50  Coral             78.5652  ...   \n",
       "1                   52058.676          50  Coral             78.5652  ...   \n",
       "2                   52058.676          50  Coral             78.5652  ...   \n",
       "3                   52058.676          50  Coral             78.5652  ...   \n",
       "4                   52058.676          50  Coral             78.5652  ...   \n",
       "5                   52058.676          50  Coral             78.5652  ...   \n",
       "6                   52058.676          50  Coral             78.5652  ...   \n",
       "7                   52058.676          50  Coral             78.5652  ...   \n",
       "8                   52058.676          50  Coral             78.5652  ...   \n",
       "9                   52058.676          50  Coral             78.5652  ...   \n",
       "\n",
       "  Pupil Position Left X [px] Pupil Position Left Y [px] Port Status  \\\n",
       "0                        NaN                        NaN         NaN   \n",
       "1                        NaN                        NaN         NaN   \n",
       "2                        NaN                        NaN         NaN   \n",
       "3                        NaN                        NaN         NaN   \n",
       "4                        NaN                        NaN         NaN   \n",
       "5                        NaN                        NaN         NaN   \n",
       "6                        NaN                        NaN         NaN   \n",
       "7                        NaN                        NaN         NaN   \n",
       "8                        NaN                        NaN         NaN   \n",
       "9                        NaN                        NaN         NaN   \n",
       "\n",
       "  AOI Group Right AOI Scope Right AOI Order Right AOI Group Left  \\\n",
       "0             NaN             NaN             NaN            NaN   \n",
       "1             NaN             NaN             NaN            NaN   \n",
       "2             NaN             NaN             NaN            NaN   \n",
       "3             NaN             NaN             NaN            NaN   \n",
       "4             NaN             NaN             NaN            NaN   \n",
       "5             NaN             NaN             NaN            NaN   \n",
       "6             NaN             NaN             NaN            NaN   \n",
       "7             NaN             NaN             NaN            NaN   \n",
       "8             NaN             NaN             NaN            NaN   \n",
       "9             NaN             NaN             NaN            NaN   \n",
       "\n",
       "  AOI Scope Left AOI Order Binocular groupe d'enfants  \n",
       "0            NaN                 NaN              NaN  \n",
       "1            NaN                 NaN              NaN  \n",
       "2            NaN                 NaN              NaN  \n",
       "3            NaN                 NaN              NaN  \n",
       "4            NaN                 NaN              NaN  \n",
       "5            NaN                 NaN              NaN  \n",
       "6            NaN                 NaN              NaN  \n",
       "7            NaN                 NaN              NaN  \n",
       "8            NaN                 NaN              NaN  \n",
       "9            NaN                 NaN              NaN  \n",
       "\n",
       "[10 rows x 59 columns]"
      ]
     },
     "execution_count": 3,
     "metadata": {},
     "output_type": "execute_result"
    }
   ],
   "source": [
    "All_Observation = pd.DataFrame()\n",
    "for i in range(1,26,1):\n",
    "    file_path = f'/kaggle/input/eye-tracking-autism/Eye-tracking Output/{i}.csv'\n",
    "    observation = pd.read_csv(file_path,low_memory = False)\n",
    "    All_Observation = pd.concat([All_Observation,observation],axis=0,ignore_index=True)\n",
    "\n",
    "All_Observation.head(10)"
   ]
  },
  {
   "cell_type": "code",
   "execution_count": 4,
   "id": "79539c24",
   "metadata": {
    "execution": {
     "iopub.execute_input": "2024-09-17T17:35:26.892733Z",
     "iopub.status.busy": "2024-09-17T17:35:26.892082Z",
     "iopub.status.idle": "2024-09-17T17:35:26.897529Z",
     "shell.execute_reply": "2024-09-17T17:35:26.896491Z"
    },
    "papermill": {
     "duration": 0.020491,
     "end_time": "2024-09-17T17:35:26.899460",
     "exception": false,
     "start_time": "2024-09-17T17:35:26.878969",
     "status": "completed"
    },
    "tags": []
   },
   "outputs": [
    {
     "name": "stdout",
     "output_type": "stream",
     "text": [
      "Number of rows in observations is : 2252943\n",
      "Number of features for observations is : 59\n"
     ]
    }
   ],
   "source": [
    "print('Number of rows in observations is :', All_Observation.shape[0])\n",
    "print('Number of features for observations is :', All_Observation.shape[1])"
   ]
  },
  {
   "cell_type": "code",
   "execution_count": 5,
   "id": "f89c418a",
   "metadata": {
    "execution": {
     "iopub.execute_input": "2024-09-17T17:35:26.925456Z",
     "iopub.status.busy": "2024-09-17T17:35:26.924835Z",
     "iopub.status.idle": "2024-09-17T17:35:26.929533Z",
     "shell.execute_reply": "2024-09-17T17:35:26.928717Z"
    },
    "papermill": {
     "duration": 0.020271,
     "end_time": "2024-09-17T17:35:26.931673",
     "exception": false,
     "start_time": "2024-09-17T17:35:26.911402",
     "status": "completed"
    },
    "tags": []
   },
   "outputs": [
    {
     "name": "stdout",
     "output_type": "stream",
     "text": [
      "(2252943, 59)\n"
     ]
    }
   ],
   "source": [
    "print(All_Observation.shape)"
   ]
  },
  {
   "cell_type": "code",
   "execution_count": 6,
   "id": "9a627bc6",
   "metadata": {
    "execution": {
     "iopub.execute_input": "2024-09-17T17:35:26.957706Z",
     "iopub.status.busy": "2024-09-17T17:35:26.956938Z",
     "iopub.status.idle": "2024-09-17T17:35:26.962428Z",
     "shell.execute_reply": "2024-09-17T17:35:26.961538Z"
    },
    "papermill": {
     "duration": 0.020556,
     "end_time": "2024-09-17T17:35:26.964423",
     "exception": false,
     "start_time": "2024-09-17T17:35:26.943867",
     "status": "completed"
    },
    "tags": []
   },
   "outputs": [
    {
     "name": "stdout",
     "output_type": "stream",
     "text": [
      "Feature names are: Index(['Unnamed: 0', 'RecordingTime [ms]', 'Time of Day [h:m:s:ms]', 'Trial',\n",
      "       'Stimulus', 'Export Start Trial Time [ms]',\n",
      "       'Export End Trial Time [ms]', 'Participant', 'Color',\n",
      "       'Tracking Ratio [%]', 'Category Group', 'Category Right',\n",
      "       'Category Left', 'Index Right', 'Index Left',\n",
      "       'Pupil Diameter Right [mm]', 'Pupil Diameter Left [mm]',\n",
      "       'Point of Regard Right X [px]', 'Point of Regard Right Y [px]',\n",
      "       'Point of Regard Left X [px]', 'Point of Regard Left Y [px]',\n",
      "       'AOI Name Right', 'AOI Name Left', 'Gaze Vector Right X',\n",
      "       'Gaze Vector Right Y', 'Gaze Vector Right Z', 'Gaze Vector Left X',\n",
      "       'Gaze Vector Left Y', 'Gaze Vector Left Z', 'Annotation Name',\n",
      "       'Annotation Description', 'Annotation Tags', 'Mouse Position X [px]',\n",
      "       'Mouse Position Y [px]', 'Scroll Direction X', 'Scroll Direction Y',\n",
      "       'Content', 'Pupil Size Right X [px]', 'Pupil Size Right Y [px]',\n",
      "       'Pupil Size Left X [px]', 'Pupil Size Left Y [px]',\n",
      "       'Eye Position Right X [mm]', 'Eye Position Right Y [mm]',\n",
      "       'Eye Position Right Z [mm]', 'Eye Position Left X [mm]',\n",
      "       'Eye Position Left Y [mm]', 'Eye Position Left Z [mm]',\n",
      "       'Pupil Position Right X [px]', 'Pupil Position Right Y [px]',\n",
      "       'Pupil Position Left X [px]', 'Pupil Position Left Y [px]',\n",
      "       'Port Status', 'AOI Group Right', 'AOI Scope Right', 'AOI Order Right',\n",
      "       'AOI Group Left', 'AOI Scope Left', 'AOI Order Binocular',\n",
      "       'groupe d'enfants'],\n",
      "      dtype='object')\n"
     ]
    }
   ],
   "source": [
    "print('Feature names are:', All_Observation.columns)"
   ]
  },
  {
   "cell_type": "code",
   "execution_count": 7,
   "id": "a5a4578c",
   "metadata": {
    "execution": {
     "iopub.execute_input": "2024-09-17T17:35:26.989588Z",
     "iopub.status.busy": "2024-09-17T17:35:26.989315Z",
     "iopub.status.idle": "2024-09-17T17:35:27.005489Z",
     "shell.execute_reply": "2024-09-17T17:35:27.004636Z"
    },
    "papermill": {
     "duration": 0.030861,
     "end_time": "2024-09-17T17:35:27.007373",
     "exception": false,
     "start_time": "2024-09-17T17:35:26.976512",
     "status": "completed"
    },
    "tags": []
   },
   "outputs": [
    {
     "data": {
      "text/html": [
       "<div>\n",
       "<style scoped>\n",
       "    .dataframe tbody tr th:only-of-type {\n",
       "        vertical-align: middle;\n",
       "    }\n",
       "\n",
       "    .dataframe tbody tr th {\n",
       "        vertical-align: top;\n",
       "    }\n",
       "\n",
       "    .dataframe thead th {\n",
       "        text-align: right;\n",
       "    }\n",
       "</style>\n",
       "<table border=\"1\" class=\"dataframe\">\n",
       "  <thead>\n",
       "    <tr style=\"text-align: right;\">\n",
       "      <th></th>\n",
       "      <th>ParticipantID</th>\n",
       "      <th>Gender</th>\n",
       "      <th>Age</th>\n",
       "      <th>Class</th>\n",
       "      <th>CARS Score</th>\n",
       "    </tr>\n",
       "  </thead>\n",
       "  <tbody>\n",
       "    <tr>\n",
       "      <th>0</th>\n",
       "      <td>1</td>\n",
       "      <td>M</td>\n",
       "      <td>7.0</td>\n",
       "      <td>ASD</td>\n",
       "      <td>32.5</td>\n",
       "    </tr>\n",
       "    <tr>\n",
       "      <th>1</th>\n",
       "      <td>2</td>\n",
       "      <td>F</td>\n",
       "      <td>8.9</td>\n",
       "      <td>ASD</td>\n",
       "      <td>36.5</td>\n",
       "    </tr>\n",
       "    <tr>\n",
       "      <th>2</th>\n",
       "      <td>3</td>\n",
       "      <td>M</td>\n",
       "      <td>4.4</td>\n",
       "      <td>ASD</td>\n",
       "      <td>27.0</td>\n",
       "    </tr>\n",
       "    <tr>\n",
       "      <th>3</th>\n",
       "      <td>4</td>\n",
       "      <td>M</td>\n",
       "      <td>6.9</td>\n",
       "      <td>ASD</td>\n",
       "      <td>35.0</td>\n",
       "    </tr>\n",
       "    <tr>\n",
       "      <th>4</th>\n",
       "      <td>5</td>\n",
       "      <td>M</td>\n",
       "      <td>8.9</td>\n",
       "      <td>ASD</td>\n",
       "      <td>31.0</td>\n",
       "    </tr>\n",
       "  </tbody>\n",
       "</table>\n",
       "</div>"
      ],
      "text/plain": [
       "   ParticipantID Gender  Age Class  CARS Score\n",
       "0              1      M  7.0   ASD        32.5\n",
       "1              2      F  8.9   ASD        36.5\n",
       "2              3      M  4.4   ASD        27.0\n",
       "3              4      M  6.9   ASD        35.0\n",
       "4              5      M  8.9   ASD        31.0"
      ]
     },
     "execution_count": 7,
     "metadata": {},
     "output_type": "execute_result"
    }
   ],
   "source": [
    "Participants = pd.read_csv('/kaggle/input/eye-tracking-autism/Metadata_Participants.csv',low_memory = False)\n",
    "Participants.head()"
   ]
  },
  {
   "cell_type": "code",
   "execution_count": 8,
   "id": "3bd375d3",
   "metadata": {
    "execution": {
     "iopub.execute_input": "2024-09-17T17:35:27.033088Z",
     "iopub.status.busy": "2024-09-17T17:35:27.032833Z",
     "iopub.status.idle": "2024-09-17T17:35:27.037219Z",
     "shell.execute_reply": "2024-09-17T17:35:27.036408Z"
    },
    "papermill": {
     "duration": 0.019224,
     "end_time": "2024-09-17T17:35:27.039141",
     "exception": false,
     "start_time": "2024-09-17T17:35:27.019917",
     "status": "completed"
    },
    "tags": []
   },
   "outputs": [],
   "source": [
    "All_Observation.rename(columns={'Participant':'ParticipantID'}, inplace=True)"
   ]
  },
  {
   "cell_type": "code",
   "execution_count": 9,
   "id": "e2886839",
   "metadata": {
    "execution": {
     "iopub.execute_input": "2024-09-17T17:35:27.064997Z",
     "iopub.status.busy": "2024-09-17T17:35:27.064677Z",
     "iopub.status.idle": "2024-09-17T17:35:27.269678Z",
     "shell.execute_reply": "2024-09-17T17:35:27.268693Z"
    },
    "papermill": {
     "duration": 0.220158,
     "end_time": "2024-09-17T17:35:27.271752",
     "exception": false,
     "start_time": "2024-09-17T17:35:27.051594",
     "status": "completed"
    },
    "tags": []
   },
   "outputs": [
    {
     "name": "stdout",
     "output_type": "stream",
     "text": [
      "Count of null value in column of 'ParticipantID' =  0\n"
     ]
    }
   ],
   "source": [
    "print(\"Count of null value in column of 'ParticipantID' = \",All_Observation['ParticipantID'].isna().sum())"
   ]
  },
  {
   "cell_type": "code",
   "execution_count": 10,
   "id": "9fa23ff2",
   "metadata": {
    "execution": {
     "iopub.execute_input": "2024-09-17T17:35:27.298122Z",
     "iopub.status.busy": "2024-09-17T17:35:27.297810Z",
     "iopub.status.idle": "2024-09-17T17:35:27.692120Z",
     "shell.execute_reply": "2024-09-17T17:35:27.691106Z"
    },
    "papermill": {
     "duration": 0.409514,
     "end_time": "2024-09-17T17:35:27.694095",
     "exception": false,
     "start_time": "2024-09-17T17:35:27.284581",
     "status": "completed"
    },
    "tags": []
   },
   "outputs": [
    {
     "name": "stdout",
     "output_type": "stream",
     "text": [
      "        ParticipantID   count\n",
      "0                  11    6188\n",
      "1                  17    3518\n",
      "2                  18    6420\n",
      "3                  19    6855\n",
      "4                  20    7006\n",
      "..                ...     ...\n",
      "61                  7    6187\n",
      "62                  8    6265\n",
      "63                  9    7658\n",
      "64  Unidentified(Neg)  878362\n",
      "65  Unidentified(Pos)   23424\n",
      "\n",
      "[66 rows x 2 columns]\n",
      "Number of Participants in observation is : 66\n"
     ]
    }
   ],
   "source": [
    "grouped_obs = All_Observation.groupby('ParticipantID', dropna=False).size().reset_index(name='count')\n",
    "print(grouped_obs)\n",
    "\n",
    "print('Number of Participants in observation is :', len(grouped_obs))"
   ]
  },
  {
   "cell_type": "code",
   "execution_count": 11,
   "id": "ffefa9a0",
   "metadata": {
    "execution": {
     "iopub.execute_input": "2024-09-17T17:35:27.720999Z",
     "iopub.status.busy": "2024-09-17T17:35:27.720644Z",
     "iopub.status.idle": "2024-09-17T17:35:27.725797Z",
     "shell.execute_reply": "2024-09-17T17:35:27.724967Z"
    },
    "papermill": {
     "duration": 0.020566,
     "end_time": "2024-09-17T17:35:27.727777",
     "exception": false,
     "start_time": "2024-09-17T17:35:27.707211",
     "status": "completed"
    },
    "tags": []
   },
   "outputs": [
    {
     "name": "stdout",
     "output_type": "stream",
     "text": [
      "The Max_ParticipantID =  59\n"
     ]
    }
   ],
   "source": [
    "MaxValue = Participants['ParticipantID'].max()\n",
    "print(\"The Max_ParticipantID = \",MaxValue)"
   ]
  },
  {
   "cell_type": "code",
   "execution_count": 12,
   "id": "d4bb3656",
   "metadata": {
    "execution": {
     "iopub.execute_input": "2024-09-17T17:35:27.754506Z",
     "iopub.status.busy": "2024-09-17T17:35:27.754203Z",
     "iopub.status.idle": "2024-09-17T17:35:33.661482Z",
     "shell.execute_reply": "2024-09-17T17:35:33.660519Z"
    },
    "papermill": {
     "duration": 5.923282,
     "end_time": "2024-09-17T17:35:33.663755",
     "exception": false,
     "start_time": "2024-09-17T17:35:27.740473",
     "status": "completed"
    },
    "tags": []
   },
   "outputs": [
    {
     "name": "stdout",
     "output_type": "stream",
     "text": [
      "Number of Participants after converting to integer: 58\n",
      "Count of records for 'ParticipantID=60' is :  901786\n",
      "Count of all observation except 60 is :  1351157\n"
     ]
    }
   ],
   "source": [
    "All_Observation['ParticipantID'] = All_Observation['ParticipantID'].replace('Unidentified(Neg)', MaxValue + 1)\n",
    "All_Observation['ParticipantID'] = All_Observation['ParticipantID'].replace('Unidentified(Pos)', MaxValue + 1)\n",
    "\n",
    "All_Observation['ParticipantID'] = pd.to_numeric(All_Observation['ParticipantID'], errors='coerce').astype('Int64')\n",
    "Count_60 = All_Observation[All_Observation['ParticipantID'] == 60]['ParticipantID'].count()\n",
    "#grouped_df = All_Observation.groupby('ParticipantID', dropna=False).size().reset_index(name='count')\n",
    "#print(grouped_df)\n",
    "#Count_60 = grouped_df[grouped_df['ParticipantID'] == 60]['count'].sum()\n",
    "\n",
    "print('Number of Participants after converting to integer:', len(All_Observation.ParticipantID.unique()))\n",
    "print(\"Count of records for 'ParticipantID=60' is : \",Count_60)\n",
    "print('Count of all observation except 60 is : ',All_Observation.shape[0] - Count_60 )"
   ]
  },
  {
   "cell_type": "code",
   "execution_count": 13,
   "id": "31507b23",
   "metadata": {
    "execution": {
     "iopub.execute_input": "2024-09-17T17:35:33.690714Z",
     "iopub.status.busy": "2024-09-17T17:35:33.690358Z",
     "iopub.status.idle": "2024-09-17T17:35:35.662262Z",
     "shell.execute_reply": "2024-09-17T17:35:35.661330Z"
    },
    "papermill": {
     "duration": 1.988843,
     "end_time": "2024-09-17T17:35:35.665521",
     "exception": false,
     "start_time": "2024-09-17T17:35:33.676678",
     "status": "completed"
    },
    "tags": []
   },
   "outputs": [
    {
     "data": {
      "image/png": "[encoded data removed]",
      "text/plain": [
       "<Figure size 1500x800 with 2 Axes>"
      ]
     },
     "metadata": {},
     "output_type": "display_data"
    }
   ],
   "source": [
    "import matplotlib.pyplot as plt\n",
    "import numpy as np\n",
    "\n",
    "\n",
    "n_bins = range(1,All_Observation['ParticipantID'].max()+1,1)\n",
    "\n",
    "fig, (ax1, ax2) = plt.subplots(1,2,figsize=(15, 8))\n",
    "#width = 101\n",
    "\n",
    "ax1.hist(All_Observation['ParticipantID'], bins = n_bins)\n",
    "ax1.set_xlabel('ParticipantID')\n",
    "ax1.set_ylabel('Frequency')\n",
    "ax1.title.set_text('Including participent=60 ')\n",
    "\n",
    "ax2.hist(All_Observation[All_Observation['ParticipantID'] != 60]['ParticipantID'], bins= n_bins)\n",
    "ax2.set_xlabel('ParticipantID')\n",
    "ax2.set_ylabel('Frequency')\n",
    "ax2.title.set_text('Excluding participent=60 ')\n",
    "\n",
    "plt.suptitle('Histogram of each ParticipantID frequency in observations')\n",
    "plt.show()"
   ]
  },
  {
   "cell_type": "code",
   "execution_count": 14,
   "id": "422488a3",
   "metadata": {
    "execution": {
     "iopub.execute_input": "2024-09-17T17:35:35.697923Z",
     "iopub.status.busy": "2024-09-17T17:35:35.697449Z",
     "iopub.status.idle": "2024-09-17T17:35:37.291797Z",
     "shell.execute_reply": "2024-09-17T17:35:37.290902Z"
    },
    "papermill": {
     "duration": 1.610854,
     "end_time": "2024-09-17T17:35:37.293626",
     "exception": false,
     "start_time": "2024-09-17T17:35:35.682772",
     "status": "completed"
    },
    "tags": []
   },
   "outputs": [
    {
     "name": "stdout",
     "output_type": "stream",
     "text": [
      "Skewness: -0.292999\n",
      "Mean: 36.63752028816784\n",
      "Median: 37.0\n",
      "Standard deviation: 16.227654853096713\n",
      "Q1: 23.0\n",
      "Q2 (median): 37.0\n",
      "Q3: 52.0\n"
     ]
    },
    {
     "data": {
      "image/png": "[encoded data removed]",
      "text/plain": [
       "<Figure size 640x480 with 1 Axes>"
      ]
     },
     "metadata": {},
     "output_type": "display_data"
    }
   ],
   "source": [
    "Filtered_Participants = All_Observation[All_Observation['ParticipantID'] != 60]['ParticipantID']\n",
    "mean = np.mean(Filtered_Participants)\n",
    "median = np.median(Filtered_Participants)\n",
    "std = np.std(Filtered_Participants)\n",
    "q1, q2, q3 = np.percentile(Filtered_Participants, [25, 50, 75])\n",
    "\n",
    "plt.boxplot(Filtered_Participants)\n",
    "\n",
    "plt.title('Box plot of data')\n",
    "plt.ylabel('Value')\n",
    "\n",
    "\n",
    "print(\"Skewness: %f\" % Filtered_Participants.skew())\n",
    "print('Mean:', mean)\n",
    "print('Median:', median)\n",
    "print('Standard deviation:', std)\n",
    "print('Q1:', q1)\n",
    "print('Q2 (median):', q2)\n",
    "print('Q3:', q3)\n",
    "\n",
    "plt.show()"
   ]
  },
  {
   "cell_type": "code",
   "execution_count": 15,
   "id": "71b89457",
   "metadata": {
    "execution": {
     "iopub.execute_input": "2024-09-17T17:35:37.324097Z",
     "iopub.status.busy": "2024-09-17T17:35:37.323761Z",
     "iopub.status.idle": "2024-09-17T17:35:41.839526Z",
     "shell.execute_reply": "2024-09-17T17:35:41.838632Z"
    },
    "papermill": {
     "duration": 4.533576,
     "end_time": "2024-09-17T17:35:41.841664",
     "exception": false,
     "start_time": "2024-09-17T17:35:37.308088",
     "status": "completed"
    },
    "tags": []
   },
   "outputs": [
    {
     "data": {
      "text/html": [
       "<div>\n",
       "<style scoped>\n",
       "    .dataframe tbody tr th:only-of-type {\n",
       "        vertical-align: middle;\n",
       "    }\n",
       "\n",
       "    .dataframe tbody tr th {\n",
       "        vertical-align: top;\n",
       "    }\n",
       "\n",
       "    .dataframe thead th {\n",
       "        text-align: right;\n",
       "    }\n",
       "</style>\n",
       "<table border=\"1\" class=\"dataframe\">\n",
       "  <thead>\n",
       "    <tr style=\"text-align: right;\">\n",
       "      <th></th>\n",
       "      <th>Unnamed: 0</th>\n",
       "      <th>RecordingTime [ms]</th>\n",
       "      <th>Time of Day [h:m:s:ms]</th>\n",
       "      <th>Trial</th>\n",
       "      <th>Stimulus</th>\n",
       "      <th>Export Start Trial Time [ms]</th>\n",
       "      <th>Export End Trial Time [ms]</th>\n",
       "      <th>ParticipantID</th>\n",
       "      <th>Color</th>\n",
       "      <th>Tracking Ratio [%]</th>\n",
       "      <th>...</th>\n",
       "      <th>AOI Scope Right</th>\n",
       "      <th>AOI Order Right</th>\n",
       "      <th>AOI Group Left</th>\n",
       "      <th>AOI Scope Left</th>\n",
       "      <th>AOI Order Binocular</th>\n",
       "      <th>groupe d'enfants</th>\n",
       "      <th>Gender</th>\n",
       "      <th>Age</th>\n",
       "      <th>Class</th>\n",
       "      <th>CARS Score</th>\n",
       "    </tr>\n",
       "  </thead>\n",
       "  <tbody>\n",
       "    <tr>\n",
       "      <th>0</th>\n",
       "      <td>0</td>\n",
       "      <td>4780015.315</td>\n",
       "      <td>13:22:17:254</td>\n",
       "      <td>Trial020</td>\n",
       "      <td>20 eye tracking (ballon droite).avi</td>\n",
       "      <td>0.0</td>\n",
       "      <td>52058.676</td>\n",
       "      <td>50</td>\n",
       "      <td>Coral</td>\n",
       "      <td>78.5652</td>\n",
       "      <td>...</td>\n",
       "      <td>NaN</td>\n",
       "      <td>NaN</td>\n",
       "      <td>NaN</td>\n",
       "      <td>NaN</td>\n",
       "      <td>NaN</td>\n",
       "      <td>NaN</td>\n",
       "      <td>F</td>\n",
       "      <td>11.5</td>\n",
       "      <td>TD</td>\n",
       "      <td>NaN</td>\n",
       "    </tr>\n",
       "    <tr>\n",
       "      <th>1</th>\n",
       "      <td>1</td>\n",
       "      <td>4780020.865</td>\n",
       "      <td>13:22:17:260</td>\n",
       "      <td>Trial020</td>\n",
       "      <td>20 eye tracking (ballon droite).avi</td>\n",
       "      <td>0.0</td>\n",
       "      <td>52058.676</td>\n",
       "      <td>50</td>\n",
       "      <td>Coral</td>\n",
       "      <td>78.5652</td>\n",
       "      <td>...</td>\n",
       "      <td>NaN</td>\n",
       "      <td>NaN</td>\n",
       "      <td>NaN</td>\n",
       "      <td>NaN</td>\n",
       "      <td>NaN</td>\n",
       "      <td>NaN</td>\n",
       "      <td>F</td>\n",
       "      <td>11.5</td>\n",
       "      <td>TD</td>\n",
       "      <td>NaN</td>\n",
       "    </tr>\n",
       "    <tr>\n",
       "      <th>2</th>\n",
       "      <td>2</td>\n",
       "      <td>4780040.758</td>\n",
       "      <td>13:22:17:279</td>\n",
       "      <td>Trial020</td>\n",
       "      <td>20 eye tracking (ballon droite).avi</td>\n",
       "      <td>0.0</td>\n",
       "      <td>52058.676</td>\n",
       "      <td>50</td>\n",
       "      <td>Coral</td>\n",
       "      <td>78.5652</td>\n",
       "      <td>...</td>\n",
       "      <td>NaN</td>\n",
       "      <td>NaN</td>\n",
       "      <td>NaN</td>\n",
       "      <td>NaN</td>\n",
       "      <td>NaN</td>\n",
       "      <td>NaN</td>\n",
       "      <td>F</td>\n",
       "      <td>11.5</td>\n",
       "      <td>TD</td>\n",
       "      <td>NaN</td>\n",
       "    </tr>\n",
       "    <tr>\n",
       "      <th>3</th>\n",
       "      <td>3</td>\n",
       "      <td>4780080.503</td>\n",
       "      <td>13:22:17:319</td>\n",
       "      <td>Trial020</td>\n",
       "      <td>20 eye tracking (ballon droite).avi</td>\n",
       "      <td>0.0</td>\n",
       "      <td>52058.676</td>\n",
       "      <td>50</td>\n",
       "      <td>Coral</td>\n",
       "      <td>78.5652</td>\n",
       "      <td>...</td>\n",
       "      <td>NaN</td>\n",
       "      <td>NaN</td>\n",
       "      <td>NaN</td>\n",
       "      <td>NaN</td>\n",
       "      <td>NaN</td>\n",
       "      <td>NaN</td>\n",
       "      <td>F</td>\n",
       "      <td>11.5</td>\n",
       "      <td>TD</td>\n",
       "      <td>NaN</td>\n",
       "    </tr>\n",
       "    <tr>\n",
       "      <th>4</th>\n",
       "      <td>4</td>\n",
       "      <td>4780120.360</td>\n",
       "      <td>13:22:17:359</td>\n",
       "      <td>Trial020</td>\n",
       "      <td>20 eye tracking (ballon droite).avi</td>\n",
       "      <td>0.0</td>\n",
       "      <td>52058.676</td>\n",
       "      <td>50</td>\n",
       "      <td>Coral</td>\n",
       "      <td>78.5652</td>\n",
       "      <td>...</td>\n",
       "      <td>NaN</td>\n",
       "      <td>NaN</td>\n",
       "      <td>NaN</td>\n",
       "      <td>NaN</td>\n",
       "      <td>NaN</td>\n",
       "      <td>NaN</td>\n",
       "      <td>F</td>\n",
       "      <td>11.5</td>\n",
       "      <td>TD</td>\n",
       "      <td>NaN</td>\n",
       "    </tr>\n",
       "  </tbody>\n",
       "</table>\n",
       "<p>5 rows × 63 columns</p>\n",
       "</div>"
      ],
      "text/plain": [
       "   Unnamed: 0  RecordingTime [ms] Time of Day [h:m:s:ms]     Trial  \\\n",
       "0           0         4780015.315           13:22:17:254  Trial020   \n",
       "1           1         4780020.865           13:22:17:260  Trial020   \n",
       "2           2         4780040.758           13:22:17:279  Trial020   \n",
       "3           3         4780080.503           13:22:17:319  Trial020   \n",
       "4           4         4780120.360           13:22:17:359  Trial020   \n",
       "\n",
       "                              Stimulus  Export Start Trial Time [ms]  \\\n",
       "0  20 eye tracking (ballon droite).avi                           0.0   \n",
       "1  20 eye tracking (ballon droite).avi                           0.0   \n",
       "2  20 eye tracking (ballon droite).avi                           0.0   \n",
       "3  20 eye tracking (ballon droite).avi                           0.0   \n",
       "4  20 eye tracking (ballon droite).avi                           0.0   \n",
       "\n",
       "   Export End Trial Time [ms]  ParticipantID  Color  Tracking Ratio [%]  ...  \\\n",
       "0                   52058.676             50  Coral             78.5652  ...   \n",
       "1                   52058.676             50  Coral             78.5652  ...   \n",
       "2                   52058.676             50  Coral             78.5652  ...   \n",
       "3                   52058.676             50  Coral             78.5652  ...   \n",
       "4                   52058.676             50  Coral             78.5652  ...   \n",
       "\n",
       "  AOI Scope Right AOI Order Right AOI Group Left AOI Scope Left  \\\n",
       "0             NaN             NaN            NaN            NaN   \n",
       "1             NaN             NaN            NaN            NaN   \n",
       "2             NaN             NaN            NaN            NaN   \n",
       "3             NaN             NaN            NaN            NaN   \n",
       "4             NaN             NaN            NaN            NaN   \n",
       "\n",
       "  AOI Order Binocular groupe d'enfants Gender   Age Class CARS Score  \n",
       "0                 NaN              NaN      F  11.5    TD        NaN  \n",
       "1                 NaN              NaN      F  11.5    TD        NaN  \n",
       "2                 NaN              NaN      F  11.5    TD        NaN  \n",
       "3                 NaN              NaN      F  11.5    TD        NaN  \n",
       "4                 NaN              NaN      F  11.5    TD        NaN  \n",
       "\n",
       "[5 rows x 63 columns]"
      ]
     },
     "execution_count": 15,
     "metadata": {},
     "output_type": "execute_result"
    }
   ],
   "source": [
    "if 'Age' not in All_Observation:\n",
    "    All_Observation = pd.merge(All_Observation, Participants, how='inner', on = 'ParticipantID')\n",
    "\n",
    "\n",
    "# 5 rows × 63 columns\n",
    "All_Observation.head()"
   ]
  },
  {
   "cell_type": "code",
   "execution_count": 16,
   "id": "618724fd",
   "metadata": {
    "execution": {
     "iopub.execute_input": "2024-09-17T17:35:41.872165Z",
     "iopub.status.busy": "2024-09-17T17:35:41.871548Z",
     "iopub.status.idle": "2024-09-17T17:35:41.876542Z",
     "shell.execute_reply": "2024-09-17T17:35:41.875743Z"
    },
    "papermill": {
     "duration": 0.021782,
     "end_time": "2024-09-17T17:35:41.878329",
     "exception": false,
     "start_time": "2024-09-17T17:35:41.856547",
     "status": "completed"
    },
    "tags": []
   },
   "outputs": [
    {
     "name": "stdout",
     "output_type": "stream",
     "text": [
      "Number of rows after join two datasets =  1351157\n",
      "Number of columns after join two datasets =  63\n"
     ]
    }
   ],
   "source": [
    "print('Number of rows after join two datasets = ' , All_Observation.shape[0])\n",
    "print('Number of columns after join two datasets = ' , All_Observation.shape[1])"
   ]
  },
  {
   "cell_type": "code",
   "execution_count": 17,
   "id": "716b9557",
   "metadata": {
    "execution": {
     "iopub.execute_input": "2024-09-17T17:35:41.907801Z",
     "iopub.status.busy": "2024-09-17T17:35:41.907444Z",
     "iopub.status.idle": "2024-09-17T17:35:43.610191Z",
     "shell.execute_reply": "2024-09-17T17:35:43.609275Z"
    },
    "papermill": {
     "duration": 1.720085,
     "end_time": "2024-09-17T17:35:43.612405",
     "exception": false,
     "start_time": "2024-09-17T17:35:41.892320",
     "status": "completed"
    },
    "tags": []
   },
   "outputs": [
    {
     "name": "stdout",
     "output_type": "stream",
     "text": [
      "Number of unique participants with ASD: 27\n",
      "Number of unique participants with TD: 30\n",
      "Probability of ASD is : 0.47\n",
      "Probability of TD is : 0.53\n"
     ]
    }
   ],
   "source": [
    "import pandas as pd\n",
    "import numpy as np\n",
    "\n",
    "num_asd_participants = All_Observation[All_Observation['Class'] == 'ASD']['ParticipantID'].nunique()\n",
    "\n",
    "num_td_participants = All_Observation[All_Observation['Class'] == 'TD']['ParticipantID'].nunique()\n",
    "\n",
    "total_participants = All_Observation['ParticipantID'].nunique()\n",
    "\n",
    "ASD_prob = num_asd_participants / total_participants\n",
    "TD_prob = 1 - ASD_prob\n",
    "\n",
    "print('Number of unique participants with ASD:', num_asd_participants)\n",
    "print('Number of unique participants with TD:', num_td_participants)\n",
    "print('Probability of ASD is :', np.round(ASD_prob, 2))\n",
    "print('Probability of TD is :', round(TD_prob, 2))\n"
   ]
  },
  {
   "cell_type": "code",
   "execution_count": 18,
   "id": "3d248393",
   "metadata": {
    "execution": {
     "iopub.execute_input": "2024-09-17T17:35:43.642970Z",
     "iopub.status.busy": "2024-09-17T17:35:43.642147Z",
     "iopub.status.idle": "2024-09-17T17:35:46.821744Z",
     "shell.execute_reply": "2024-09-17T17:35:46.820835Z"
    },
    "papermill": {
     "duration": 3.197118,
     "end_time": "2024-09-17T17:35:46.823976",
     "exception": false,
     "start_time": "2024-09-17T17:35:43.626858",
     "status": "completed"
    },
    "tags": []
   },
   "outputs": [
    {
     "name": "stdout",
     "output_type": "stream",
     "text": [
      "423727\n"
     ]
    },
    {
     "data": {
      "image/png": "[encoded data removed]",
      "text/plain": [
       "<Figure size 640x480 with 1 Axes>"
      ]
     },
     "metadata": {},
     "output_type": "display_data"
    }
   ],
   "source": [
    "labels_Gender = ['Boys', 'Girls']\n",
    "\n",
    "Male_ASD = All_Observation.loc[(All_Observation['Gender']=='M')&(All_Observation['Class']=='ASD')]['Gender'].count()\n",
    "print(Male_ASD)\n",
    "Female_ASD = All_Observation.loc[(All_Observation['Gender']=='F')&(All_Observation['Class']=='ASD')]['Gender'].count()\n",
    "Gender_ASD = [Male_ASD, Female_ASD]\n",
    "\n",
    "Male_TD = All_Observation.loc[(All_Observation['Gender']=='M')&(All_Observation['Class']=='TD')]['Gender'].count()\n",
    "Female_TD = All_Observation.loc[(All_Observation['Gender']=='F')&(All_Observation['Class']=='TD')]['Gender'].count()\n",
    "Gender_TD = [Male_TD, Female_TD]\n",
    "\n",
    "\n",
    "fig, ax = plt.subplots(1,1)\n",
    "width = 0.3\n",
    "ax.bar(labels_Gender, Gender_ASD, width, label='ASD',color='tab:blue')\n",
    "ax.bar(labels_Gender, Gender_TD, width, bottom=Gender_ASD,label='TD',color='orange')\n",
    "ax.set_xlabel('Gender')\n",
    "ax.set_ylabel('Observations')\n",
    "ax.set_title('Observation by Gender ASD detection')\n",
    "ax.legend()\n",
    "\n",
    "plt.show()"
   ]
  },
  {
   "cell_type": "code",
   "execution_count": 19,
   "id": "5b13240b",
   "metadata": {
    "execution": {
     "iopub.execute_input": "2024-09-17T17:35:46.856032Z",
     "iopub.status.busy": "2024-09-17T17:35:46.855443Z",
     "iopub.status.idle": "2024-09-17T17:36:15.868080Z",
     "shell.execute_reply": "2024-09-17T17:36:15.867181Z"
    },
    "papermill": {
     "duration": 29.031075,
     "end_time": "2024-09-17T17:36:15.870126",
     "exception": false,
     "start_time": "2024-09-17T17:35:46.839051",
     "status": "completed"
    },
    "tags": []
   },
   "outputs": [
    {
     "name": "stdout",
     "output_type": "stream",
     "text": [
      "Replacing character '-' finished successfully\n",
      "Replacing null value by 0 finished successfully***\n",
      "Replacing null value by Mode finished successfully***\n",
      "Replacing null value by Mean finished successfully***\n"
     ]
    }
   ],
   "source": [
    "All_Observation2 = All_Observation.replace('-',np.nan)\n",
    "All_Observation = All_Observation2\n",
    "print(\"Replacing character '-' finished successfully\")\n",
    "\n",
    "Temp_List = ['Gaze Vector Right Y', 'Gaze Vector Left Y']\n",
    "\n",
    "for Column in Temp_List :\n",
    "    All_Observation[Column] = All_Observation[Column].astype(np.float16)\n",
    "    All_Observation[Column]= All_Observation[Column].fillna(value = 0)\n",
    "\n",
    "print(\"Replacing null value by 0 finished successfully***\")\n",
    "\n",
    "Temp_List = ['Gaze Vector Right Z', 'Gaze Vector Left Z','Index Right','Index Left']\n",
    "\n",
    "for Column in Temp_List :\n",
    "    New_Value = 0\n",
    "    All_Observation[Column] = All_Observation[Column].astype(np.float16)\n",
    "    New_Value = All_Observation[All_Observation[Column] != 0][Column].mode()[0]\n",
    "    All_Observation[Column]= All_Observation[Column].fillna(value = New_Value)\n",
    "\n",
    "print('Replacing null value by Mode finished successfully***')\n",
    "\n",
    "\n",
    "import math\n",
    "Temp_List = ['Pupil Diameter Right [mm]', 'Pupil Diameter Left [mm]', 'Point of Regard Right X [px]', 'Point of Regard Right Y [px]',\n",
    "                  'Point of Regard Left X [px]', 'Point of Regard Left Y [px]', 'Gaze Vector Right X', 'Gaze Vector Left X',\n",
    "                  'Pupil Size Right X [px]', 'Pupil Size Right Y [px]', 'Pupil Size Left X [px]', 'Pupil Size Left Y [px]',\n",
    "                  'Eye Position Right X [mm]', 'Eye Position Right Y [mm]', 'Eye Position Right Z [mm]',\n",
    "                  'Eye Position Left X [mm]', 'Eye Position Left Y [mm]', 'Eye Position Left Z [mm]',\n",
    "                  'Pupil Position Right X [px]', 'Pupil Position Right Y [px]', 'Pupil Position Left X [px]',\n",
    "                  'Pupil Position Left Y [px]']\n",
    "\n",
    "for Column in Temp_List :\n",
    "    New_Value = 0\n",
    "    All_Observation[Column] = All_Observation[Column].astype(np.float16)\n",
    "    Column_Copy = All_Observation[Column].copy().tolist()\n",
    "    Column_Copy = [x for x in Column_Copy if not math.isnan(x)]\n",
    "    New_Value = sum(Column_Copy) /len(Column_Copy)\n",
    "    All_Observation[Column]= All_Observation[Column].fillna(value = New_Value)\n",
    "\n",
    "print('Replacing null value by Mean finished successfully***')"
   ]
  },
  {
   "cell_type": "code",
   "execution_count": 20,
   "id": "33a65d12",
   "metadata": {
    "execution": {
     "iopub.execute_input": "2024-09-17T17:36:15.901814Z",
     "iopub.status.busy": "2024-09-17T17:36:15.901516Z",
     "iopub.status.idle": "2024-09-17T17:36:15.934114Z",
     "shell.execute_reply": "2024-09-17T17:36:15.933207Z"
    },
    "papermill": {
     "duration": 0.050364,
     "end_time": "2024-09-17T17:36:15.936027",
     "exception": false,
     "start_time": "2024-09-17T17:36:15.885663",
     "status": "completed"
    },
    "tags": []
   },
   "outputs": [
    {
     "name": "stdout",
     "output_type": "stream",
     "text": [
      "Removing null columns finished successfully***\n"
     ]
    }
   ],
   "source": [
    "Temp_List = ['AOI Name Right', 'AOI Name Left', 'Annotation Name', 'Annotation Description', 'Annotation Tags', 'Mouse Position X [px]',\n",
    "               'Mouse Position Y [px]', 'Scroll Direction X', 'Scroll Direction Y', 'Content', 'Port Status',\n",
    "               'AOI Group Right', 'AOI Group Left', 'AOI Scope Right', 'AOI Scope Left', 'AOI Order Right',\n",
    "               'AOI Order Binocular', \"groupe d'enfants\", 'CARS Score','Time of Day [h:m:s:ms]','Unnamed: 0',\n",
    "               'RecordingTime [ms]','Tracking Ratio [%]','ParticipantID'\n",
    "            ]\n",
    "for Column in Temp_List:\n",
    "    if Column in All_Observation.columns:\n",
    "        del All_Observation[Column]\n",
    "\n",
    "print(\"Removing null columns finished successfully***\")\n"
   ]
  },
  {
   "cell_type": "code",
   "execution_count": 21,
   "id": "2ab3f020",
   "metadata": {
    "execution": {
     "iopub.execute_input": "2024-09-17T17:36:15.967998Z",
     "iopub.status.busy": "2024-09-17T17:36:15.967203Z",
     "iopub.status.idle": "2024-09-17T17:36:18.468870Z",
     "shell.execute_reply": "2024-09-17T17:36:18.467741Z"
    },
    "papermill": {
     "duration": 2.519913,
     "end_time": "2024-09-17T17:36:18.471076",
     "exception": false,
     "start_time": "2024-09-17T17:36:15.951163",
     "status": "completed"
    },
    "tags": []
   },
   "outputs": [
    {
     "name": "stdout",
     "output_type": "stream",
     "text": [
      "Count of Rows before removing duplicate rows :  1351157\n",
      "Count of Rows before removing duplicate rows :  1110930\n"
     ]
    }
   ],
   "source": [
    "print('Count of Rows before removing duplicate rows : ' ,len(All_Observation))\n",
    "All_Observation = All_Observation.drop_duplicates()\n",
    "print('Count of Rows before removing duplicate rows : ' ,len(All_Observation))"
   ]
  },
  {
   "cell_type": "code",
   "execution_count": 22,
   "id": "9c96aad0",
   "metadata": {
    "execution": {
     "iopub.execute_input": "2024-09-17T17:36:18.504269Z",
     "iopub.status.busy": "2024-09-17T17:36:18.503942Z",
     "iopub.status.idle": "2024-09-17T17:36:21.324589Z",
     "shell.execute_reply": "2024-09-17T17:36:21.323482Z"
    },
    "papermill": {
     "duration": 2.839953,
     "end_time": "2024-09-17T17:36:21.326786",
     "exception": false,
     "start_time": "2024-09-17T17:36:18.486833",
     "status": "completed"
    },
    "tags": []
   },
   "outputs": [
    {
     "name": "stdout",
     "output_type": "stream",
     "text": [
      "Converting 'Class' and 'Gender' to binary type finished successfully***\n",
      "Converting 'Trial' to binary type finished successfully***\n",
      "Converting 'Color' to binary type finished successfully***\n",
      "Converting 'Category Group' to binary type finished successfully***\n",
      "Converting 'Category Right' to binary type finished successfully***\n",
      "Converting 'Category Left' to binary type finished successfully***\n",
      "Converting 'Stimulus' to binary type finished successfully***\n",
      "finished\n"
     ]
    }
   ],
   "source": [
    "Temp_List = ['Pupil Diameter Right [mm]', 'Pupil Diameter Left [mm]', 'Point of Regard Right X [px]',\n",
    "             'Point of Regard Right Y [px]','Point of Regard Left X [px]',\n",
    "             'Point of Regard Left Y [px]', 'Gaze Vector Right X',\n",
    "             'Gaze Vector Left X','Pupil Size Right X [px]', 'Pupil Size Right Y [px]',\n",
    "             'Pupil Size Left X [px]', 'Pupil Size Left Y [px]','Eye Position Right X [mm]',\n",
    "             'Eye Position Right Y [mm]', 'Eye Position Right Z [mm]','Eye Position Left X [mm]',\n",
    "             'Eye Position Left Y [mm]', 'Eye Position Left Z [mm]','Pupil Position Right X [px]',\n",
    "             'Pupil Position Right Y [px]', 'Pupil Position Left X [px]','Pupil Position Left Y [px]',\n",
    "             'Gaze Vector Right Z', 'Gaze Vector Left Z','Gaze Vector Right Y',\n",
    "             'Gaze Vector Left Y','Index Right','Index Left']\n",
    "\n",
    "\n",
    "for Column in Temp_List :\n",
    "    All_Observation[Column] = All_Observation[Column].astype(np.float16)\n",
    "\n",
    "All_Observation['Diameter'] = All_Observation['Pupil Diameter Right [mm]']+All_Observation['Pupil Diameter Left [mm]']\n",
    "All_Observation['POG'] = All_Observation['Point of Regard Right X [px]']+All_Observation['Point of Regard Right Y [px]']+All_Observation['Point of Regard Left X [px]']+All_Observation['Point of Regard Left Y [px]']\n",
    "All_Observation['GazeVector'] = All_Observation['Gaze Vector Right X']+ All_Observation['Gaze Vector Right Y']+All_Observation['Gaze Vector Right Z']+All_Observation['Gaze Vector Left X']+ All_Observation['Gaze Vector Left Y']+All_Observation['Gaze Vector Left Z']\n",
    "All_Observation['PupilSize'] = All_Observation['Pupil Size Right X [px]']+All_Observation['Pupil Size Right Y [px]']+All_Observation['Pupil Size Left X [px]']+All_Observation['Pupil Size Left Y [px]']\n",
    "All_Observation['EyePosition'] = All_Observation['Eye Position Right X [mm]']+All_Observation['Eye Position Right Y [mm]']+All_Observation['Eye Position Right Z [mm]']+All_Observation['Eye Position Left X [mm]']+All_Observation['Eye Position Left Y [mm]']+All_Observation['Eye Position Left Z [mm]']\n",
    "All_Observation['PupilPosition'] = All_Observation['Pupil Position Right X [px]']+All_Observation['Pupil Position Right Y [px]']+All_Observation['Pupil Position Left X [px]']+All_Observation['Pupil Position Left X [px]']\n",
    "All_Observation['Index'] = All_Observation['Index Right']+All_Observation['Index Left']\n",
    "All_Observation = All_Observation.drop(Temp_List,axis=1)\n",
    "\n",
    "if All_Observation[(All_Observation['Gender']=='F') | (All_Observation['Gender'] =='M')]['Gender'].count()>0:\n",
    "    All_Observation['Gender'] = All_Observation['Gender'].map({'M' : 0, 'F' : 1})\n",
    "\n",
    "if All_Observation[(All_Observation['Class']=='TD') | (All_Observation['Class'] =='ASD')]['Class'].count()>0:\n",
    "    All_Observation['Class'] = All_Observation['Class'].map({'TD' : 0, 'ASD' : 1})\n",
    "\n",
    "print(\"Converting 'Class' and 'Gender' to binary type finished successfully***\")\n",
    "\n",
    "\n",
    "if All_Observation['Trial'].dtypes != 'int64':\n",
    "    All_Observation['Trial'] = All_Observation['Trial'].map({'Trial001' : 1, 'Trial002' : 2, 'Trial003' : 3, 'Trial004' : 4,\n",
    "                                                             'Trial005' : 5, 'Trial006' : 6, 'Trial007' : 7, 'Trial008' : 8,\n",
    "                                                             'Trial009' : 9, 'Trial010' : 10, 'Trial011' : 11, 'Trial012' : 12,\n",
    "                                                             'Trial013' : 13, 'Trial014' : 14, 'Trial015' : 15, 'Trial016' : 16,\n",
    "                                                             'Trial017' : 17, 'Trial018' : 18, 'Trial019' : 19, 'Trial020' : 20,\n",
    "                                                             'Trial021' : 21, 'Trial022' : 22, 'Trial023' : 23, 'Trial024' : 24,\n",
    "                                                             'Trial025' : 25, 'Trial026' : 26, 'Trial027' : 27, 'Trial028' : 28,\n",
    "                                                             'Trial029' : 29, 'Trial030' : 30, 'Trial031' : 31, 'Trial032' : 32,\n",
    "                                                             'Trial033' : 33, 'Trial034' : 34})\n",
    "    print(\"Converting 'Trial' to binary type finished successfully***\")\n",
    "else:\n",
    "    print('Nothing to change...')\n",
    "\n",
    "\n",
    "if All_Observation['Color'].dtypes != 'int64':\n",
    "    All_Observation['Color'] = All_Observation['Color'].map({'Coral':1,'CornflowerBlue':2,'Crimson':3,'Cyan':4,'DarkBlue':5,\n",
    "                                                             'DarkCyan':6,'DarkGoldenrod':7,'DarkGray':8,'DarkGreen':9,\n",
    "                                                             'DarkKhaki':10,'DarkMagenta':11,'DarkOliveGreen':12,\n",
    "                                                             'DarkOrange':13,'DarkOrchid':14,'DarkRed':15,'DarkSalmon':16,\n",
    "                                                             'DarkSeaGreen':17,'DarkSlateBlue':18,'DarkSlateGray':19,\n",
    "                                                             'DarkTurquoise':20,'DarkViolet':21,'DeepPink':22,'DeepSkyBlue':23,\n",
    "                                                             'DimGray':24,'DodgerBlue':25,'Firebrick':26,'ForestGreen':27,\n",
    "                                                             'Gainsboro':28,'Gold':29,'Goldenrod':30,'Gray':31,'Green':32,\n",
    "                                                             'GreenYellow':33,'HotPink':34,'IndianRed':35,'Indigo':36,\n",
    "                                                             'Khaki':37,'LawnGreen':38,'LightBlue':39,'LightCoral':40,\n",
    "                                                             'LightPink':41,'LightSalmon':42,'LightSeaGreen':43,\n",
    "                                                             'LightSkyBlue':44,'LightSteelBlue':45,'Lime':46,'Maroon':47,\n",
    "                                                             'MediumOrchid':48,'MediumSeaGreen':49,'MediumSlateBlue':50,\n",
    "                                                             'MediumSpringGreen':51,'MediumTurquoise':52,'NavajoWhite':53,\n",
    "                                                             'Navy':54,'Olive':55,'OliveDrab' :56})\n",
    "    print(\"Converting 'Color' to binary type finished successfully***\")\n",
    "else:\n",
    "    print('Nothing to change...')\n",
    "\n",
    "\n",
    "if All_Observation['Category Group'].dtypes != 'int64':\n",
    "    All_Observation['Category Group'] = All_Observation['Category Group'].map({'Eye' : 0, 'Information' : 1})\n",
    "    print(\"Converting 'Category Group' to binary type finished successfully***\")\n",
    "else:\n",
    "    print('Nothing to change...')\n",
    "\n",
    "if All_Observation['Category Right'].dtypes != 'int64':\n",
    "    All_Observation['Category Right'] = All_Observation['Category Right'].map({'Blink' : 0, 'Fixation':1, 'Left Click':2, 'Saccade':3,\n",
    "                                                                               'Separator':4, 'none':5})\n",
    "    print(\"Converting 'Category Right' to binary type finished successfully***\")\n",
    "else:\n",
    "    print('Nothing to change...')\n",
    "\n",
    "\n",
    "if All_Observation['Category Left'].dtypes != 'int64':\n",
    "    All_Observation['Category Left'] = All_Observation['Category Left'].map({'Blink' : 0, 'Fixation':1, 'Left Click':2, 'Saccade':3,\n",
    "                                                                               'Separator':4, 'none':5})\n",
    "    print(\"Converting 'Category Left' to binary type finished successfully***\")\n",
    "else:\n",
    "    print('Nothing to change...')\n",
    "\n",
    "if All_Observation['Stimulus'].dtypes != 'int64':\n",
    "    All_Observation['Stimulus'] = All_Observation['Stimulus'].map({'01 coucou g.jpg': 0,'01 neutre2.avi': 1,'01 neutre22.avi': 2,'01 neutre3.avi': 3,'01vnvg151201b1.avi': 4,'02 coucou d.jpg': 5,'02 devant.jpg': 6,'02 neutre visage gris.jpg': 7,'03 bonbons triste vs joie.avi': 8,'03 devant.jpg': 9,'03 regard chien g.jpg': 10,'03 vole triste vs joie1.avi': 11,'04 a triste joie.jpg': 12,'04 b joie triste - copie.jpg': 13,'04 regard chien d.jpg': 14,'04 tete chien g.jpg': 15,'05 punition orale triste vs joie.avi': 16,\"05 sophie sous l'eau joie vs triste1.avi\": 17,'05 tete chien d.jpg': 18,'05 tete point chien g.jpg': 19,'06 a triste joie.jpg': 20,'06 b joie triste.jpg': 21,'06 devant point chien g.jpg': 22,'06 tete point chien d.jpg': 23,'07 cadeau dernier.avi': 24,'07 devant point chien d.jpg': 25,'07 devant.jpg': 26,'07 tombe joie vs triste2.avi': 27,'08 b triste joie.jpg': 28,'08 devant.jpg': 29,'08 voc chien g.jpg': 30,'09 cadeau dernier1.avi': 31,'09 tombe joie vs triste1.avi': 32,'09 voc chien d.jpg': 33,'09 voc devant g.jpg': 34,'1 coucou D.jpg': 35,'1 coucou D.png': 36,'10 a joie triste.jpg': 37,'10 voc devant.jpg': 38,'11 devant.jpg': 39,'11 punition orale triste vs joie1.avi': 40,\"11 sophie sous l'eau joie vs triste.avi\": 41,'11 yeux chat D.jpg': 42,'11 yeux chat G.png': 43,'11 yeux chat d.jpg': 44,'11 yeux chat gauche.jpg': 45,'12 a triste joie - copie.jpg': 46,'12 b joie triste - copie.jpg': 47,'12 tete chat G.png': 48,'12 tete chat droite.jpg': 49,'12 tete chat gauche.jpg': 50,'12 yeux chat gauche.jpg': 51,'13 bonbons triste vs joie1.avi': 52,'13 tete chat gauche.jpg': 53,'13 tete pointage chat G.png': 54,'13 tete pointage chat droite.jpg': 55,'13 tete pointage chat gauche.jpg': 56,'13 vole triste vs joie.avi': 57,'14 a triste joie - copie.jpg': 58,'14 b joie triste.jpg': 59,'14 devant point chat G.png': 60,'14 devant point chat droite.jpg': 61,'14 devant point chat gauche.jpg': 62,'14 tete pointage chat gauche.jpg': 63,'15 devant - Copie.jpg': 64,'15 devant point chat gauche.jpg': 65,'15 devant.jpg': 66,'15 devant.png': 67,'16 devant.jpg': 68,'16 voc chat G.png': 69,'16 voc chat gauche.jpg': 70,'16 voc droite chat.jpg': 71,'17 voc chat gauche.jpg': 72,'17 voc devant D.jpg': 73,'17 voc devant G.png': 74,'17 voc devant d.jpg': 75,'17 voc devant.jpg': 76,'18 au revoir.jpg': 77,'18 au revoir.png': 78,'18 aurevoir.jpg': 79,'18 voc devant.jpg': 80,'19 aurevoir.jpg': 81,'1coucou G.jpg': 82,'2 devant.jpg': 83,'2 devant.png': 84,'20 eye tracking (ballon droite).avi': 85,'20 eye tracking (ballon gauche).avi': 86,'21 neutre4.avi': 87,'21 neutre5.avi': 88,'22 neutre visage gris.jpg': 89,'23 bonbons triste vs joie2.avi': 90,'23 vole triste vs joie4.avi': 91,'24 a triste joie.jpg': 92,'24 b joie triste.jpg': 93,'25 punition orale triste vs joie2.avi': 94,\"25 sophie sous l'eau joie vs triste4.avi\": 95,'26 a triste joie.jpg': 96,'26 b joie triste.jpg': 97,'27 cadeau dernier2.avi': 98,'27 tombe joie vs triste5.avi': 99,'28 b triste joie.jpg': 100,'29 tombe joie vs triste3.avi': 101,'3 regard chien D.jpg': 102,'3 regard chien D.png': 103,'3 regard chien G.jpg': 104,'30 a joie triste.jpg': 105,'31 punition orale triste vs joie4.avi': 106,\"31 sophie sous l'eau joie vs triste2.avi\": 107,'32 b joie triste - copie.jpg': 108,'33 vole triste vs joie2.avi': 109,'34 a triste joie - copie.jpg': 110,'4 tete chien D.jpg': 111,'4 tete chien D.png': 112,'4 tete chien G.jpg': 113,'5 tete point chien D.jpg': 114,'5 tete point chien D.png': 115,'5 tete point chien G.jpg': 116,'6 devant point chien D.jpg': 117,'6 devant point chien D.png': 118,'6 devant point chien G.jpg': 119,'7 devant - Copie.jpg': 120,'7 devant.jpg': 121,'7 devant.png': 122,'8 voc chien D.jpg': 123,'8 voc chien D.png': 124,'8 voc chien G.jpg': 125,'9 voc devant D.png': 126,'9 voc devant G.jpg': 127,'9 voc devant.jpg': 128,'A Triste joie.jpg': 129,'A joie Triste.jpg': 130,'B Triste Joie.jpg': 131,'B joie Triste.jpg': 132,'Eye Tracking (ballon droite).avi': 133,'Eye Tracking (ballon gauche).avi': 134,'FEDE Drte.avi': 135,'Federica Final_WMV_3000Kbps_720p.avi': 136,'NoImage': 137,'VNVD151207.avi': 138,'VNVG151201b.avi': 139,'bonbons triste vs joie1.avi': 140,'cadeau dernier1.avi': 141,'fede invisible d avi mpeg4-pcm.avi': 142,'neutre visage gris.jpg': 143,'punition orale triste vs joie1.avi': 144,\"sophie sous l'eau joie vs triste1.avi\": 145,'tombe joie vs triste2.avi': 146,'vole triste vs joie1.avi':147})\n",
    "    print(\"Converting 'Stimulus' to binary type finished successfully***\")\n",
    "else:\n",
    "    print('Nothing to change...')\n",
    "\n",
    "\n",
    "All_Observation = All_Observation.dropna()\n",
    "\n",
    "print('finished')"
   ]
  },
  {
   "cell_type": "code",
   "execution_count": 23,
   "id": "4a4028a5",
   "metadata": {
    "execution": {
     "iopub.execute_input": "2024-09-17T17:36:21.360041Z",
     "iopub.status.busy": "2024-09-17T17:36:21.359589Z",
     "iopub.status.idle": "2024-09-17T17:36:21.413746Z",
     "shell.execute_reply": "2024-09-17T17:36:21.412715Z"
    },
    "papermill": {
     "duration": 0.073049,
     "end_time": "2024-09-17T17:36:21.415897",
     "exception": false,
     "start_time": "2024-09-17T17:36:21.342848",
     "status": "completed"
    },
    "tags": []
   },
   "outputs": [
    {
     "name": "stdout",
     "output_type": "stream",
     "text": [
      "<class 'pandas.core.frame.DataFrame'>\n",
      "Index: 999786 entries, 0 to 1351156\n",
      "Data columns (total 18 columns):\n",
      " #   Column                        Non-Null Count   Dtype  \n",
      "---  ------                        --------------   -----  \n",
      " 0   Trial                         999786 non-null  int64  \n",
      " 1   Stimulus                      999786 non-null  int64  \n",
      " 2   Export Start Trial Time [ms]  999786 non-null  float64\n",
      " 3   Export End Trial Time [ms]    999786 non-null  float64\n",
      " 4   Color                         999786 non-null  int64  \n",
      " 5   Category Group                999786 non-null  int64  \n",
      " 6   Category Right                999786 non-null  float64\n",
      " 7   Category Left                 999786 non-null  float64\n",
      " 8   Gender                        999786 non-null  int64  \n",
      " 9   Age                           999786 non-null  float64\n",
      " 10  Class                         999786 non-null  int64  \n",
      " 11  Diameter                      999786 non-null  float16\n",
      " 12  POG                           999786 non-null  float16\n",
      " 13  GazeVector                    999786 non-null  float16\n",
      " 14  PupilSize                     999786 non-null  float16\n",
      " 15  EyePosition                   999786 non-null  float16\n",
      " 16  PupilPosition                 999786 non-null  float16\n",
      " 17  Index                         999786 non-null  float16\n",
      "dtypes: float16(7), float64(5), int64(6)\n",
      "memory usage: 104.9 MB\n"
     ]
    }
   ],
   "source": [
    "All_Observation.info()"
   ]
  },
  {
   "cell_type": "code",
   "execution_count": 24,
   "id": "4c63d621",
   "metadata": {
    "execution": {
     "iopub.execute_input": "2024-09-17T17:36:21.450860Z",
     "iopub.status.busy": "2024-09-17T17:36:21.450030Z",
     "iopub.status.idle": "2024-09-17T17:36:22.956335Z",
     "shell.execute_reply": "2024-09-17T17:36:22.955384Z"
    },
    "papermill": {
     "duration": 1.525718,
     "end_time": "2024-09-17T17:36:22.958356",
     "exception": false,
     "start_time": "2024-09-17T17:36:21.432638",
     "status": "completed"
    },
    "tags": []
   },
   "outputs": [
    {
     "data": {
      "text/plain": [
       "<Figure size 100000x100000 with 0 Axes>"
      ]
     },
     "metadata": {},
     "output_type": "display_data"
    },
    {
     "data": {
      "image/png": "[encoded data removed]",
      "text/plain": [
       "<Figure size 480x480 with 2 Axes>"
      ]
     },
     "metadata": {},
     "output_type": "display_data"
    }
   ],
   "source": [
    "import pandas as pd\n",
    "import matplotlib.pyplot as plt\n",
    "\n",
    "corr_matrix = All_Observation.corr()\n",
    "\n",
    "plt.figure(figsize=(1000,1000))\n",
    "plt.matshow(corr_matrix)\n",
    "#plt.xticks(rotation=90)\n",
    "plt.xticks(range(len(All_Observation.columns)), All_Observation.columns , rotation = 90)\n",
    "plt.yticks(range(len(All_Observation.columns)), All_Observation.columns)\n",
    "plt.colorbar()\n",
    "plt.show()"
   ]
  },
  {
   "cell_type": "code",
   "execution_count": 25,
   "id": "8f7cfd1e",
   "metadata": {
    "execution": {
     "iopub.execute_input": "2024-09-17T17:36:22.994116Z",
     "iopub.status.busy": "2024-09-17T17:36:22.993752Z",
     "iopub.status.idle": "2024-09-17T17:36:23.037267Z",
     "shell.execute_reply": "2024-09-17T17:36:23.036302Z"
    },
    "papermill": {
     "duration": 0.063635,
     "end_time": "2024-09-17T17:36:23.039262",
     "exception": false,
     "start_time": "2024-09-17T17:36:22.975627",
     "status": "completed"
    },
    "tags": []
   },
   "outputs": [
    {
     "name": "stdout",
     "output_type": "stream",
     "text": [
      "[]\n",
      "Number of rows :  999786\n",
      "Number of Columns :  18\n"
     ]
    }
   ],
   "source": [
    "Column_Name = list(All_Observation. columns. values)\n",
    "Columns_withNullValue = []\n",
    "for names in Column_Name:\n",
    "    if All_Observation[names].isna().sum() >0:\n",
    "        Columns_withNullValue.append(names)\n",
    "\n",
    "print(Columns_withNullValue)\n",
    "\n",
    "\n",
    "print('Number of rows : ' , All_Observation.shape[0])\n",
    "print('Number of Columns : ' , All_Observation.shape[1])"
   ]
  },
  {
   "cell_type": "code",
   "execution_count": 26,
   "id": "088bfdbb",
   "metadata": {
    "execution": {
     "iopub.execute_input": "2024-09-17T17:36:23.074971Z",
     "iopub.status.busy": "2024-09-17T17:36:23.074571Z",
     "iopub.status.idle": "2024-09-17T17:36:23.078551Z",
     "shell.execute_reply": "2024-09-17T17:36:23.077736Z"
    },
    "papermill": {
     "duration": 0.023909,
     "end_time": "2024-09-17T17:36:23.080584",
     "exception": false,
     "start_time": "2024-09-17T17:36:23.056675",
     "status": "completed"
    },
    "tags": []
   },
   "outputs": [],
   "source": [
    "###Decision Tree Classifier"
   ]
  },
  {
   "cell_type": "code",
   "execution_count": 27,
   "id": "55ed9d9a",
   "metadata": {
    "execution": {
     "iopub.execute_input": "2024-09-17T17:36:23.115444Z",
     "iopub.status.busy": "2024-09-17T17:36:23.115174Z",
     "iopub.status.idle": "2024-09-17T17:36:24.885533Z",
     "shell.execute_reply": "2024-09-17T17:36:24.884513Z"
    },
    "papermill": {
     "duration": 1.790268,
     "end_time": "2024-09-17T17:36:24.887741",
     "exception": false,
     "start_time": "2024-09-17T17:36:23.097473",
     "status": "completed"
    },
    "tags": []
   },
   "outputs": [
    {
     "name": "stdout",
     "output_type": "stream",
     "text": [
      "(599871, 17)\n",
      "(399915, 17)\n",
      "(599871,)\n",
      "(399915,)\n",
      "Splitting dataset finished successfully***\n"
     ]
    }
   ],
   "source": [
    "from sklearn.model_selection import train_test_split\n",
    "\n",
    "X = All_Observation.drop(['Class'],axis=1) \n",
    "X_names = All_Observation.loc[:,[col for col in All_Observation.columns if col != 'Class']].columns.tolist()\n",
    "y=All_Observation['Class'] \n",
    "y_names=['TD','ASD'] \n",
    "X_train, X_test, y_train, y_test = train_test_split(X, y, test_size=0.4, random_state=2, stratify=All_Observation['Class'])\n",
    "print(X_train.shape)\n",
    "print(X_test.shape)\n",
    "print(y_train.shape)\n",
    "print(y_test.shape)\n",
    "\n",
    "print('Splitting dataset finished successfully***')"
   ]
  },
  {
   "cell_type": "code",
   "execution_count": 28,
   "id": "5a7cef0e",
   "metadata": {
    "execution": {
     "iopub.execute_input": "2024-09-17T17:36:24.924792Z",
     "iopub.status.busy": "2024-09-17T17:36:24.924278Z",
     "iopub.status.idle": "2024-09-17T17:58:33.718612Z",
     "shell.execute_reply": "2024-09-17T17:58:33.717644Z"
    },
    "papermill": {
     "duration": 1330.311281,
     "end_time": "2024-09-17T17:58:35.216922",
     "exception": false,
     "start_time": "2024-09-17T17:36:24.905641",
     "status": "completed"
    },
    "tags": []
   },
   "outputs": [
    {
     "data": {
      "text/html": [
       "<pre style=\"white-space:pre;overflow-x:auto;line-height:normal;font-family:Menlo,'DejaVu Sans Mono',consolas,'Courier New',monospace\"><span style=\"font-weight: bold\">Model: \"functional_1\"</span>\n",
       "</pre>\n"
      ],
      "text/plain": [
       "\u001b[1mModel: \"functional_1\"\u001b[0m\n"
      ]
     },
     "metadata": {},
     "output_type": "display_data"
    },
    {
     "data": {
      "text/html": [
       "<pre style=\"white-space:pre;overflow-x:auto;line-height:normal;font-family:Menlo,'DejaVu Sans Mono',consolas,'Courier New',monospace\">┏━━━━━━━━━━━━━━━━━━━━━┳━━━━━━━━━━━━━━━━━━━┳━━━━━━━━━━━━┳━━━━━━━━━━━━━━━━━━━┓\n",
       "┃<span style=\"font-weight: bold\"> Layer (type)        </span>┃<span style=\"font-weight: bold\"> Output Shape      </span>┃<span style=\"font-weight: bold\">    Param # </span>┃<span style=\"font-weight: bold\"> Connected to      </span>┃\n",
       "┡━━━━━━━━━━━━━━━━━━━━━╇━━━━━━━━━━━━━━━━━━━╇━━━━━━━━━━━━╇━━━━━━━━━━━━━━━━━━━┩\n",
       "│ input_layer         │ (<span style=\"color: #00d7ff; text-decoration-color: #00d7ff\">None</span>, <span style=\"color: #00af00; text-decoration-color: #00af00\">17</span>)        │          <span style=\"color: #00af00; text-decoration-color: #00af00\">0</span> │ -                 │\n",
       "│ (<span style=\"color: #0087ff; text-decoration-color: #0087ff\">InputLayer</span>)        │                   │            │                   │\n",
       "├─────────────────────┼───────────────────┼────────────┼───────────────────┤\n",
       "│ dense (<span style=\"color: #0087ff; text-decoration-color: #0087ff\">Dense</span>)       │ (<span style=\"color: #00d7ff; text-decoration-color: #00d7ff\">None</span>, <span style=\"color: #00af00; text-decoration-color: #00af00\">64</span>)        │      <span style=\"color: #00af00; text-decoration-color: #00af00\">1,152</span> │ input_layer[<span style=\"color: #00af00; text-decoration-color: #00af00\">0</span>][<span style=\"color: #00af00; text-decoration-color: #00af00\">0</span>] │\n",
       "├─────────────────────┼───────────────────┼────────────┼───────────────────┤\n",
       "│ batch_normalization │ (<span style=\"color: #00d7ff; text-decoration-color: #00d7ff\">None</span>, <span style=\"color: #00af00; text-decoration-color: #00af00\">64</span>)        │        <span style=\"color: #00af00; text-decoration-color: #00af00\">256</span> │ dense[<span style=\"color: #00af00; text-decoration-color: #00af00\">0</span>][<span style=\"color: #00af00; text-decoration-color: #00af00\">0</span>]       │\n",
       "│ (<span style=\"color: #0087ff; text-decoration-color: #0087ff\">BatchNormalizatio…</span> │                   │            │                   │\n",
       "├─────────────────────┼───────────────────┼────────────┼───────────────────┤\n",
       "│ re_lu (<span style=\"color: #0087ff; text-decoration-color: #0087ff\">ReLU</span>)        │ (<span style=\"color: #00d7ff; text-decoration-color: #00d7ff\">None</span>, <span style=\"color: #00af00; text-decoration-color: #00af00\">64</span>)        │          <span style=\"color: #00af00; text-decoration-color: #00af00\">0</span> │ batch_normalizat… │\n",
       "├─────────────────────┼───────────────────┼────────────┼───────────────────┤\n",
       "│ dense_1 (<span style=\"color: #0087ff; text-decoration-color: #0087ff\">Dense</span>)     │ (<span style=\"color: #00d7ff; text-decoration-color: #00d7ff\">None</span>, <span style=\"color: #00af00; text-decoration-color: #00af00\">64</span>)        │      <span style=\"color: #00af00; text-decoration-color: #00af00\">4,160</span> │ re_lu[<span style=\"color: #00af00; text-decoration-color: #00af00\">0</span>][<span style=\"color: #00af00; text-decoration-color: #00af00\">0</span>]       │\n",
       "├─────────────────────┼───────────────────┼────────────┼───────────────────┤\n",
       "│ batch_normalizatio… │ (<span style=\"color: #00d7ff; text-decoration-color: #00d7ff\">None</span>, <span style=\"color: #00af00; text-decoration-color: #00af00\">64</span>)        │        <span style=\"color: #00af00; text-decoration-color: #00af00\">256</span> │ dense_1[<span style=\"color: #00af00; text-decoration-color: #00af00\">0</span>][<span style=\"color: #00af00; text-decoration-color: #00af00\">0</span>]     │\n",
       "│ (<span style=\"color: #0087ff; text-decoration-color: #0087ff\">BatchNormalizatio…</span> │                   │            │                   │\n",
       "├─────────────────────┼───────────────────┼────────────┼───────────────────┤\n",
       "│ re_lu_1 (<span style=\"color: #0087ff; text-decoration-color: #0087ff\">ReLU</span>)      │ (<span style=\"color: #00d7ff; text-decoration-color: #00d7ff\">None</span>, <span style=\"color: #00af00; text-decoration-color: #00af00\">64</span>)        │          <span style=\"color: #00af00; text-decoration-color: #00af00\">0</span> │ batch_normalizat… │\n",
       "├─────────────────────┼───────────────────┼────────────┼───────────────────┤\n",
       "│ dense_2 (<span style=\"color: #0087ff; text-decoration-color: #0087ff\">Dense</span>)     │ (<span style=\"color: #00d7ff; text-decoration-color: #00d7ff\">None</span>, <span style=\"color: #00af00; text-decoration-color: #00af00\">64</span>)        │      <span style=\"color: #00af00; text-decoration-color: #00af00\">4,160</span> │ re_lu_1[<span style=\"color: #00af00; text-decoration-color: #00af00\">0</span>][<span style=\"color: #00af00; text-decoration-color: #00af00\">0</span>]     │\n",
       "├─────────────────────┼───────────────────┼────────────┼───────────────────┤\n",
       "│ batch_normalizatio… │ (<span style=\"color: #00d7ff; text-decoration-color: #00d7ff\">None</span>, <span style=\"color: #00af00; text-decoration-color: #00af00\">64</span>)        │        <span style=\"color: #00af00; text-decoration-color: #00af00\">256</span> │ dense_2[<span style=\"color: #00af00; text-decoration-color: #00af00\">0</span>][<span style=\"color: #00af00; text-decoration-color: #00af00\">0</span>]     │\n",
       "│ (<span style=\"color: #0087ff; text-decoration-color: #0087ff\">BatchNormalizatio…</span> │                   │            │                   │\n",
       "├─────────────────────┼───────────────────┼────────────┼───────────────────┤\n",
       "│ add (<span style=\"color: #0087ff; text-decoration-color: #0087ff\">Add</span>)           │ (<span style=\"color: #00d7ff; text-decoration-color: #00d7ff\">None</span>, <span style=\"color: #00af00; text-decoration-color: #00af00\">64</span>)        │          <span style=\"color: #00af00; text-decoration-color: #00af00\">0</span> │ batch_normalizat… │\n",
       "│                     │                   │            │ re_lu[<span style=\"color: #00af00; text-decoration-color: #00af00\">0</span>][<span style=\"color: #00af00; text-decoration-color: #00af00\">0</span>]       │\n",
       "├─────────────────────┼───────────────────┼────────────┼───────────────────┤\n",
       "│ re_lu_2 (<span style=\"color: #0087ff; text-decoration-color: #0087ff\">ReLU</span>)      │ (<span style=\"color: #00d7ff; text-decoration-color: #00d7ff\">None</span>, <span style=\"color: #00af00; text-decoration-color: #00af00\">64</span>)        │          <span style=\"color: #00af00; text-decoration-color: #00af00\">0</span> │ add[<span style=\"color: #00af00; text-decoration-color: #00af00\">0</span>][<span style=\"color: #00af00; text-decoration-color: #00af00\">0</span>]         │\n",
       "├─────────────────────┼───────────────────┼────────────┼───────────────────┤\n",
       "│ dense_3 (<span style=\"color: #0087ff; text-decoration-color: #0087ff\">Dense</span>)     │ (<span style=\"color: #00d7ff; text-decoration-color: #00d7ff\">None</span>, <span style=\"color: #00af00; text-decoration-color: #00af00\">64</span>)        │      <span style=\"color: #00af00; text-decoration-color: #00af00\">4,160</span> │ re_lu_2[<span style=\"color: #00af00; text-decoration-color: #00af00\">0</span>][<span style=\"color: #00af00; text-decoration-color: #00af00\">0</span>]     │\n",
       "├─────────────────────┼───────────────────┼────────────┼───────────────────┤\n",
       "│ batch_normalizatio… │ (<span style=\"color: #00d7ff; text-decoration-color: #00d7ff\">None</span>, <span style=\"color: #00af00; text-decoration-color: #00af00\">64</span>)        │        <span style=\"color: #00af00; text-decoration-color: #00af00\">256</span> │ dense_3[<span style=\"color: #00af00; text-decoration-color: #00af00\">0</span>][<span style=\"color: #00af00; text-decoration-color: #00af00\">0</span>]     │\n",
       "│ (<span style=\"color: #0087ff; text-decoration-color: #0087ff\">BatchNormalizatio…</span> │                   │            │                   │\n",
       "├─────────────────────┼───────────────────┼────────────┼───────────────────┤\n",
       "│ re_lu_3 (<span style=\"color: #0087ff; text-decoration-color: #0087ff\">ReLU</span>)      │ (<span style=\"color: #00d7ff; text-decoration-color: #00d7ff\">None</span>, <span style=\"color: #00af00; text-decoration-color: #00af00\">64</span>)        │          <span style=\"color: #00af00; text-decoration-color: #00af00\">0</span> │ batch_normalizat… │\n",
       "├─────────────────────┼───────────────────┼────────────┼───────────────────┤\n",
       "│ dense_4 (<span style=\"color: #0087ff; text-decoration-color: #0087ff\">Dense</span>)     │ (<span style=\"color: #00d7ff; text-decoration-color: #00d7ff\">None</span>, <span style=\"color: #00af00; text-decoration-color: #00af00\">64</span>)        │      <span style=\"color: #00af00; text-decoration-color: #00af00\">4,160</span> │ re_lu_3[<span style=\"color: #00af00; text-decoration-color: #00af00\">0</span>][<span style=\"color: #00af00; text-decoration-color: #00af00\">0</span>]     │\n",
       "├─────────────────────┼───────────────────┼────────────┼───────────────────┤\n",
       "│ batch_normalizatio… │ (<span style=\"color: #00d7ff; text-decoration-color: #00d7ff\">None</span>, <span style=\"color: #00af00; text-decoration-color: #00af00\">64</span>)        │        <span style=\"color: #00af00; text-decoration-color: #00af00\">256</span> │ dense_4[<span style=\"color: #00af00; text-decoration-color: #00af00\">0</span>][<span style=\"color: #00af00; text-decoration-color: #00af00\">0</span>]     │\n",
       "│ (<span style=\"color: #0087ff; text-decoration-color: #0087ff\">BatchNormalizatio…</span> │                   │            │                   │\n",
       "├─────────────────────┼───────────────────┼────────────┼───────────────────┤\n",
       "│ add_1 (<span style=\"color: #0087ff; text-decoration-color: #0087ff\">Add</span>)         │ (<span style=\"color: #00d7ff; text-decoration-color: #00d7ff\">None</span>, <span style=\"color: #00af00; text-decoration-color: #00af00\">64</span>)        │          <span style=\"color: #00af00; text-decoration-color: #00af00\">0</span> │ batch_normalizat… │\n",
       "│                     │                   │            │ re_lu_2[<span style=\"color: #00af00; text-decoration-color: #00af00\">0</span>][<span style=\"color: #00af00; text-decoration-color: #00af00\">0</span>]     │\n",
       "├─────────────────────┼───────────────────┼────────────┼───────────────────┤\n",
       "│ re_lu_4 (<span style=\"color: #0087ff; text-decoration-color: #0087ff\">ReLU</span>)      │ (<span style=\"color: #00d7ff; text-decoration-color: #00d7ff\">None</span>, <span style=\"color: #00af00; text-decoration-color: #00af00\">64</span>)        │          <span style=\"color: #00af00; text-decoration-color: #00af00\">0</span> │ add_1[<span style=\"color: #00af00; text-decoration-color: #00af00\">0</span>][<span style=\"color: #00af00; text-decoration-color: #00af00\">0</span>]       │\n",
       "├─────────────────────┼───────────────────┼────────────┼───────────────────┤\n",
       "│ dense_5 (<span style=\"color: #0087ff; text-decoration-color: #0087ff\">Dense</span>)     │ (<span style=\"color: #00d7ff; text-decoration-color: #00d7ff\">None</span>, <span style=\"color: #00af00; text-decoration-color: #00af00\">64</span>)        │      <span style=\"color: #00af00; text-decoration-color: #00af00\">4,160</span> │ re_lu_4[<span style=\"color: #00af00; text-decoration-color: #00af00\">0</span>][<span style=\"color: #00af00; text-decoration-color: #00af00\">0</span>]     │\n",
       "├─────────────────────┼───────────────────┼────────────┼───────────────────┤\n",
       "│ batch_normalizatio… │ (<span style=\"color: #00d7ff; text-decoration-color: #00d7ff\">None</span>, <span style=\"color: #00af00; text-decoration-color: #00af00\">64</span>)        │        <span style=\"color: #00af00; text-decoration-color: #00af00\">256</span> │ dense_5[<span style=\"color: #00af00; text-decoration-color: #00af00\">0</span>][<span style=\"color: #00af00; text-decoration-color: #00af00\">0</span>]     │\n",
       "│ (<span style=\"color: #0087ff; text-decoration-color: #0087ff\">BatchNormalizatio…</span> │                   │            │                   │\n",
       "├─────────────────────┼───────────────────┼────────────┼───────────────────┤\n",
       "│ re_lu_5 (<span style=\"color: #0087ff; text-decoration-color: #0087ff\">ReLU</span>)      │ (<span style=\"color: #00d7ff; text-decoration-color: #00d7ff\">None</span>, <span style=\"color: #00af00; text-decoration-color: #00af00\">64</span>)        │          <span style=\"color: #00af00; text-decoration-color: #00af00\">0</span> │ batch_normalizat… │\n",
       "├─────────────────────┼───────────────────┼────────────┼───────────────────┤\n",
       "│ dense_6 (<span style=\"color: #0087ff; text-decoration-color: #0087ff\">Dense</span>)     │ (<span style=\"color: #00d7ff; text-decoration-color: #00d7ff\">None</span>, <span style=\"color: #00af00; text-decoration-color: #00af00\">64</span>)        │      <span style=\"color: #00af00; text-decoration-color: #00af00\">4,160</span> │ re_lu_5[<span style=\"color: #00af00; text-decoration-color: #00af00\">0</span>][<span style=\"color: #00af00; text-decoration-color: #00af00\">0</span>]     │\n",
       "├─────────────────────┼───────────────────┼────────────┼───────────────────┤\n",
       "│ batch_normalizatio… │ (<span style=\"color: #00d7ff; text-decoration-color: #00d7ff\">None</span>, <span style=\"color: #00af00; text-decoration-color: #00af00\">64</span>)        │        <span style=\"color: #00af00; text-decoration-color: #00af00\">256</span> │ dense_6[<span style=\"color: #00af00; text-decoration-color: #00af00\">0</span>][<span style=\"color: #00af00; text-decoration-color: #00af00\">0</span>]     │\n",
       "│ (<span style=\"color: #0087ff; text-decoration-color: #0087ff\">BatchNormalizatio…</span> │                   │            │                   │\n",
       "├─────────────────────┼───────────────────┼────────────┼───────────────────┤\n",
       "│ add_2 (<span style=\"color: #0087ff; text-decoration-color: #0087ff\">Add</span>)         │ (<span style=\"color: #00d7ff; text-decoration-color: #00d7ff\">None</span>, <span style=\"color: #00af00; text-decoration-color: #00af00\">64</span>)        │          <span style=\"color: #00af00; text-decoration-color: #00af00\">0</span> │ batch_normalizat… │\n",
       "│                     │                   │            │ re_lu_4[<span style=\"color: #00af00; text-decoration-color: #00af00\">0</span>][<span style=\"color: #00af00; text-decoration-color: #00af00\">0</span>]     │\n",
       "├─────────────────────┼───────────────────┼────────────┼───────────────────┤\n",
       "│ re_lu_6 (<span style=\"color: #0087ff; text-decoration-color: #0087ff\">ReLU</span>)      │ (<span style=\"color: #00d7ff; text-decoration-color: #00d7ff\">None</span>, <span style=\"color: #00af00; text-decoration-color: #00af00\">64</span>)        │          <span style=\"color: #00af00; text-decoration-color: #00af00\">0</span> │ add_2[<span style=\"color: #00af00; text-decoration-color: #00af00\">0</span>][<span style=\"color: #00af00; text-decoration-color: #00af00\">0</span>]       │\n",
       "├─────────────────────┼───────────────────┼────────────┼───────────────────┤\n",
       "│ dense_7 (<span style=\"color: #0087ff; text-decoration-color: #0087ff\">Dense</span>)     │ (<span style=\"color: #00d7ff; text-decoration-color: #00d7ff\">None</span>, <span style=\"color: #00af00; text-decoration-color: #00af00\">128</span>)       │      <span style=\"color: #00af00; text-decoration-color: #00af00\">8,320</span> │ re_lu_6[<span style=\"color: #00af00; text-decoration-color: #00af00\">0</span>][<span style=\"color: #00af00; text-decoration-color: #00af00\">0</span>]     │\n",
       "├─────────────────────┼───────────────────┼────────────┼───────────────────┤\n",
       "│ dropout (<span style=\"color: #0087ff; text-decoration-color: #0087ff\">Dropout</span>)   │ (<span style=\"color: #00d7ff; text-decoration-color: #00d7ff\">None</span>, <span style=\"color: #00af00; text-decoration-color: #00af00\">128</span>)       │          <span style=\"color: #00af00; text-decoration-color: #00af00\">0</span> │ dense_7[<span style=\"color: #00af00; text-decoration-color: #00af00\">0</span>][<span style=\"color: #00af00; text-decoration-color: #00af00\">0</span>]     │\n",
       "├─────────────────────┼───────────────────┼────────────┼───────────────────┤\n",
       "│ dense_8 (<span style=\"color: #0087ff; text-decoration-color: #0087ff\">Dense</span>)     │ (<span style=\"color: #00d7ff; text-decoration-color: #00d7ff\">None</span>, <span style=\"color: #00af00; text-decoration-color: #00af00\">1</span>)         │        <span style=\"color: #00af00; text-decoration-color: #00af00\">129</span> │ dropout[<span style=\"color: #00af00; text-decoration-color: #00af00\">0</span>][<span style=\"color: #00af00; text-decoration-color: #00af00\">0</span>]     │\n",
       "└─────────────────────┴───────────────────┴────────────┴───────────────────┘\n",
       "</pre>\n"
      ],
      "text/plain": [
       "┏━━━━━━━━━━━━━━━━━━━━━┳━━━━━━━━━━━━━━━━━━━┳━━━━━━━━━━━━┳━━━━━━━━━━━━━━━━━━━┓\n",
       "┃\u001b[1m \u001b[0m\u001b[1mLayer (type)       \u001b[0m\u001b[1m \u001b[0m┃\u001b[1m \u001b[0m\u001b[1mOutput Shape     \u001b[0m\u001b[1m \u001b[0m┃\u001b[1m \u001b[0m\u001b[1m   Param #\u001b[0m\u001b[1m \u001b[0m┃\u001b[1m \u001b[0m\u001b[1mConnected to     \u001b[0m\u001b[1m \u001b[0m┃\n",
       "┡━━━━━━━━━━━━━━━━━━━━━╇━━━━━━━━━━━━━━━━━━━╇━━━━━━━━━━━━╇━━━━━━━━━━━━━━━━━━━┩\n",
       "│ input_layer         │ (\u001b[38;5;45mNone\u001b[0m, \u001b[38;5;34m17\u001b[0m)        │          \u001b[38;5;34m0\u001b[0m │ -                 │\n",
       "│ (\u001b[38;5;33mInputLayer\u001b[0m)        │                   │            │                   │\n",
       "├─────────────────────┼───────────────────┼────────────┼───────────────────┤\n",
       "│ dense (\u001b[38;5;33mDense\u001b[0m)       │ (\u001b[38;5;45mNone\u001b[0m, \u001b[38;5;34m64\u001b[0m)        │      \u001b[38;5;34m1,152\u001b[0m │ input_layer[\u001b[38;5;34m0\u001b[0m][\u001b[38;5;34m0\u001b[0m] │\n",
       "├─────────────────────┼───────────────────┼────────────┼───────────────────┤\n",
       "│ batch_normalization │ (\u001b[38;5;45mNone\u001b[0m, \u001b[38;5;34m64\u001b[0m)        │        \u001b[38;5;34m256\u001b[0m │ dense[\u001b[38;5;34m0\u001b[0m][\u001b[38;5;34m0\u001b[0m]       │\n",
       "│ (\u001b[38;5;33mBatchNormalizatio…\u001b[0m │                   │            │                   │\n",
       "├─────────────────────┼───────────────────┼────────────┼───────────────────┤\n",
       "│ re_lu (\u001b[38;5;33mReLU\u001b[0m)        │ (\u001b[38;5;45mNone\u001b[0m, \u001b[38;5;34m64\u001b[0m)        │          \u001b[38;5;34m0\u001b[0m │ batch_normalizat… │\n",
       "├─────────────────────┼───────────────────┼────────────┼───────────────────┤\n",
       "│ dense_1 (\u001b[38;5;33mDense\u001b[0m)     │ (\u001b[38;5;45mNone\u001b[0m, \u001b[38;5;34m64\u001b[0m)        │      \u001b[38;5;34m4,160\u001b[0m │ re_lu[\u001b[38;5;34m0\u001b[0m][\u001b[38;5;34m0\u001b[0m]       │\n",
       "├─────────────────────┼───────────────────┼────────────┼───────────────────┤\n",
       "│ batch_normalizatio… │ (\u001b[38;5;45mNone\u001b[0m, \u001b[38;5;34m64\u001b[0m)        │        \u001b[38;5;34m256\u001b[0m │ dense_1[\u001b[38;5;34m0\u001b[0m][\u001b[38;5;34m0\u001b[0m]     │\n",
       "│ (\u001b[38;5;33mBatchNormalizatio…\u001b[0m │                   │            │                   │\n",
       "├─────────────────────┼───────────────────┼────────────┼───────────────────┤\n",
       "│ re_lu_1 (\u001b[38;5;33mReLU\u001b[0m)      │ (\u001b[38;5;45mNone\u001b[0m, \u001b[38;5;34m64\u001b[0m)        │          \u001b[38;5;34m0\u001b[0m │ batch_normalizat… │\n",
       "├─────────────────────┼───────────────────┼────────────┼───────────────────┤\n",
       "│ dense_2 (\u001b[38;5;33mDense\u001b[0m)     │ (\u001b[38;5;45mNone\u001b[0m, \u001b[38;5;34m64\u001b[0m)        │      \u001b[38;5;34m4,160\u001b[0m │ re_lu_1[\u001b[38;5;34m0\u001b[0m][\u001b[38;5;34m0\u001b[0m]     │\n",
       "├─────────────────────┼───────────────────┼────────────┼───────────────────┤\n",
       "│ batch_normalizatio… │ (\u001b[38;5;45mNone\u001b[0m, \u001b[38;5;34m64\u001b[0m)        │        \u001b[38;5;34m256\u001b[0m │ dense_2[\u001b[38;5;34m0\u001b[0m][\u001b[38;5;34m0\u001b[0m]     │\n",
       "│ (\u001b[38;5;33mBatchNormalizatio…\u001b[0m │                   │            │                   │\n",
       "├─────────────────────┼───────────────────┼────────────┼───────────────────┤\n",
       "│ add (\u001b[38;5;33mAdd\u001b[0m)           │ (\u001b[38;5;45mNone\u001b[0m, \u001b[38;5;34m64\u001b[0m)        │          \u001b[38;5;34m0\u001b[0m │ batch_normalizat… │\n",
       "│                     │                   │            │ re_lu[\u001b[38;5;34m0\u001b[0m][\u001b[38;5;34m0\u001b[0m]       │\n",
       "├─────────────────────┼───────────────────┼────────────┼───────────────────┤\n",
       "│ re_lu_2 (\u001b[38;5;33mReLU\u001b[0m)      │ (\u001b[38;5;45mNone\u001b[0m, \u001b[38;5;34m64\u001b[0m)        │          \u001b[38;5;34m0\u001b[0m │ add[\u001b[38;5;34m0\u001b[0m][\u001b[38;5;34m0\u001b[0m]         │\n",
       "├─────────────────────┼───────────────────┼────────────┼───────────────────┤\n",
       "│ dense_3 (\u001b[38;5;33mDense\u001b[0m)     │ (\u001b[38;5;45mNone\u001b[0m, \u001b[38;5;34m64\u001b[0m)        │      \u001b[38;5;34m4,160\u001b[0m │ re_lu_2[\u001b[38;5;34m0\u001b[0m][\u001b[38;5;34m0\u001b[0m]     │\n",
       "├─────────────────────┼───────────────────┼────────────┼───────────────────┤\n",
       "│ batch_normalizatio… │ (\u001b[38;5;45mNone\u001b[0m, \u001b[38;5;34m64\u001b[0m)        │        \u001b[38;5;34m256\u001b[0m │ dense_3[\u001b[38;5;34m0\u001b[0m][\u001b[38;5;34m0\u001b[0m]     │\n",
       "│ (\u001b[38;5;33mBatchNormalizatio…\u001b[0m │                   │            │                   │\n",
       "├─────────────────────┼───────────────────┼────────────┼───────────────────┤\n",
       "│ re_lu_3 (\u001b[38;5;33mReLU\u001b[0m)      │ (\u001b[38;5;45mNone\u001b[0m, \u001b[38;5;34m64\u001b[0m)        │          \u001b[38;5;34m0\u001b[0m │ batch_normalizat… │\n",
       "├─────────────────────┼───────────────────┼────────────┼───────────────────┤\n",
       "│ dense_4 (\u001b[38;5;33mDense\u001b[0m)     │ (\u001b[38;5;45mNone\u001b[0m, \u001b[38;5;34m64\u001b[0m)        │      \u001b[38;5;34m4,160\u001b[0m │ re_lu_3[\u001b[38;5;34m0\u001b[0m][\u001b[38;5;34m0\u001b[0m]     │\n",
       "├─────────────────────┼───────────────────┼────────────┼───────────────────┤\n",
       "│ batch_normalizatio… │ (\u001b[38;5;45mNone\u001b[0m, \u001b[38;5;34m64\u001b[0m)        │        \u001b[38;5;34m256\u001b[0m │ dense_4[\u001b[38;5;34m0\u001b[0m][\u001b[38;5;34m0\u001b[0m]     │\n",
       "│ (\u001b[38;5;33mBatchNormalizatio…\u001b[0m │                   │            │                   │\n",
       "├─────────────────────┼───────────────────┼────────────┼───────────────────┤\n",
       "│ add_1 (\u001b[38;5;33mAdd\u001b[0m)         │ (\u001b[38;5;45mNone\u001b[0m, \u001b[38;5;34m64\u001b[0m)        │          \u001b[38;5;34m0\u001b[0m │ batch_normalizat… │\n",
       "│                     │                   │            │ re_lu_2[\u001b[38;5;34m0\u001b[0m][\u001b[38;5;34m0\u001b[0m]     │\n",
       "├─────────────────────┼───────────────────┼────────────┼───────────────────┤\n",
       "│ re_lu_4 (\u001b[38;5;33mReLU\u001b[0m)      │ (\u001b[38;5;45mNone\u001b[0m, \u001b[38;5;34m64\u001b[0m)        │          \u001b[38;5;34m0\u001b[0m │ add_1[\u001b[38;5;34m0\u001b[0m][\u001b[38;5;34m0\u001b[0m]       │\n",
       "├─────────────────────┼───────────────────┼────────────┼───────────────────┤\n",
       "│ dense_5 (\u001b[38;5;33mDense\u001b[0m)     │ (\u001b[38;5;45mNone\u001b[0m, \u001b[38;5;34m64\u001b[0m)        │      \u001b[38;5;34m4,160\u001b[0m │ re_lu_4[\u001b[38;5;34m0\u001b[0m][\u001b[38;5;34m0\u001b[0m]     │\n",
       "├─────────────────────┼───────────────────┼────────────┼───────────────────┤\n",
       "│ batch_normalizatio… │ (\u001b[38;5;45mNone\u001b[0m, \u001b[38;5;34m64\u001b[0m)        │        \u001b[38;5;34m256\u001b[0m │ dense_5[\u001b[38;5;34m0\u001b[0m][\u001b[38;5;34m0\u001b[0m]     │\n",
       "│ (\u001b[38;5;33mBatchNormalizatio…\u001b[0m │                   │            │                   │\n",
       "├─────────────────────┼───────────────────┼────────────┼───────────────────┤\n",
       "│ re_lu_5 (\u001b[38;5;33mReLU\u001b[0m)      │ (\u001b[38;5;45mNone\u001b[0m, \u001b[38;5;34m64\u001b[0m)        │          \u001b[38;5;34m0\u001b[0m │ batch_normalizat… │\n",
       "├─────────────────────┼───────────────────┼────────────┼───────────────────┤\n",
       "│ dense_6 (\u001b[38;5;33mDense\u001b[0m)     │ (\u001b[38;5;45mNone\u001b[0m, \u001b[38;5;34m64\u001b[0m)        │      \u001b[38;5;34m4,160\u001b[0m │ re_lu_5[\u001b[38;5;34m0\u001b[0m][\u001b[38;5;34m0\u001b[0m]     │\n",
       "├─────────────────────┼───────────────────┼────────────┼───────────────────┤\n",
       "│ batch_normalizatio… │ (\u001b[38;5;45mNone\u001b[0m, \u001b[38;5;34m64\u001b[0m)        │        \u001b[38;5;34m256\u001b[0m │ dense_6[\u001b[38;5;34m0\u001b[0m][\u001b[38;5;34m0\u001b[0m]     │\n",
       "│ (\u001b[38;5;33mBatchNormalizatio…\u001b[0m │                   │            │                   │\n",
       "├─────────────────────┼───────────────────┼────────────┼───────────────────┤\n",
       "│ add_2 (\u001b[38;5;33mAdd\u001b[0m)         │ (\u001b[38;5;45mNone\u001b[0m, \u001b[38;5;34m64\u001b[0m)        │          \u001b[38;5;34m0\u001b[0m │ batch_normalizat… │\n",
       "│                     │                   │            │ re_lu_4[\u001b[38;5;34m0\u001b[0m][\u001b[38;5;34m0\u001b[0m]     │\n",
       "├─────────────────────┼───────────────────┼────────────┼───────────────────┤\n",
       "│ re_lu_6 (\u001b[38;5;33mReLU\u001b[0m)      │ (\u001b[38;5;45mNone\u001b[0m, \u001b[38;5;34m64\u001b[0m)        │          \u001b[38;5;34m0\u001b[0m │ add_2[\u001b[38;5;34m0\u001b[0m][\u001b[38;5;34m0\u001b[0m]       │\n",
       "├─────────────────────┼───────────────────┼────────────┼───────────────────┤\n",
       "│ dense_7 (\u001b[38;5;33mDense\u001b[0m)     │ (\u001b[38;5;45mNone\u001b[0m, \u001b[38;5;34m128\u001b[0m)       │      \u001b[38;5;34m8,320\u001b[0m │ re_lu_6[\u001b[38;5;34m0\u001b[0m][\u001b[38;5;34m0\u001b[0m]     │\n",
       "├─────────────────────┼───────────────────┼────────────┼───────────────────┤\n",
       "│ dropout (\u001b[38;5;33mDropout\u001b[0m)   │ (\u001b[38;5;45mNone\u001b[0m, \u001b[38;5;34m128\u001b[0m)       │          \u001b[38;5;34m0\u001b[0m │ dense_7[\u001b[38;5;34m0\u001b[0m][\u001b[38;5;34m0\u001b[0m]     │\n",
       "├─────────────────────┼───────────────────┼────────────┼───────────────────┤\n",
       "│ dense_8 (\u001b[38;5;33mDense\u001b[0m)     │ (\u001b[38;5;45mNone\u001b[0m, \u001b[38;5;34m1\u001b[0m)         │        \u001b[38;5;34m129\u001b[0m │ dropout[\u001b[38;5;34m0\u001b[0m][\u001b[38;5;34m0\u001b[0m]     │\n",
       "└─────────────────────┴───────────────────┴────────────┴───────────────────┘\n"
      ]
     },
     "metadata": {},
     "output_type": "display_data"
    },
    {
     "data": {
      "text/html": [
       "<pre style=\"white-space:pre;overflow-x:auto;line-height:normal;font-family:Menlo,'DejaVu Sans Mono',consolas,'Courier New',monospace\"><span style=\"font-weight: bold\"> Total params: </span><span style=\"color: #00af00; text-decoration-color: #00af00\">36,353</span> (142.00 KB)\n",
       "</pre>\n"
      ],
      "text/plain": [
       "\u001b[1m Total params: \u001b[0m\u001b[38;5;34m36,353\u001b[0m (142.00 KB)\n"
      ]
     },
     "metadata": {},
     "output_type": "display_data"
    },
    {
     "data": {
      "text/html": [
       "<pre style=\"white-space:pre;overflow-x:auto;line-height:normal;font-family:Menlo,'DejaVu Sans Mono',consolas,'Courier New',monospace\"><span style=\"font-weight: bold\"> Trainable params: </span><span style=\"color: #00af00; text-decoration-color: #00af00\">35,457</span> (138.50 KB)\n",
       "</pre>\n"
      ],
      "text/plain": [
       "\u001b[1m Trainable params: \u001b[0m\u001b[38;5;34m35,457\u001b[0m (138.50 KB)\n"
      ]
     },
     "metadata": {},
     "output_type": "display_data"
    },
    {
     "data": {
      "text/html": [
       "<pre style=\"white-space:pre;overflow-x:auto;line-height:normal;font-family:Menlo,'DejaVu Sans Mono',consolas,'Courier New',monospace\"><span style=\"font-weight: bold\"> Non-trainable params: </span><span style=\"color: #00af00; text-decoration-color: #00af00\">896</span> (3.50 KB)\n",
       "</pre>\n"
      ],
      "text/plain": [
       "\u001b[1m Non-trainable params: \u001b[0m\u001b[38;5;34m896\u001b[0m (3.50 KB)\n"
      ]
     },
     "metadata": {},
     "output_type": "display_data"
    },
    {
     "name": "stdout",
     "output_type": "stream",
     "text": [
      "Epoch 1/20\n"
     ]
    },
    {
     "name": "stderr",
     "output_type": "stream",
     "text": [
      "WARNING: All log messages before absl::InitializeLog() is called are written to STDERR\n",
      "I0000 00:00:1726594602.541878      69 service.cc:145] XLA service 0x78b28000d5d0 initialized for platform CUDA (this does not guarantee that XLA will be used). Devices:\n",
      "I0000 00:00:1726594602.541921      69 service.cc:153]   StreamExecutor device (0): Tesla T4, Compute Capability 7.5\n",
      "I0000 00:00:1726594602.541925      69 service.cc:153]   StreamExecutor device (1): Tesla T4, Compute Capability 7.5\n"
     ]
    },
    {
     "name": "stdout",
     "output_type": "stream",
     "text": [
      "\u001b[1m   69/18746\u001b[0m \u001b[37m━━━━━━━━━━━━━━━━━━━━\u001b[0m \u001b[1m41s\u001b[0m 2ms/step - accuracy: 0.4739 - loss: 0.9820"
     ]
    },
    {
     "name": "stderr",
     "output_type": "stream",
     "text": [
      "I0000 00:00:1726594606.382552      69 device_compiler.h:188] Compiled cluster using XLA!  This line is logged at most once for the lifetime of the process.\n"
     ]
    },
    {
     "name": "stdout",
     "output_type": "stream",
     "text": [
      "\u001b[1m18746/18746\u001b[0m \u001b[32m━━━━━━━━━━━━━━━━━━━━\u001b[0m\u001b[37m\u001b[0m \u001b[1m76s\u001b[0m 4ms/step - accuracy: 0.7189 - loss: 0.5637 - val_accuracy: 0.8351 - val_loss: 0.3607\n",
      "Epoch 2/20\n",
      "\u001b[1m18746/18746\u001b[0m \u001b[32m━━━━━━━━━━━━━━━━━━━━\u001b[0m\u001b[37m\u001b[0m \u001b[1m63s\u001b[0m 3ms/step - accuracy: 0.8363 - loss: 0.3642 - val_accuracy: 0.8801 - val_loss: 0.2738\n",
      "Epoch 3/20\n",
      "\u001b[1m18746/18746\u001b[0m \u001b[32m━━━━━━━━━━━━━━━━━━━━\u001b[0m\u001b[37m\u001b[0m \u001b[1m64s\u001b[0m 3ms/step - accuracy: 0.8699 - loss: 0.2972 - val_accuracy: 0.7457 - val_loss: 0.7900\n",
      "Epoch 4/20\n",
      "\u001b[1m18746/18746\u001b[0m \u001b[32m━━━━━━━━━━━━━━━━━━━━\u001b[0m\u001b[37m\u001b[0m \u001b[1m64s\u001b[0m 3ms/step - accuracy: 0.8967 - loss: 0.2418 - val_accuracy: 0.8908 - val_loss: 0.3009\n",
      "Epoch 5/20\n",
      "\u001b[1m18746/18746\u001b[0m \u001b[32m━━━━━━━━━━━━━━━━━━━━\u001b[0m\u001b[37m\u001b[0m \u001b[1m64s\u001b[0m 3ms/step - accuracy: 0.9159 - loss: 0.2037 - val_accuracy: 0.8522 - val_loss: 0.4437\n",
      "Epoch 6/20\n",
      "\u001b[1m18746/18746\u001b[0m \u001b[32m━━━━━━━━━━━━━━━━━━━━\u001b[0m\u001b[37m\u001b[0m \u001b[1m63s\u001b[0m 3ms/step - accuracy: 0.9283 - loss: 0.1750 - val_accuracy: 0.8535 - val_loss: 0.4755\n",
      "Epoch 7/20\n",
      "\u001b[1m18746/18746\u001b[0m \u001b[32m━━━━━━━━━━━━━━━━━━━━\u001b[0m\u001b[37m\u001b[0m \u001b[1m81s\u001b[0m 3ms/step - accuracy: 0.9360 - loss: 0.1587 - val_accuracy: 0.9411 - val_loss: 0.1471\n",
      "Epoch 8/20\n",
      "\u001b[1m18746/18746\u001b[0m \u001b[32m━━━━━━━━━━━━━━━━━━━━\u001b[0m\u001b[37m\u001b[0m \u001b[1m82s\u001b[0m 3ms/step - accuracy: 0.9430 - loss: 0.1426 - val_accuracy: 0.8626 - val_loss: 0.5189\n",
      "Epoch 9/20\n",
      "\u001b[1m18746/18746\u001b[0m \u001b[32m━━━━━━━━━━━━━━━━━━━━\u001b[0m\u001b[37m\u001b[0m \u001b[1m62s\u001b[0m 3ms/step - accuracy: 0.9474 - loss: 0.1333 - val_accuracy: 0.8907 - val_loss: 0.4745\n",
      "Epoch 10/20\n",
      "\u001b[1m18746/18746\u001b[0m \u001b[32m━━━━━━━━━━━━━━━━━━━━\u001b[0m\u001b[37m\u001b[0m \u001b[1m62s\u001b[0m 3ms/step - accuracy: 0.9535 - loss: 0.1190 - val_accuracy: 0.8185 - val_loss: 0.7202\n",
      "Epoch 11/20\n",
      "\u001b[1m18746/18746\u001b[0m \u001b[32m━━━━━━━━━━━━━━━━━━━━\u001b[0m\u001b[37m\u001b[0m \u001b[1m62s\u001b[0m 3ms/step - accuracy: 0.9575 - loss: 0.1097 - val_accuracy: 0.9247 - val_loss: 0.2014\n",
      "Epoch 12/20\n",
      "\u001b[1m18746/18746\u001b[0m \u001b[32m━━━━━━━━━━━━━━━━━━━━\u001b[0m\u001b[37m\u001b[0m \u001b[1m62s\u001b[0m 3ms/step - accuracy: 0.9602 - loss: 0.1021 - val_accuracy: 0.9571 - val_loss: 0.1134\n",
      "Epoch 13/20\n",
      "\u001b[1m18746/18746\u001b[0m \u001b[32m━━━━━━━━━━━━━━━━━━━━\u001b[0m\u001b[37m\u001b[0m \u001b[1m62s\u001b[0m 3ms/step - accuracy: 0.9628 - loss: 0.0955 - val_accuracy: 0.9426 - val_loss: 0.1536\n",
      "Epoch 14/20\n",
      "\u001b[1m18746/18746\u001b[0m \u001b[32m━━━━━━━━━━━━━━━━━━━━\u001b[0m\u001b[37m\u001b[0m \u001b[1m62s\u001b[0m 3ms/step - accuracy: 0.9647 - loss: 0.0907 - val_accuracy: 0.8106 - val_loss: 0.7435\n",
      "Epoch 15/20\n",
      "\u001b[1m18746/18746\u001b[0m \u001b[32m━━━━━━━━━━━━━━━━━━━━\u001b[0m\u001b[37m\u001b[0m \u001b[1m61s\u001b[0m 3ms/step - accuracy: 0.9676 - loss: 0.0853 - val_accuracy: 0.8064 - val_loss: 0.9760\n",
      "Epoch 16/20\n",
      "\u001b[1m18746/18746\u001b[0m \u001b[32m━━━━━━━━━━━━━━━━━━━━\u001b[0m\u001b[37m\u001b[0m \u001b[1m62s\u001b[0m 3ms/step - accuracy: 0.9683 - loss: 0.0827 - val_accuracy: 0.9121 - val_loss: 0.3150\n",
      "Epoch 17/20\n",
      "\u001b[1m18746/18746\u001b[0m \u001b[32m━━━━━━━━━━━━━━━━━━━━\u001b[0m\u001b[37m\u001b[0m \u001b[1m62s\u001b[0m 3ms/step - accuracy: 0.9696 - loss: 0.0796 - val_accuracy: 0.8945 - val_loss: 0.3680\n",
      "Epoch 18/20\n",
      "\u001b[1m18746/18746\u001b[0m \u001b[32m━━━━━━━━━━━━━━━━━━━━\u001b[0m\u001b[37m\u001b[0m \u001b[1m61s\u001b[0m 3ms/step - accuracy: 0.9712 - loss: 0.0755 - val_accuracy: 0.7876 - val_loss: 1.0959\n",
      "Epoch 19/20\n",
      "\u001b[1m18746/18746\u001b[0m \u001b[32m━━━━━━━━━━━━━━━━━━━━\u001b[0m\u001b[37m\u001b[0m \u001b[1m61s\u001b[0m 3ms/step - accuracy: 0.9724 - loss: 0.0725 - val_accuracy: 0.8124 - val_loss: 0.7221\n",
      "Epoch 20/20\n",
      "\u001b[1m18746/18746\u001b[0m \u001b[32m━━━━━━━━━━━━━━━━━━━━\u001b[0m\u001b[37m\u001b[0m \u001b[1m65s\u001b[0m 3ms/step - accuracy: 0.9737 - loss: 0.0700 - val_accuracy: 0.8504 - val_loss: 1.8731\n",
      "Test loss: 1.8730754852294922\n",
      "Test accuracy: 0.8504432439804077\n"
     ]
    }
   ],
   "source": [
    "import tensorflow as tf\n",
    "from tensorflow.keras.layers import Dense, BatchNormalization, ReLU, Add, Input, Dropout\n",
    "from tensorflow.keras.models import Model\n",
    "from tensorflow.keras.optimizers import Adam\n",
    "\n",
    "def residual_block(x, units):\n",
    "    shortcut = x\n",
    "    \n",
    "    x = Dense(units)(x)\n",
    "    x = BatchNormalization()(x)\n",
    "    x = ReLU()(x)\n",
    "    \n",
    "    x = Dense(units)(x)\n",
    "    x = BatchNormalization()(x)\n",
    "    \n",
    "    x = Add()([x, shortcut])\n",
    "    x = ReLU()(x)\n",
    "    \n",
    "    return x\n",
    "\n",
    "input_shape = (17,)\n",
    "inputs = Input(shape=input_shape)\n",
    "\n",
    "x = Dense(64)(inputs)\n",
    "x = BatchNormalization()(x)\n",
    "x = ReLU()(x)\n",
    "\n",
    "x = residual_block(x, 64)\n",
    "x = residual_block(x, 64)\n",
    "x = residual_block(x, 64)\n",
    "\n",
    "x = Dense(128, activation='relu')(x)\n",
    "x = Dropout(0.5)(x)\n",
    "\n",
    "outputs = Dense(1, activation='sigmoid')(x)\n",
    "\n",
    "model = Model(inputs, outputs)\n",
    "\n",
    "model.compile(optimizer=Adam(learning_rate=0.0001), loss='binary_crossentropy', metrics=['accuracy'])\n",
    "\n",
    "model.summary()\n",
    "\n",
    "history = model.fit(X_train, y_train, epochs=20, validation_data=(X_test, y_test), batch_size=32)\n",
    "\n",
    "score = model.evaluate(X_test, y_test, verbose=0)\n",
    "print(f\"Test loss: {score[0]}\")\n",
    "print(f\"Test accuracy: {score[1]}\")\n"
   ]
  },
  {
   "cell_type": "code",
   "execution_count": 29,
   "id": "4ebc9153",
   "metadata": {
    "execution": {
     "iopub.execute_input": "2024-09-17T17:58:38.236251Z",
     "iopub.status.busy": "2024-09-17T17:58:38.234898Z",
     "iopub.status.idle": "2024-09-17T18:50:20.005478Z",
     "shell.execute_reply": "2024-09-17T18:50:20.004483Z"
    },
    "papermill": {
     "duration": 3103.294951,
     "end_time": "2024-09-17T18:50:20.008172",
     "exception": false,
     "start_time": "2024-09-17T17:58:36.713221",
     "status": "completed"
    },
    "tags": []
   },
   "outputs": [
    {
     "data": {
      "text/html": [
       "<pre style=\"white-space:pre;overflow-x:auto;line-height:normal;font-family:Menlo,'DejaVu Sans Mono',consolas,'Courier New',monospace\"><span style=\"font-weight: bold\">Model: \"functional_3\"</span>\n",
       "</pre>\n"
      ],
      "text/plain": [
       "\u001b[1mModel: \"functional_3\"\u001b[0m\n"
      ]
     },
     "metadata": {},
     "output_type": "display_data"
    },
    {
     "data": {
      "text/html": [
       "<pre style=\"white-space:pre;overflow-x:auto;line-height:normal;font-family:Menlo,'DejaVu Sans Mono',consolas,'Courier New',monospace\">┏━━━━━━━━━━━━━━━━━━━━━━━━━━━━━━━━━┳━━━━━━━━━━━━━━━━━━━━━━━━┳━━━━━━━━━━━━━━━┓\n",
       "┃<span style=\"font-weight: bold\"> Layer (type)                    </span>┃<span style=\"font-weight: bold\"> Output Shape           </span>┃<span style=\"font-weight: bold\">       Param # </span>┃\n",
       "┡━━━━━━━━━━━━━━━━━━━━━━━━━━━━━━━━━╇━━━━━━━━━━━━━━━━━━━━━━━━╇━━━━━━━━━━━━━━━┩\n",
       "│ input_layer_1 (<span style=\"color: #0087ff; text-decoration-color: #0087ff\">InputLayer</span>)      │ (<span style=\"color: #00d7ff; text-decoration-color: #00d7ff\">None</span>, <span style=\"color: #00af00; text-decoration-color: #00af00\">17</span>, <span style=\"color: #00af00; text-decoration-color: #00af00\">1</span>)          │             <span style=\"color: #00af00; text-decoration-color: #00af00\">0</span> │\n",
       "├─────────────────────────────────┼────────────────────────┼───────────────┤\n",
       "│ lstm (<span style=\"color: #0087ff; text-decoration-color: #0087ff\">LSTM</span>)                     │ (<span style=\"color: #00d7ff; text-decoration-color: #00d7ff\">None</span>, <span style=\"color: #00af00; text-decoration-color: #00af00\">17</span>, <span style=\"color: #00af00; text-decoration-color: #00af00\">64</span>)         │        <span style=\"color: #00af00; text-decoration-color: #00af00\">16,896</span> │\n",
       "├─────────────────────────────────┼────────────────────────┼───────────────┤\n",
       "│ lstm_1 (<span style=\"color: #0087ff; text-decoration-color: #0087ff\">LSTM</span>)                   │ (<span style=\"color: #00d7ff; text-decoration-color: #00d7ff\">None</span>, <span style=\"color: #00af00; text-decoration-color: #00af00\">64</span>)             │        <span style=\"color: #00af00; text-decoration-color: #00af00\">33,024</span> │\n",
       "├─────────────────────────────────┼────────────────────────┼───────────────┤\n",
       "│ dense_9 (<span style=\"color: #0087ff; text-decoration-color: #0087ff\">Dense</span>)                 │ (<span style=\"color: #00d7ff; text-decoration-color: #00d7ff\">None</span>, <span style=\"color: #00af00; text-decoration-color: #00af00\">128</span>)            │         <span style=\"color: #00af00; text-decoration-color: #00af00\">8,320</span> │\n",
       "├─────────────────────────────────┼────────────────────────┼───────────────┤\n",
       "│ dropout_1 (<span style=\"color: #0087ff; text-decoration-color: #0087ff\">Dropout</span>)             │ (<span style=\"color: #00d7ff; text-decoration-color: #00d7ff\">None</span>, <span style=\"color: #00af00; text-decoration-color: #00af00\">128</span>)            │             <span style=\"color: #00af00; text-decoration-color: #00af00\">0</span> │\n",
       "├─────────────────────────────────┼────────────────────────┼───────────────┤\n",
       "│ dense_10 (<span style=\"color: #0087ff; text-decoration-color: #0087ff\">Dense</span>)                │ (<span style=\"color: #00d7ff; text-decoration-color: #00d7ff\">None</span>, <span style=\"color: #00af00; text-decoration-color: #00af00\">1</span>)              │           <span style=\"color: #00af00; text-decoration-color: #00af00\">129</span> │\n",
       "└─────────────────────────────────┴────────────────────────┴───────────────┘\n",
       "</pre>\n"
      ],
      "text/plain": [
       "┏━━━━━━━━━━━━━━━━━━━━━━━━━━━━━━━━━┳━━━━━━━━━━━━━━━━━━━━━━━━┳━━━━━━━━━━━━━━━┓\n",
       "┃\u001b[1m \u001b[0m\u001b[1mLayer (type)                   \u001b[0m\u001b[1m \u001b[0m┃\u001b[1m \u001b[0m\u001b[1mOutput Shape          \u001b[0m\u001b[1m \u001b[0m┃\u001b[1m \u001b[0m\u001b[1m      Param #\u001b[0m\u001b[1m \u001b[0m┃\n",
       "┡━━━━━━━━━━━━━━━━━━━━━━━━━━━━━━━━━╇━━━━━━━━━━━━━━━━━━━━━━━━╇━━━━━━━━━━━━━━━┩\n",
       "│ input_layer_1 (\u001b[38;5;33mInputLayer\u001b[0m)      │ (\u001b[38;5;45mNone\u001b[0m, \u001b[38;5;34m17\u001b[0m, \u001b[38;5;34m1\u001b[0m)          │             \u001b[38;5;34m0\u001b[0m │\n",
       "├─────────────────────────────────┼────────────────────────┼───────────────┤\n",
       "│ lstm (\u001b[38;5;33mLSTM\u001b[0m)                     │ (\u001b[38;5;45mNone\u001b[0m, \u001b[38;5;34m17\u001b[0m, \u001b[38;5;34m64\u001b[0m)         │        \u001b[38;5;34m16,896\u001b[0m │\n",
       "├─────────────────────────────────┼────────────────────────┼───────────────┤\n",
       "│ lstm_1 (\u001b[38;5;33mLSTM\u001b[0m)                   │ (\u001b[38;5;45mNone\u001b[0m, \u001b[38;5;34m64\u001b[0m)             │        \u001b[38;5;34m33,024\u001b[0m │\n",
       "├─────────────────────────────────┼────────────────────────┼───────────────┤\n",
       "│ dense_9 (\u001b[38;5;33mDense\u001b[0m)                 │ (\u001b[38;5;45mNone\u001b[0m, \u001b[38;5;34m128\u001b[0m)            │         \u001b[38;5;34m8,320\u001b[0m │\n",
       "├─────────────────────────────────┼────────────────────────┼───────────────┤\n",
       "│ dropout_1 (\u001b[38;5;33mDropout\u001b[0m)             │ (\u001b[38;5;45mNone\u001b[0m, \u001b[38;5;34m128\u001b[0m)            │             \u001b[38;5;34m0\u001b[0m │\n",
       "├─────────────────────────────────┼────────────────────────┼───────────────┤\n",
       "│ dense_10 (\u001b[38;5;33mDense\u001b[0m)                │ (\u001b[38;5;45mNone\u001b[0m, \u001b[38;5;34m1\u001b[0m)              │           \u001b[38;5;34m129\u001b[0m │\n",
       "└─────────────────────────────────┴────────────────────────┴───────────────┘\n"
      ]
     },
     "metadata": {},
     "output_type": "display_data"
    },
    {
     "data": {
      "text/html": [
       "<pre style=\"white-space:pre;overflow-x:auto;line-height:normal;font-family:Menlo,'DejaVu Sans Mono',consolas,'Courier New',monospace\"><span style=\"font-weight: bold\"> Total params: </span><span style=\"color: #00af00; text-decoration-color: #00af00\">58,369</span> (228.00 KB)\n",
       "</pre>\n"
      ],
      "text/plain": [
       "\u001b[1m Total params: \u001b[0m\u001b[38;5;34m58,369\u001b[0m (228.00 KB)\n"
      ]
     },
     "metadata": {},
     "output_type": "display_data"
    },
    {
     "data": {
      "text/html": [
       "<pre style=\"white-space:pre;overflow-x:auto;line-height:normal;font-family:Menlo,'DejaVu Sans Mono',consolas,'Courier New',monospace\"><span style=\"font-weight: bold\"> Trainable params: </span><span style=\"color: #00af00; text-decoration-color: #00af00\">58,369</span> (228.00 KB)\n",
       "</pre>\n"
      ],
      "text/plain": [
       "\u001b[1m Trainable params: \u001b[0m\u001b[38;5;34m58,369\u001b[0m (228.00 KB)\n"
      ]
     },
     "metadata": {},
     "output_type": "display_data"
    },
    {
     "data": {
      "text/html": [
       "<pre style=\"white-space:pre;overflow-x:auto;line-height:normal;font-family:Menlo,'DejaVu Sans Mono',consolas,'Courier New',monospace\"><span style=\"font-weight: bold\"> Non-trainable params: </span><span style=\"color: #00af00; text-decoration-color: #00af00\">0</span> (0.00 B)\n",
       "</pre>\n"
      ],
      "text/plain": [
       "\u001b[1m Non-trainable params: \u001b[0m\u001b[38;5;34m0\u001b[0m (0.00 B)\n"
      ]
     },
     "metadata": {},
     "output_type": "display_data"
    },
    {
     "name": "stdout",
     "output_type": "stream",
     "text": [
      "Epoch 1/20\n",
      "\u001b[1m18746/18746\u001b[0m \u001b[32m━━━━━━━━━━━━━━━━━━━━\u001b[0m\u001b[37m\u001b[0m \u001b[1m147s\u001b[0m 8ms/step - accuracy: 0.7807 - loss: 0.4550 - val_accuracy: 0.9347 - val_loss: 0.1690\n",
      "Epoch 2/20\n",
      "\u001b[1m18746/18746\u001b[0m \u001b[32m━━━━━━━━━━━━━━━━━━━━\u001b[0m\u001b[37m\u001b[0m \u001b[1m142s\u001b[0m 8ms/step - accuracy: 0.9416 - loss: 0.1470 - val_accuracy: 0.9689 - val_loss: 0.0758\n",
      "Epoch 3/20\n",
      "\u001b[1m18746/18746\u001b[0m \u001b[32m━━━━━━━━━━━━━━━━━━━━\u001b[0m\u001b[37m\u001b[0m \u001b[1m203s\u001b[0m 8ms/step - accuracy: 0.9755 - loss: 0.0640 - val_accuracy: 0.9905 - val_loss: 0.0274\n",
      "Epoch 4/20\n",
      "\u001b[1m18746/18746\u001b[0m \u001b[32m━━━━━━━━━━━━━━━━━━━━\u001b[0m\u001b[37m\u001b[0m \u001b[1m143s\u001b[0m 8ms/step - accuracy: 0.9894 - loss: 0.0305 - val_accuracy: 0.9938 - val_loss: 0.0203\n",
      "Epoch 5/20\n",
      "\u001b[1m18746/18746\u001b[0m \u001b[32m━━━━━━━━━━━━━━━━━━━━\u001b[0m\u001b[37m\u001b[0m \u001b[1m204s\u001b[0m 8ms/step - accuracy: 0.9935 - loss: 0.0195 - val_accuracy: 0.9956 - val_loss: 0.0135\n",
      "Epoch 6/20\n",
      "\u001b[1m18746/18746\u001b[0m \u001b[32m━━━━━━━━━━━━━━━━━━━━\u001b[0m\u001b[37m\u001b[0m \u001b[1m145s\u001b[0m 8ms/step - accuracy: 0.9952 - loss: 0.0144 - val_accuracy: 0.9981 - val_loss: 0.0061\n",
      "Epoch 7/20\n",
      "\u001b[1m18746/18746\u001b[0m \u001b[32m━━━━━━━━━━━━━━━━━━━━\u001b[0m\u001b[37m\u001b[0m \u001b[1m202s\u001b[0m 8ms/step - accuracy: 0.9966 - loss: 0.0105 - val_accuracy: 0.9948 - val_loss: 0.0110\n",
      "Epoch 8/20\n",
      "\u001b[1m18746/18746\u001b[0m \u001b[32m━━━━━━━━━━━━━━━━━━━━\u001b[0m\u001b[37m\u001b[0m \u001b[1m144s\u001b[0m 8ms/step - accuracy: 0.9972 - loss: 0.0091 - val_accuracy: 0.9989 - val_loss: 0.0031\n",
      "Epoch 9/20\n",
      "\u001b[1m18746/18746\u001b[0m \u001b[32m━━━━━━━━━━━━━━━━━━━━\u001b[0m\u001b[37m\u001b[0m \u001b[1m144s\u001b[0m 8ms/step - accuracy: 0.9976 - loss: 0.0074 - val_accuracy: 0.9989 - val_loss: 0.0033\n",
      "Epoch 10/20\n",
      "\u001b[1m18746/18746\u001b[0m \u001b[32m━━━━━━━━━━━━━━━━━━━━\u001b[0m\u001b[37m\u001b[0m \u001b[1m144s\u001b[0m 8ms/step - accuracy: 0.9981 - loss: 0.0062 - val_accuracy: 0.9993 - val_loss: 0.0021\n",
      "Epoch 11/20\n",
      "\u001b[1m18746/18746\u001b[0m \u001b[32m━━━━━━━━━━━━━━━━━━━━\u001b[0m\u001b[37m\u001b[0m \u001b[1m146s\u001b[0m 8ms/step - accuracy: 0.9984 - loss: 0.0053 - val_accuracy: 0.9993 - val_loss: 0.0022\n",
      "Epoch 12/20\n",
      "\u001b[1m18746/18746\u001b[0m \u001b[32m━━━━━━━━━━━━━━━━━━━━\u001b[0m\u001b[37m\u001b[0m \u001b[1m145s\u001b[0m 8ms/step - accuracy: 0.9985 - loss: 0.0052 - val_accuracy: 0.9992 - val_loss: 0.0023\n",
      "Epoch 13/20\n",
      "\u001b[1m18746/18746\u001b[0m \u001b[32m━━━━━━━━━━━━━━━━━━━━\u001b[0m\u001b[37m\u001b[0m \u001b[1m145s\u001b[0m 8ms/step - accuracy: 0.9986 - loss: 0.0044 - val_accuracy: 0.9993 - val_loss: 0.0020\n",
      "Epoch 14/20\n",
      "\u001b[1m18746/18746\u001b[0m \u001b[32m━━━━━━━━━━━━━━━━━━━━\u001b[0m\u001b[37m\u001b[0m \u001b[1m145s\u001b[0m 8ms/step - accuracy: 0.9989 - loss: 0.0037 - val_accuracy: 0.9992 - val_loss: 0.0026\n",
      "Epoch 15/20\n",
      "\u001b[1m18746/18746\u001b[0m \u001b[32m━━━━━━━━━━━━━━━━━━━━\u001b[0m\u001b[37m\u001b[0m \u001b[1m145s\u001b[0m 8ms/step - accuracy: 0.9990 - loss: 0.0031 - val_accuracy: 0.9996 - val_loss: 0.0013\n",
      "Epoch 16/20\n",
      "\u001b[1m18746/18746\u001b[0m \u001b[32m━━━━━━━━━━━━━━━━━━━━\u001b[0m\u001b[37m\u001b[0m \u001b[1m145s\u001b[0m 8ms/step - accuracy: 0.9990 - loss: 0.0032 - val_accuracy: 0.9997 - val_loss: 0.0012\n",
      "Epoch 17/20\n",
      "\u001b[1m18746/18746\u001b[0m \u001b[32m━━━━━━━━━━━━━━━━━━━━\u001b[0m\u001b[37m\u001b[0m \u001b[1m144s\u001b[0m 8ms/step - accuracy: 0.9992 - loss: 0.0028 - val_accuracy: 0.9973 - val_loss: 0.0071\n",
      "Epoch 18/20\n",
      "\u001b[1m18746/18746\u001b[0m \u001b[32m━━━━━━━━━━━━━━━━━━━━\u001b[0m\u001b[37m\u001b[0m \u001b[1m145s\u001b[0m 8ms/step - accuracy: 0.9993 - loss: 0.0025 - val_accuracy: 0.9994 - val_loss: 0.0021\n",
      "Epoch 19/20\n",
      "\u001b[1m18746/18746\u001b[0m \u001b[32m━━━━━━━━━━━━━━━━━━━━\u001b[0m\u001b[37m\u001b[0m \u001b[1m146s\u001b[0m 8ms/step - accuracy: 0.9992 - loss: 0.0028 - val_accuracy: 0.9997 - val_loss: 0.0012\n",
      "Epoch 20/20\n",
      "\u001b[1m18746/18746\u001b[0m \u001b[32m━━━━━━━━━━━━━━━━━━━━\u001b[0m\u001b[37m\u001b[0m \u001b[1m145s\u001b[0m 8ms/step - accuracy: 0.9993 - loss: 0.0025 - val_accuracy: 0.9996 - val_loss: 0.0014\n",
      "Test loss: 0.0013659485848620534\n",
      "Test accuracy: 0.9996249079704285\n"
     ]
    }
   ],
   "source": [
    "import tensorflow as tf\n",
    "from tensorflow.keras.layers import LSTM, Dense, Dropout, Input\n",
    "from tensorflow.keras.models import Model\n",
    "from tensorflow.keras.optimizers import Adam\n",
    "\n",
    "input_shape = (17, 1)  \n",
    "inputs = Input(shape=input_shape)\n",
    "\n",
    "\n",
    "x = LSTM(64, return_sequences=True)(inputs)  \n",
    "x = LSTM(64)(x)  \n",
    "\n",
    "\n",
    "x = Dense(128, activation='relu')(x)\n",
    "x = Dropout(0.5)(x)\n",
    "\n",
    "outputs = Dense(1, activation='sigmoid')(x)\n",
    "\n",
    "model = Model(inputs, outputs)\n",
    "\n",
    "model.compile(optimizer=Adam(learning_rate=0.0001), loss='binary_crossentropy', metrics=['accuracy'])\n",
    "\n",
    "model.summary()\n",
    "\n",
    "history = model.fit(X_train, y_train, epochs=20, validation_data=(X_test, y_test), batch_size=32)\n",
    "\n",
    "score = model.evaluate(X_test, y_test, verbose=0)\n",
    "print(f\"Test loss: {score[0]}\")\n",
    "print(f\"Test accuracy: {score[1]}\")\n"
   ]
  },
  {
   "cell_type": "code",
   "execution_count": 30,
   "id": "492d1fdd",
   "metadata": {
    "execution": {
     "iopub.execute_input": "2024-09-17T18:50:30.442131Z",
     "iopub.status.busy": "2024-09-17T18:50:30.440776Z",
     "iopub.status.idle": "2024-09-17T18:50:30.446743Z",
     "shell.execute_reply": "2024-09-17T18:50:30.445832Z"
    },
    "papermill": {
     "duration": 5.264798,
     "end_time": "2024-09-17T18:50:30.449030",
     "exception": false,
     "start_time": "2024-09-17T18:50:25.184232",
     "status": "completed"
    },
    "tags": []
   },
   "outputs": [
    {
     "name": "stdout",
     "output_type": "stream",
     "text": [
      "999786\n",
      "599871\n",
      "399915\n"
     ]
    }
   ],
   "source": [
    "print(len(All_Observation))\n",
    "print(len(X_train))\n",
    "print(len(X_test))"
   ]
  },
  {
   "cell_type": "code",
   "execution_count": 31,
   "id": "1349cc95",
   "metadata": {
    "execution": {
     "iopub.execute_input": "2024-09-17T18:50:40.810665Z",
     "iopub.status.busy": "2024-09-17T18:50:40.810290Z",
     "iopub.status.idle": "2024-09-17T18:51:29.599503Z",
     "shell.execute_reply": "2024-09-17T18:51:29.598572Z"
    },
    "papermill": {
     "duration": 59.131975,
     "end_time": "2024-09-17T18:51:34.696855",
     "exception": false,
     "start_time": "2024-09-17T18:50:35.564880",
     "status": "completed"
    },
    "tags": []
   },
   "outputs": [
    {
     "name": "stdout",
     "output_type": "stream",
     "text": [
      "Accuracy List : [0.7212357625995524, 0.8087643624270158, 0.873070527487091, 0.8998162109448258, 0.9517847542602803, 0.973346836202693, 0.9847192528412287, 0.9978095345260868, 0.9983571508945651, 0.9997149394246277, 0.9997399447382569, 0.9997424452696198, 0.9997424452696198]\n",
      "Recall List : [0.8614344209440289, 0.7329604075315966, 0.7009285530049006, 0.7379014057260769, 0.9041220660304359, 0.9247565772504514, 0.9904968403404695, 0.9979204281661078, 0.9977108589115296, 0.9993874129481558, 0.999468016507609, 0.9994760768635543, 0.9994760768635543]\n",
      "Precision List : [0.5312729911912668, 0.6771868158055435, 0.8642674697118777, 0.9238306675412483, 0.9382130549700559, 0.9885914194376707, 0.9614135834826353, 0.9950331125827815, 0.9969956424733998, 0.9996936126296099, 0.9996936373310974, 0.9996936398010271, 0.9996936398010271]\n"
     ]
    },
    {
     "data": {
      "image/png": "[encoded data removed]",
      "text/plain": [
       "<Figure size 640x480 with 1 Axes>"
      ]
     },
     "metadata": {},
     "output_type": "display_data"
    }
   ],
   "source": [
    "from sklearn import tree\n",
    "from sklearn import metrics\n",
    "\n",
    "max_depth_vals = [2,3,4,5,6,7,8,9,10,13,15,17,20]\n",
    "accuracytrain_list=[]\n",
    "accuracytest_list=[]\n",
    "RecallTrain_list=[]\n",
    "RecallTest_list=[]\n",
    "PrecisionTrain_list=[]\n",
    "PrecisionTest_list=[]\n",
    "for i in range(0,len(max_depth_vals)):\n",
    "\n",
    "    decision_tree = tree.DecisionTreeClassifier(max_depth=max_depth_vals[i], random_state=4,\n",
    "                                               min_samples_split=20, min_samples_leaf=10)\n",
    "    decision_tree.fit(X_train,y_train)\n",
    "    ytrain_pred = decision_tree.predict(X_train)\n",
    "    accuracy_train = metrics.accuracy_score(y_train, ytrain_pred)\n",
    "    recall_train = metrics.recall_score(y_train, ytrain_pred)\n",
    "    precison_train = metrics.precision_score(y_train, ytrain_pred)\n",
    "    accuracytrain_list.append(accuracy_train)\n",
    "    RecallTrain_list.append(recall_train)\n",
    "    PrecisionTrain_list.append(precison_train)\n",
    "    ytest_pred = decision_tree.predict(X_test)\n",
    "    accuracy_test = metrics.accuracy_score(y_test, ytest_pred)\n",
    "    recall_test = metrics.recall_score(y_test, ytest_pred)\n",
    "    precision_test = metrics.precision_score(y_test, ytest_pred)\n",
    "    accuracytest_list.append(accuracy_test)\n",
    "    RecallTest_list.append(recall_test)\n",
    "    PrecisionTest_list.append(precision_test)\n",
    "\n",
    "fig = plt.figure()\n",
    "ax = plt.axes()\n",
    "line1, = ax.plot(max_depth_vals,accuracytrain_list,color = 'red', linewidth = 7, label='Accuracy training set')\n",
    "line2, = ax.plot(max_depth_vals,accuracytest_list,color = 'blue' ,label='Accuracy test set')\n",
    "line3, = ax.plot(max_depth_vals,RecallTrain_list,color = 'green' , linewidth = 7, label='Recall training set')\n",
    "line4, = ax.plot(max_depth_vals,RecallTest_list,color = 'black' ,label='Recall test set')\n",
    "line5, = ax.plot(max_depth_vals,PrecisionTrain_list,color = 'orange' , linewidth = 7, label='Precision training set')\n",
    "line6, = ax.plot(max_depth_vals,PrecisionTest_list,color = 'navy' ,label='Precision test set')\n",
    "plt.legend(handles=[line1, line2,line3,line4,line5,line6])\n",
    "plt.title(\"Changes for accuracy, recall and precision metrics by increasing max_depth for DecisionTreeClassifier\")\n",
    "plt.xlabel(\"Tree depth (max_depth)\")\n",
    "plt.ylabel(\"Accuracy and Recall and Precision\")\n",
    "\n",
    "\n",
    "print(\"Accuracy List :\",accuracytest_list)\n",
    "print(\"Recall List :\",RecallTest_list)\n",
    "print(\"Precision List :\",PrecisionTest_list)\n",
    "plt.show()"
   ]
  },
  {
   "cell_type": "code",
   "execution_count": 32,
   "id": "7ecd84c6",
   "metadata": {
    "execution": {
     "iopub.execute_input": "2024-09-17T18:51:44.964308Z",
     "iopub.status.busy": "2024-09-17T18:51:44.963931Z",
     "iopub.status.idle": "2024-09-17T18:51:48.571046Z",
     "shell.execute_reply": "2024-09-17T18:51:48.570018Z"
    },
    "papermill": {
     "duration": 8.706964,
     "end_time": "2024-09-17T18:51:48.573242",
     "exception": false,
     "start_time": "2024-09-17T18:51:39.866278",
     "status": "completed"
    },
    "tags": []
   },
   "outputs": [
    {
     "name": "stdout",
     "output_type": "stream",
     "text": [
      "Accuracy on test set: 0.98\n",
      "Accuracy on test set: 0.98\n",
      "Features in order of importance:\n",
      "Age\n",
      "Color\n",
      "Gender\n",
      "Diameter\n",
      "EyePosition\n",
      "Trial\n",
      "POG\n",
      "PupilPosition\n",
      "PupilSize\n",
      "Export End Trial Time [ms]\n",
      "Category Right\n",
      "Stimulus\n",
      "Export Start Trial Time [ms]\n",
      "Category Group\n",
      "Category Left\n",
      "GazeVector\n",
      "Index\n"
     ]
    }
   ],
   "source": [
    "\n",
    "from sklearn import tree\n",
    "\n",
    "\n",
    "decision_tree = tree.DecisionTreeClassifier(max_depth = 8, random_state=7) # Choose tree depth\n",
    "decision_tree.fit(X_train,y_train)\n",
    "y_trainpred=decision_tree.predict(X_train)\n",
    "y_testpred=decision_tree.predict(X_test)\n",
    "\n",
    "from sklearn import metrics\n",
    "print(\"Accuracy on test set:\",np.round(metrics.accuracy_score(y_train, y_trainpred),2))\n",
    "print(\"Accuracy on test set:\",np.round(metrics.accuracy_score(y_test, y_testpred),2))\n",
    "\n",
    "feature_importances_dict = {}\n",
    "for i, name in enumerate(X_names): feature_importances_dict.update({name : decision_tree.feature_importances_[i]})\n",
    "\n",
    "feature_importances_sorted = dict(sorted(feature_importances_dict.items(), key=lambda x:x[1], reverse=True))\n",
    "print('Features in order of importance:')\n",
    "for key in feature_importances_sorted:\n",
    "    print(key)\n"
   ]
  },
  {
   "cell_type": "code",
   "execution_count": 33,
   "id": "81da59c6",
   "metadata": {
    "execution": {
     "iopub.execute_input": "2024-09-17T18:51:58.814637Z",
     "iopub.status.busy": "2024-09-17T18:51:58.814234Z",
     "iopub.status.idle": "2024-09-17T18:51:58.818532Z",
     "shell.execute_reply": "2024-09-17T18:51:58.817628Z"
    },
    "papermill": {
     "duration": 5.136039,
     "end_time": "2024-09-17T18:51:58.820679",
     "exception": false,
     "start_time": "2024-09-17T18:51:53.684640",
     "status": "completed"
    },
    "tags": []
   },
   "outputs": [],
   "source": [
    "### Random Forest Classifier"
   ]
  },
  {
   "cell_type": "code",
   "execution_count": 34,
   "id": "56406171",
   "metadata": {
    "execution": {
     "iopub.execute_input": "2024-09-17T18:52:09.148721Z",
     "iopub.status.busy": "2024-09-17T18:52:09.148048Z",
     "iopub.status.idle": "2024-09-17T18:52:09.153761Z",
     "shell.execute_reply": "2024-09-17T18:52:09.152836Z"
    },
    "papermill": {
     "duration": 5.172673,
     "end_time": "2024-09-17T18:52:09.155752",
     "exception": false,
     "start_time": "2024-09-17T18:52:03.983079",
     "status": "completed"
    },
    "tags": []
   },
   "outputs": [],
   "source": [
    "# import numpy as np\n",
    "# import matplotlib.pyplot as plt\n",
    "# from sklearn.model_selection import cross_val_score\n",
    "# from sklearn.ensemble import RandomForestClassifier\n",
    "# from sklearn import tree\n",
    "\n",
    "# max_depth_vals = [2, 3, 4, 5, 6, 7, 8, 9, 10, 20]\n",
    "# n_estimators_vals = [10, 100]\n",
    "# mean_accuracy_store = []\n",
    "# sd_accuracy_store = []\n",
    "# k = 20\n",
    "\n",
    "# for value in n_estimators_vals:\n",
    "#     mean_accuracy_cv = []\n",
    "#     sd_cv = []\n",
    "#     for val in max_depth_vals:\n",
    "#         forest = RandomForestClassifier(n_estimators=value, bootstrap=True, max_features=\"sqrt\", \n",
    "#                                         criterion='gini', max_depth=val, random_state=42, oob_score=False)\n",
    "#         cv_scores = cross_val_score(forest, X, y, cv=k)\n",
    "#         avg = np.mean(cv_scores)\n",
    "#         sd = np.std(cv_scores, ddof=1)  # ddof=1 for sample standard deviation\n",
    "#         mean_accuracy_cv.append(avg)\n",
    "#         sd_cv.append(sd)\n",
    "#     mean_accuracy_store.append(mean_accuracy_cv)\n",
    "#     sd_accuracy_store.append(sd_cv)\n",
    "\n",
    "# fig, ax = plt.subplots()\n",
    "# line2, = ax.plot(max_depth_vals, mean_accuracy_store[0], color='black', label='10 trees')\n",
    "# line3, = ax.plot(max_depth_vals, mean_accuracy_store[1], color='red', label='100 trees')\n",
    "\n",
    "# mean_accuracy_cv = []\n",
    "# for val in max_depth_vals:\n",
    "#     decision_tree = tree.DecisionTreeClassifier(max_depth=val, random_state=42)\n",
    "#     cv_scores = cross_val_score(decision_tree, X, y, cv=k)\n",
    "#     avg = np.mean(cv_scores)\n",
    "#     mean_accuracy_cv.append(avg)\n",
    "\n",
    "# line1, = ax.plot(max_depth_vals, mean_accuracy_cv, color='green', label='1 tree')\n",
    "\n",
    "# plt.legend(handles=[line1, line2, line3])\n",
    "# plt.xlabel(\"Tree depth\")\n",
    "# plt.ylabel(\"Mean accuracy\")\n",
    "# plt.title(\"Model Performance vs. Tree Depth\")\n",
    "# plt.show()\n"
   ]
  },
  {
   "cell_type": "code",
   "execution_count": 35,
   "id": "97707d35",
   "metadata": {
    "execution": {
     "iopub.execute_input": "2024-09-17T18:52:19.341300Z",
     "iopub.status.busy": "2024-09-17T18:52:19.340937Z",
     "iopub.status.idle": "2024-09-17T18:52:19.347155Z",
     "shell.execute_reply": "2024-09-17T18:52:19.346276Z"
    },
    "papermill": {
     "duration": 5.105785,
     "end_time": "2024-09-17T18:52:19.349020",
     "exception": false,
     "start_time": "2024-09-17T18:52:14.243235",
     "status": "completed"
    },
    "tags": []
   },
   "outputs": [],
   "source": [
    "# from sklearn.svm import SVC\n",
    "# from sklearn import metrics\n",
    "# import matplotlib.pyplot as plt\n",
    "\n",
    "# # Define the range of hyperparameters to test\n",
    "# C_vals = [ 0.1, 1, 10, 100, 1000]  # Regularization parameter for SVM\n",
    "# kernel_types = ['linear', 'poly', 'rbf', 'sigmoid']  # Types of kernels to use\n",
    "\n",
    "# accuracytrain_list = []\n",
    "# accuracytest_list = []\n",
    "# RecallTrain_list = []\n",
    "# RecallTest_list = []\n",
    "# PrecisionTrain_list = []\n",
    "# PrecisionTest_list = []\n",
    "\n",
    "# for kernel in kernel_types:\n",
    "#     for C in C_vals:\n",
    "#         svm = SVC(C=C, kernel=kernel, random_state=4)\n",
    "#         svm.fit(X_train, y_train)\n",
    "\n",
    "#         # Training set\n",
    "#         ytrain_pred = svm.predict(X_train)\n",
    "#         accuracy_train = metrics.accuracy_score(y_train, ytrain_pred)\n",
    "#         recall_train = metrics.recall_score(y_train, ytrain_pred)\n",
    "#         precision_train = metrics.precision_score(y_train, ytrain_pred)\n",
    "#         accuracytrain_list.append(accuracy_train)\n",
    "#         RecallTrain_list.append(recall_train)\n",
    "#         PrecisionTrain_list.append(precision_train)\n",
    "\n",
    "#         # Test set\n",
    "#         ytest_pred = svm.predict(X_test)\n",
    "#         accuracy_test = metrics.accuracy_score(y_test, ytest_pred)\n",
    "#         recall_test = metrics.recall_score(y_test, ytest_pred)\n",
    "#         precision_test = metrics.precision_score(y_test, ytest_pred)\n",
    "#         accuracytest_list.append(accuracy_test)\n",
    "#         RecallTest_list.append(recall_test)\n",
    "#         PrecisionTest_list.append(precision_test)\n",
    "\n",
    "# # Plot accuracy, recall, and precision as a function of C and kernel type\n",
    "# fig, ax = plt.subplots(figsize=(14, 7))\n",
    "\n",
    "# # Plot accuracy\n",
    "# line1, = ax.plot(accuracytrain_list, color='red', linewidth=2, label='Accuracy training set')\n",
    "# line2, = ax.plot(accuracytest_list, color='blue', label='Accuracy test set')\n",
    "\n",
    "# # Plot recall\n",
    "# line3, = ax.plot(RecallTrain_list, color='green', linewidth=2, label='Recall training set')\n",
    "# line4, = ax.plot(RecallTest_list, color='black', label='Recall test set')\n",
    "\n",
    "# # Plot precision\n",
    "# line5, = ax.plot(PrecisionTrain_list, color='orange', linewidth=2, label='Precision training set')\n",
    "# line6, = ax.plot(PrecisionTest_list, color='navy', label='Precision test set')\n",
    "\n",
    "# ax.legend(handles=[line1, line2, line3, line4, line5, line6])\n",
    "# ax.set_title(\"Changes for accuracy, recall, and precision metrics by hyperparameter tuning for SVM\")\n",
    "# ax.set_xlabel(\"Parameter Index\")\n",
    "# ax.set_ylabel(\"Accuracy, Recall, and Precision\")\n",
    "\n",
    "# plt.show()\n",
    "\n",
    "# # Print metrics\n",
    "# print(\"Accuracy List:\", accuracytest_list)\n",
    "# print(\"Recall List:\", RecallTest_list)\n",
    "# print(\"Precision List:\", PrecisionTest_list)\n"
   ]
  },
  {
   "cell_type": "code",
   "execution_count": 36,
   "id": "37804d27",
   "metadata": {
    "execution": {
     "iopub.execute_input": "2024-09-17T18:52:29.553905Z",
     "iopub.status.busy": "2024-09-17T18:52:29.553206Z",
     "iopub.status.idle": "2024-09-17T18:52:29.558198Z",
     "shell.execute_reply": "2024-09-17T18:52:29.557277Z"
    },
    "papermill": {
     "duration": 5.154571,
     "end_time": "2024-09-17T18:52:29.560270",
     "exception": false,
     "start_time": "2024-09-17T18:52:24.405699",
     "status": "completed"
    },
    "tags": []
   },
   "outputs": [],
   "source": [
    "# from sklearn.svm import SVC\n",
    "# from sklearn import metrics\n",
    "\n",
    "# # Initialize and train the SVM classifier\n",
    "# svm_classifier = SVC(kernel='linear', random_state=7) # You can also try other kernels such as 'rbf'\n",
    "# svm_classifier.fit(X_train, y_train)\n",
    "\n",
    "# # Make predictions\n",
    "# y_trainpred_svm = svm_classifier.predict(X_train)\n",
    "# y_testpred_svm = svm_classifier.predict(X_test)\n",
    "\n",
    "# # Print accuracy\n",
    "# print(\"SVM Accuracy on training set:\", np.round(metrics.accuracy_score(y_train, y_trainpred_svm), 2))\n",
    "# print(\"SVM Accuracy on test set:\", np.round(metrics.accuracy_score(y_test, y_testpred_svm), 2))\n",
    "\n",
    "# # Feature importances for SVM are not available directly; you need to use other methods for interpretation.\n"
   ]
  },
  {
   "cell_type": "code",
   "execution_count": 37,
   "id": "542afa7e",
   "metadata": {
    "execution": {
     "iopub.execute_input": "2024-09-17T18:52:39.809769Z",
     "iopub.status.busy": "2024-09-17T18:52:39.809128Z",
     "iopub.status.idle": "2024-09-17T18:52:39.813799Z",
     "shell.execute_reply": "2024-09-17T18:52:39.812889Z"
    },
    "papermill": {
     "duration": 5.12551,
     "end_time": "2024-09-17T18:52:39.815675",
     "exception": false,
     "start_time": "2024-09-17T18:52:34.690165",
     "status": "completed"
    },
    "tags": []
   },
   "outputs": [],
   "source": [
    "# from sklearn.neighbors import KNeighborsClassifier\n",
    "# from sklearn import metrics\n",
    "\n",
    "# # Initialize and train the k-NN classifier\n",
    "# knn_classifier = KNeighborsClassifier(n_neighbors=5) # You can adjust the number of neighbors\n",
    "# knn_classifier.fit(X_train, y_train)\n",
    "\n",
    "# # Make predictions\n",
    "# y_trainpred_knn = knn_classifier.predict(X_train)\n",
    "# y_testpred_knn = knn_classifier.predict(X_test)\n",
    "\n",
    "# # Print accuracy\n",
    "# print(\"k-NN Accuracy on training set:\", np.round(metrics.accuracy_score(y_train, y_trainpred_knn), 2))\n",
    "# print(\"k-NN Accuracy on test set:\", np.round(metrics.accuracy_score(y_test, y_testpred_knn), 2))\n",
    "\n",
    "# # Feature importances for k-NN are not available directly; you need to use other methods for interpretation.\n"
   ]
  },
  {
   "cell_type": "code",
   "execution_count": 38,
   "id": "d5407e23",
   "metadata": {
    "execution": {
     "iopub.execute_input": "2024-09-17T18:52:50.012181Z",
     "iopub.status.busy": "2024-09-17T18:52:50.011769Z",
     "iopub.status.idle": "2024-09-17T18:52:50.016637Z",
     "shell.execute_reply": "2024-09-17T18:52:50.015764Z"
    },
    "papermill": {
     "duration": 5.110232,
     "end_time": "2024-09-17T18:52:50.018563",
     "exception": false,
     "start_time": "2024-09-17T18:52:44.908331",
     "status": "completed"
    },
    "tags": []
   },
   "outputs": [],
   "source": [
    "# from sklearn.neighbors import KNeighborsClassifier\n",
    "# from sklearn import metrics\n",
    "\n",
    "# knn_classifier = KNeighborsClassifier(n_neighbors=5)  \n",
    "# knn_classifier.fit(X_train, y_train)\n",
    "\n",
    "# y_trainpred_knn = knn_classifier.predict(X_train)\n",
    "# y_testpred_knn = knn_classifier.predict(X_test)\n",
    "\n",
    "# print(\"k-NN Accuracy on training set:\", np.round(metrics.accuracy_score(y_train, y_trainpred_knn), 2))\n",
    "# print(\"k-NN Accuracy on test set:\", np.round(metrics.accuracy_score(y_test, y_testpred_knn), 2))\n",
    "\n",
    "# print(\"k-NN Confusion Matrix:\")\n",
    "# print(metrics.confusion_matrix(y_test, y_testpred_knn))\n",
    "\n",
    "# print(\"k-NN Classification Report:\")\n",
    "# print(metrics.classification_report(y_test, y_testpred_knn, target_names=y_names))\n"
   ]
  },
  {
   "cell_type": "code",
   "execution_count": 39,
   "id": "6df96555",
   "metadata": {
    "execution": {
     "iopub.execute_input": "2024-09-17T18:53:00.267384Z",
     "iopub.status.busy": "2024-09-17T18:53:00.266381Z",
     "iopub.status.idle": "2024-09-17T18:53:00.271347Z",
     "shell.execute_reply": "2024-09-17T18:53:00.270609Z"
    },
    "papermill": {
     "duration": 5.171516,
     "end_time": "2024-09-17T18:53:00.273388",
     "exception": false,
     "start_time": "2024-09-17T18:52:55.101872",
     "status": "completed"
    },
    "tags": []
   },
   "outputs": [],
   "source": [
    "# from sklearn.svm import SVC\n",
    "# from sklearn import metrics\n",
    "\n",
    "# # Initialize and train the SVM classifier\n",
    "# svm_classifier = SVC(kernel='linear', random_state=2)  # You can try different kernels like 'rbf' for non-linear classification\n",
    "# svm_classifier.fit(X_train, y_train)\n",
    "\n",
    "# # Make predictions\n",
    "# y_trainpred_svm = svm_classifier.predict(X_train)\n",
    "# y_testpred_svm = svm_classifier.predict(X_test)\n",
    "\n",
    "# # Print accuracy\n",
    "# print(\"SVM Accuracy on training set:\", np.round(metrics.accuracy_score(y_train, y_trainpred_svm), 2))\n",
    "# print(\"SVM Accuracy on test set:\", np.round(metrics.accuracy_score(y_test, y_testpred_svm), 2))\n",
    "\n",
    "# # Optionally, you can print the confusion matrix and classification report\n",
    "# print(\"SVM Confusion Matrix:\")\n",
    "# print(metrics.confusion_matrix(y_test, y_testpred_svm))\n",
    "\n",
    "# print(\"SVM Classification Report:\")\n",
    "# print(metrics.classification_report(y_test, y_testpred_svm, target_names=y_names))\n"
   ]
  },
  {
   "cell_type": "code",
   "execution_count": 40,
   "id": "8a90675d",
   "metadata": {
    "execution": {
     "iopub.execute_input": "2024-09-17T18:53:10.525073Z",
     "iopub.status.busy": "2024-09-17T18:53:10.524274Z",
     "iopub.status.idle": "2024-09-17T18:53:10.547889Z",
     "shell.execute_reply": "2024-09-17T18:53:10.547007Z"
    },
    "papermill": {
     "duration": 5.099836,
     "end_time": "2024-09-17T18:53:10.550070",
     "exception": false,
     "start_time": "2024-09-17T18:53:05.450234",
     "status": "completed"
    },
    "tags": []
   },
   "outputs": [
    {
     "data": {
      "text/html": [
       "<div>\n",
       "<style scoped>\n",
       "    .dataframe tbody tr th:only-of-type {\n",
       "        vertical-align: middle;\n",
       "    }\n",
       "\n",
       "    .dataframe tbody tr th {\n",
       "        vertical-align: top;\n",
       "    }\n",
       "\n",
       "    .dataframe thead th {\n",
       "        text-align: right;\n",
       "    }\n",
       "</style>\n",
       "<table border=\"1\" class=\"dataframe\">\n",
       "  <thead>\n",
       "    <tr style=\"text-align: right;\">\n",
       "      <th></th>\n",
       "      <th>Trial</th>\n",
       "      <th>Stimulus</th>\n",
       "      <th>Export Start Trial Time [ms]</th>\n",
       "      <th>Export End Trial Time [ms]</th>\n",
       "      <th>Color</th>\n",
       "      <th>Category Group</th>\n",
       "      <th>Category Right</th>\n",
       "      <th>Category Left</th>\n",
       "      <th>Gender</th>\n",
       "      <th>Age</th>\n",
       "      <th>Diameter</th>\n",
       "      <th>POG</th>\n",
       "      <th>GazeVector</th>\n",
       "      <th>PupilSize</th>\n",
       "      <th>EyePosition</th>\n",
       "      <th>PupilPosition</th>\n",
       "      <th>Index</th>\n",
       "    </tr>\n",
       "  </thead>\n",
       "  <tbody>\n",
       "    <tr>\n",
       "      <th>597471</th>\n",
       "      <td>21</td>\n",
       "      <td>88</td>\n",
       "      <td>0.0</td>\n",
       "      <td>16294.917</td>\n",
       "      <td>29</td>\n",
       "      <td>0</td>\n",
       "      <td>1.0</td>\n",
       "      <td>1.0</td>\n",
       "      <td>0</td>\n",
       "      <td>10.6</td>\n",
       "      <td>8.687500</td>\n",
       "      <td>1400.0</td>\n",
       "      <td>0.000000</td>\n",
       "      <td>52.6875</td>\n",
       "      <td>966.0</td>\n",
       "      <td>2196.0</td>\n",
       "      <td>76.0</td>\n",
       "    </tr>\n",
       "    <tr>\n",
       "      <th>1167581</th>\n",
       "      <td>1</td>\n",
       "      <td>0</td>\n",
       "      <td>0.0</td>\n",
       "      <td>52037.655</td>\n",
       "      <td>22</td>\n",
       "      <td>0</td>\n",
       "      <td>1.0</td>\n",
       "      <td>1.0</td>\n",
       "      <td>1</td>\n",
       "      <td>8.9</td>\n",
       "      <td>7.203125</td>\n",
       "      <td>807.0</td>\n",
       "      <td>0.000000</td>\n",
       "      <td>62.1250</td>\n",
       "      <td>1374.0</td>\n",
       "      <td>1814.0</td>\n",
       "      <td>64.0</td>\n",
       "    </tr>\n",
       "    <tr>\n",
       "      <th>830252</th>\n",
       "      <td>6</td>\n",
       "      <td>114</td>\n",
       "      <td>0.0</td>\n",
       "      <td>2885.714</td>\n",
       "      <td>7</td>\n",
       "      <td>0</td>\n",
       "      <td>1.0</td>\n",
       "      <td>1.0</td>\n",
       "      <td>0</td>\n",
       "      <td>8.9</td>\n",
       "      <td>5.417969</td>\n",
       "      <td>2902.0</td>\n",
       "      <td>0.000000</td>\n",
       "      <td>48.6250</td>\n",
       "      <td>1180.0</td>\n",
       "      <td>2498.0</td>\n",
       "      <td>11.0</td>\n",
       "    </tr>\n",
       "    <tr>\n",
       "      <th>917535</th>\n",
       "      <td>17</td>\n",
       "      <td>74</td>\n",
       "      <td>0.0</td>\n",
       "      <td>2901.119</td>\n",
       "      <td>4</td>\n",
       "      <td>0</td>\n",
       "      <td>1.0</td>\n",
       "      <td>1.0</td>\n",
       "      <td>0</td>\n",
       "      <td>7.1</td>\n",
       "      <td>7.132812</td>\n",
       "      <td>809.0</td>\n",
       "      <td>-1.887695</td>\n",
       "      <td>52.6875</td>\n",
       "      <td>1130.0</td>\n",
       "      <td>2784.0</td>\n",
       "      <td>11.0</td>\n",
       "    </tr>\n",
       "    <tr>\n",
       "      <th>296381</th>\n",
       "      <td>19</td>\n",
       "      <td>135</td>\n",
       "      <td>0.0</td>\n",
       "      <td>48836.351</td>\n",
       "      <td>27</td>\n",
       "      <td>0</td>\n",
       "      <td>1.0</td>\n",
       "      <td>1.0</td>\n",
       "      <td>0</td>\n",
       "      <td>4.2</td>\n",
       "      <td>7.132812</td>\n",
       "      <td>1630.0</td>\n",
       "      <td>0.000000</td>\n",
       "      <td>52.6875</td>\n",
       "      <td>1408.0</td>\n",
       "      <td>2792.0</td>\n",
       "      <td>148.0</td>\n",
       "    </tr>\n",
       "  </tbody>\n",
       "</table>\n",
       "</div>"
      ],
      "text/plain": [
       "         Trial  Stimulus  Export Start Trial Time [ms]  \\\n",
       "597471      21        88                           0.0   \n",
       "1167581      1         0                           0.0   \n",
       "830252       6       114                           0.0   \n",
       "917535      17        74                           0.0   \n",
       "296381      19       135                           0.0   \n",
       "\n",
       "         Export End Trial Time [ms]  Color  Category Group  Category Right  \\\n",
       "597471                    16294.917     29               0             1.0   \n",
       "1167581                   52037.655     22               0             1.0   \n",
       "830252                     2885.714      7               0             1.0   \n",
       "917535                     2901.119      4               0             1.0   \n",
       "296381                    48836.351     27               0             1.0   \n",
       "\n",
       "         Category Left  Gender   Age  Diameter     POG  GazeVector  PupilSize  \\\n",
       "597471             1.0       0  10.6  8.687500  1400.0    0.000000    52.6875   \n",
       "1167581            1.0       1   8.9  7.203125   807.0    0.000000    62.1250   \n",
       "830252             1.0       0   8.9  5.417969  2902.0    0.000000    48.6250   \n",
       "917535             1.0       0   7.1  7.132812   809.0   -1.887695    52.6875   \n",
       "296381             1.0       0   4.2  7.132812  1630.0    0.000000    52.6875   \n",
       "\n",
       "         EyePosition  PupilPosition  Index  \n",
       "597471         966.0         2196.0   76.0  \n",
       "1167581       1374.0         1814.0   64.0  \n",
       "830252        1180.0         2498.0   11.0  \n",
       "917535        1130.0         2784.0   11.0  \n",
       "296381        1408.0         2792.0  148.0  "
      ]
     },
     "execution_count": 40,
     "metadata": {},
     "output_type": "execute_result"
    }
   ],
   "source": [
    "X_train.head()"
   ]
  },
  {
   "cell_type": "code",
   "execution_count": 41,
   "id": "a5c4e023",
   "metadata": {
    "execution": {
     "iopub.execute_input": "2024-09-17T18:53:20.689155Z",
     "iopub.status.busy": "2024-09-17T18:53:20.688781Z",
     "iopub.status.idle": "2024-09-17T18:53:20.962493Z",
     "shell.execute_reply": "2024-09-17T18:53:20.961698Z"
    },
    "papermill": {
     "duration": 5.33944,
     "end_time": "2024-09-17T18:53:20.964851",
     "exception": false,
     "start_time": "2024-09-17T18:53:15.625411",
     "status": "completed"
    },
    "tags": []
   },
   "outputs": [],
   "source": [
    "from sklearn.preprocessing import StandardScaler\n",
    "scaler = StandardScaler()\n",
    "X_train = scaler.fit_transform(X_train)\n",
    "X_test = scaler.transform(X_test)"
   ]
  },
  {
   "cell_type": "code",
   "execution_count": 42,
   "id": "c71e2912",
   "metadata": {
    "execution": {
     "iopub.execute_input": "2024-09-17T18:53:31.123429Z",
     "iopub.status.busy": "2024-09-17T18:53:31.122564Z",
     "iopub.status.idle": "2024-09-17T18:53:31.228217Z",
     "shell.execute_reply": "2024-09-17T18:53:31.227254Z"
    },
    "papermill": {
     "duration": 5.186616,
     "end_time": "2024-09-17T18:53:31.230220",
     "exception": false,
     "start_time": "2024-09-17T18:53:26.043604",
     "status": "completed"
    },
    "tags": []
   },
   "outputs": [
    {
     "data": {
      "text/html": [
       "<style>#sk-container-id-1 {color: black;background-color: white;}#sk-container-id-1 pre{padding: 0;}#sk-container-id-1 div.sk-toggleable {background-color: white;}#sk-container-id-1 label.sk-toggleable__label {cursor: pointer;display: block;width: 100%;margin-bottom: 0;padding: 0.3em;box-sizing: border-box;text-align: center;}#sk-container-id-1 label.sk-toggleable__label-arrow:before {content: \"▸\";float: left;margin-right: 0.25em;color: #696969;}#sk-container-id-1 label.sk-toggleable__label-arrow:hover:before {color: black;}#sk-container-id-1 div.sk-estimator:hover label.sk-toggleable__label-arrow:before {color: black;}#sk-container-id-1 div.sk-toggleable__content {max-height: 0;max-width: 0;overflow: hidden;text-align: left;background-color: #f0f8ff;}#sk-container-id-1 div.sk-toggleable__content pre {margin: 0.2em;color: black;border-radius: 0.25em;background-color: #f0f8ff;}#sk-container-id-1 input.sk-toggleable__control:checked~div.sk-toggleable__content {max-height: 200px;max-width: 100%;overflow: auto;}#sk-container-id-1 input.sk-toggleable__control:checked~label.sk-toggleable__label-arrow:before {content: \"▾\";}#sk-container-id-1 div.sk-estimator input.sk-toggleable__control:checked~label.sk-toggleable__label {background-color: #d4ebff;}#sk-container-id-1 div.sk-label input.sk-toggleable__control:checked~label.sk-toggleable__label {background-color: #d4ebff;}#sk-container-id-1 input.sk-hidden--visually {border: 0;clip: rect(1px 1px 1px 1px);clip: rect(1px, 1px, 1px, 1px);height: 1px;margin: -1px;overflow: hidden;padding: 0;position: absolute;width: 1px;}#sk-container-id-1 div.sk-estimator {font-family: monospace;background-color: #f0f8ff;border: 1px dotted black;border-radius: 0.25em;box-sizing: border-box;margin-bottom: 0.5em;}#sk-container-id-1 div.sk-estimator:hover {background-color: #d4ebff;}#sk-container-id-1 div.sk-parallel-item::after {content: \"\";width: 100%;border-bottom: 1px solid gray;flex-grow: 1;}#sk-container-id-1 div.sk-label:hover label.sk-toggleable__label {background-color: #d4ebff;}#sk-container-id-1 div.sk-serial::before {content: \"\";position: absolute;border-left: 1px solid gray;box-sizing: border-box;top: 0;bottom: 0;left: 50%;z-index: 0;}#sk-container-id-1 div.sk-serial {display: flex;flex-direction: column;align-items: center;background-color: white;padding-right: 0.2em;padding-left: 0.2em;position: relative;}#sk-container-id-1 div.sk-item {position: relative;z-index: 1;}#sk-container-id-1 div.sk-parallel {display: flex;align-items: stretch;justify-content: center;background-color: white;position: relative;}#sk-container-id-1 div.sk-item::before, #sk-container-id-1 div.sk-parallel-item::before {content: \"\";position: absolute;border-left: 1px solid gray;box-sizing: border-box;top: 0;bottom: 0;left: 50%;z-index: -1;}#sk-container-id-1 div.sk-parallel-item {display: flex;flex-direction: column;z-index: 1;position: relative;background-color: white;}#sk-container-id-1 div.sk-parallel-item:first-child::after {align-self: flex-end;width: 50%;}#sk-container-id-1 div.sk-parallel-item:last-child::after {align-self: flex-start;width: 50%;}#sk-container-id-1 div.sk-parallel-item:only-child::after {width: 0;}#sk-container-id-1 div.sk-dashed-wrapped {border: 1px dashed gray;margin: 0 0.4em 0.5em 0.4em;box-sizing: border-box;padding-bottom: 0.4em;background-color: white;}#sk-container-id-1 div.sk-label label {font-family: monospace;font-weight: bold;display: inline-block;line-height: 1.2em;}#sk-container-id-1 div.sk-label-container {text-align: center;}#sk-container-id-1 div.sk-container {/* jupyter's `normalize.less` sets `[hidden] { display: none; }` but bootstrap.min.css set `[hidden] { display: none !important; }` so we also need the `!important` here to be able to override the default hidden behavior on the sphinx rendered scikit-learn.org. See: https://github.com/scikit-learn/scikit-learn/issues/21755 */display: inline-block !important;position: relative;}#sk-container-id-1 div.sk-text-repr-fallback {display: none;}</style><div id=\"sk-container-id-1\" class=\"sk-top-container\"><div class=\"sk-text-repr-fallback\"><pre>KNeighborsClassifier(n_neighbors=3)</pre><b>In a Jupyter environment, please rerun this cell to show the HTML representation or trust the notebook. <br />On GitHub, the HTML representation is unable to render, please try loading this page with nbviewer.org.</b></div><div class=\"sk-container\" hidden><div class=\"sk-item\"><div class=\"sk-estimator sk-toggleable\"><input class=\"sk-toggleable__control sk-hidden--visually\" id=\"sk-estimator-id-1\" type=\"checkbox\" checked><label for=\"sk-estimator-id-1\" class=\"sk-toggleable__label sk-toggleable__label-arrow\">KNeighborsClassifier</label><div class=\"sk-toggleable__content\"><pre>KNeighborsClassifier(n_neighbors=3)</pre></div></div></div></div></div>"
      ],
      "text/plain": [
       "KNeighborsClassifier(n_neighbors=3)"
      ]
     },
     "execution_count": 42,
     "metadata": {},
     "output_type": "execute_result"
    }
   ],
   "source": [
    "from sklearn.neighbors import KNeighborsClassifier\n",
    "knn = KNeighborsClassifier(n_neighbors=3)\n",
    "knn.fit(X_train, y_train)"
   ]
  },
  {
   "cell_type": "code",
   "execution_count": 43,
   "id": "570b2cc6",
   "metadata": {
    "execution": {
     "iopub.execute_input": "2024-09-17T18:53:41.496062Z",
     "iopub.status.busy": "2024-09-17T18:53:41.495675Z",
     "iopub.status.idle": "2024-09-17T18:53:41.500218Z",
     "shell.execute_reply": "2024-09-17T18:53:41.499319Z"
    },
    "papermill": {
     "duration": 5.108123,
     "end_time": "2024-09-17T18:53:41.502045",
     "exception": false,
     "start_time": "2024-09-17T18:53:36.393922",
     "status": "completed"
    },
    "tags": []
   },
   "outputs": [],
   "source": [
    "from sklearn.metrics import accuracy_score, classification_report, confusion_matrix"
   ]
  },
  {
   "cell_type": "code",
   "execution_count": 44,
   "id": "1b3415b9",
   "metadata": {
    "execution": {
     "iopub.execute_input": "2024-09-17T18:53:51.794474Z",
     "iopub.status.busy": "2024-09-17T18:53:51.793619Z",
     "iopub.status.idle": "2024-09-17T19:01:55.814669Z",
     "shell.execute_reply": "2024-09-17T19:01:55.813865Z"
    },
    "papermill": {
     "duration": 489.160904,
     "end_time": "2024-09-17T19:01:55.816997",
     "exception": false,
     "start_time": "2024-09-17T18:53:46.656093",
     "status": "completed"
    },
    "tags": []
   },
   "outputs": [],
   "source": [
    "y_pred = knn.predict(X_test)"
   ]
  },
  {
   "cell_type": "code",
   "execution_count": 45,
   "id": "e9776ddc",
   "metadata": {
    "execution": {
     "iopub.execute_input": "2024-09-17T19:02:06.044640Z",
     "iopub.status.busy": "2024-09-17T19:02:06.044248Z",
     "iopub.status.idle": "2024-09-17T19:02:06.058951Z",
     "shell.execute_reply": "2024-09-17T19:02:06.057939Z"
    },
    "papermill": {
     "duration": 5.160638,
     "end_time": "2024-09-17T19:02:06.061066",
     "exception": false,
     "start_time": "2024-09-17T19:02:00.900428",
     "status": "completed"
    },
    "tags": []
   },
   "outputs": [
    {
     "name": "stdout",
     "output_type": "stream",
     "text": [
      "Accuracy: 0.9972594176262456\n"
     ]
    }
   ],
   "source": [
    "accuracy = accuracy_score(y_test, y_pred)\n",
    "print(\"Accuracy:\", accuracy)"
   ]
  },
  {
   "cell_type": "code",
   "execution_count": 46,
   "id": "c7535845",
   "metadata": {
    "execution": {
     "iopub.execute_input": "2024-09-17T19:02:16.271902Z",
     "iopub.status.busy": "2024-09-17T19:02:16.271470Z",
     "iopub.status.idle": "2024-09-17T19:03:56.035536Z",
     "shell.execute_reply": "2024-09-17T19:03:56.034428Z"
    },
    "papermill": {
     "duration": 109.986673,
     "end_time": "2024-09-17T19:04:01.133883",
     "exception": false,
     "start_time": "2024-09-17T19:02:11.147210",
     "status": "completed"
    },
    "tags": []
   },
   "outputs": [
    {
     "name": "stdout",
     "output_type": "stream",
     "text": [
      "Accuracy: 0.9999899978745483\n",
      "Classification Report:\n",
      "              precision    recall  f1-score   support\n",
      "\n",
      "          TD       1.00      1.00      1.00    275851\n",
      "         ASD       1.00      1.00      1.00    124064\n",
      "\n",
      "    accuracy                           1.00    399915\n",
      "   macro avg       1.00      1.00      1.00    399915\n",
      "weighted avg       1.00      1.00      1.00    399915\n",
      "\n",
      "Confusion Matrix:\n",
      "[[275848      3]\n",
      " [     1 124063]]\n"
     ]
    }
   ],
   "source": [
    "from sklearn.ensemble import RandomForestClassifier\n",
    "\n",
    "\n",
    "\n",
    "rf_model = RandomForestClassifier(n_estimators=100, random_state=42)\n",
    "\n",
    "rf_model.fit(X_train, y_train)\n",
    "\n",
    "y_pred = rf_model.predict(X_test)\n",
    "accuracy = accuracy_score(y_test, y_pred)\n",
    "print(f\"Accuracy: {accuracy}\")\n",
    "\n",
    "print(\"Classification Report:\")\n",
    "print(classification_report(y_test, y_pred, target_names=['TD', 'ASD']))\n",
    "\n",
    "print(\"Confusion Matrix:\")\n",
    "print(confusion_matrix(y_test, y_pred))\n"
   ]
  }
 ],
 "metadata": {
  "kaggle": {
   "accelerator": "nvidiaTeslaT4",
   "dataSources": [
    {
     "datasetId": 3838623,
     "sourceId": 6650424,
     "sourceType": "datasetVersion"
    }
   ],
   "dockerImageVersionId": 30762,
   "isGpuEnabled": true,
   "isInternetEnabled": true,
   "language": "python",
   "sourceType": "notebook"
  },
  "kernelspec": {
   "display_name": "Python 3",
   "language": "python",
   "name": "python3"
  },
  "language_info": {
   "codemirror_mode": {
    "name": "ipython",
    "version": 3
   },
   "file_extension": ".py",
   "mimetype": "text/x-python",
   "name": "python",
   "nbconvert_exporter": "python",
   "pygments_lexer": "ipython3",
   "version": "3.10.14"
  },
  "papermill": {
   "default_parameters": {},
   "duration": 5381.026293,
   "end_time": "2024-09-17T19:04:09.094678",
   "environment_variables": {},
   "exception": null,
   "input_path": "__notebook__.ipynb",
   "output_path": "__notebook__.ipynb",
   "parameters": {},
   "start_time": "2024-09-17T17:34:28.068385",
   "version": "2.6.0"
  }
 },
 "nbformat": 4,
 "nbformat_minor": 5
}
