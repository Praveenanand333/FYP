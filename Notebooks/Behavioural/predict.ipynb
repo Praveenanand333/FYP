{
 "cells": [
  {
   "cell_type": "code",
   "execution_count": 3,
   "metadata": {},
   "outputs": [
    {
     "name": "stderr",
     "output_type": "stream",
     "text": [
      "WARNING:absl:Compiled the loaded model, but the compiled metrics have yet to be built. `model.compile_metrics` will be empty until you train or evaluate the model.\n"
     ]
    },
    {
     "name": "stdout",
     "output_type": "stream",
     "text": [
      "\u001b[1m1/1\u001b[0m \u001b[32m━━━━━━━━━━━━━━━━━━━━\u001b[0m\u001b[37m\u001b[0m \u001b[1m0s\u001b[0m 45ms/step\n",
      "Predicted class: 0\n"
     ]
    }
   ],
   "source": [
    "import tensorflow as tf\n",
    "import numpy as np\n",
    "from sklearn.preprocessing import StandardScaler\n",
    "import pandas as pd\n",
    "\n",
    "model = tf.keras.models.load_model(\"../../Models/AQ10/ann.h5\")\n",
    "raw_data = {\n",
    "    'A1_Score': 1, 'A2_Score': 1, 'A3_Score': 1, 'A4_Score': 1, 'A5_Score': 0,\n",
    "    'A6_Score': 0, 'A7_Score': 1, 'A8_Score': 1, 'A9_Score': 0, 'A10_Score': 0,\n",
    "    'age': 26.0, 'gender': 0, 'ethnicity': 'Asian', 'jaundice': 0, 'relation': 'Self'\n",
    "}\n",
    "\n",
    "df = pd.DataFrame([raw_data])\n",
    "ethnicity_categories = ['ethnicity_Asian', 'ethnicity_Black', 'ethnicity_Hispanic', 'ethnicity_Latino', \n",
    "                        'ethnicity_Middle Eastern', 'ethnicity_Others', 'ethnicity_Pasifika', \n",
    "                        'ethnicity_South Asian', 'ethnicity_Turkish', 'ethnicity_White-European']\n",
    "\n",
    "relation_categories = ['relation_Health care professional', 'relation_Others', 'relation_Parent', \n",
    "                       'relation_Relative', 'relation_Self']\n",
    "\n",
    "for category in ethnicity_categories:\n",
    "    df[category] = 0\n",
    "for category in relation_categories:\n",
    "    df[category] = 0\n",
    "df[f\"ethnicity_{raw_data['ethnicity']}\"] = 1\n",
    "df[f\"relation_{raw_data['relation']}\"] = 1\n",
    "\n",
    "df.drop(columns=['ethnicity', 'relation'], inplace=True)\n",
    "scaler = StandardScaler()\n",
    "df_scaled = scaler.fit_transform(df)\n",
    "input_data = np.array(df_scaled)\n",
    "input_data = input_data.reshape(1, -1) \n",
    "prediction = model.predict(input_data)\n",
    "predicted_class = np.argmax(prediction, axis=1)\n",
    "print(f'Predicted class: {predicted_class[0]}')\n"
   ]
  }
 ],
 "metadata": {
  "kernelspec": {
   "display_name": "Python 3",
   "language": "python",
   "name": "python3"
  },
  "language_info": {
   "codemirror_mode": {
    "name": "ipython",
    "version": 3
   },
   "file_extension": ".py",
   "mimetype": "text/x-python",
   "name": "python",
   "nbconvert_exporter": "python",
   "pygments_lexer": "ipython3",
   "version": "3.12.6"
  }
 },
 "nbformat": 4,
 "nbformat_minor": 2
}
